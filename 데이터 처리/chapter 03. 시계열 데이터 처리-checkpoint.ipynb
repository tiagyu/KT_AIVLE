{
 "cells": [
  {
   "cell_type": "markdown",
   "metadata": {
    "id": "w8C_iSSpYnVO"
   },
   "source": [
    "# **시계열 데이터 처리**\n"
   ]
  },
  {
   "cell_type": "markdown",
   "metadata": {
    "id": "PgakzyhIgKhS"
   },
   "source": [
    "## **1.환경준비**"
   ]
  },
  {
   "cell_type": "markdown",
   "metadata": {
    "id": "fajHvynEg-Ap"
   },
   "source": [
    "### **(1) 라이브러리 불러오기**"
   ]
  },
  {
   "cell_type": "code",
   "execution_count": 4,
   "metadata": {
    "executionInfo": {
     "elapsed": 3690,
     "status": "ok",
     "timestamp": 1675384964390,
     "user": {
      "displayName": "한기영",
      "userId": "13049187003176135487"
     },
     "user_tz": -540
    },
    "id": "Wj4uhna8sPHm"
   },
   "outputs": [],
   "source": [
    "import pandas as pd\n",
    "import numpy as np\n",
    "import matplotlib.pyplot as plt\n",
    "import seaborn as sns"
   ]
  },
  {
   "cell_type": "markdown",
   "metadata": {
    "id": "oeEZKCu-2lWM"
   },
   "source": [
    "### **(2) 데이터 준비**"
   ]
  },
  {
   "cell_type": "markdown",
   "metadata": {
    "id": "wGTPGMHcvfyh"
   },
   "source": [
    "* 원본데이터 불러오기"
   ]
  },
  {
   "cell_type": "code",
   "execution_count": 5,
   "metadata": {
    "executionInfo": {
     "elapsed": 243,
     "status": "ok",
     "timestamp": 1675385173985,
     "user": {
      "displayName": "한기영",
      "userId": "13049187003176135487"
     },
     "user_tz": -540
    },
    "id": "qE9uXpyO6XGq"
   },
   "outputs": [],
   "source": [
    "sales = pd.read_csv(\"https://raw.githubusercontent.com/DA4BAM/dataset/master/ts_sales_simple.csv\")\n",
    "products = pd.read_csv(\"https://raw.githubusercontent.com/DA4BAM/dataset/master/ts_product_master.csv\")"
   ]
  },
  {
   "cell_type": "markdown",
   "metadata": {
    "id": "fn--T7LIviVA"
   },
   "source": [
    "* 다룰 데이터 만들기\n",
    "    * 아래 코드를 이해하지 못해도 상관 없습니다.\n",
    "    * 그냥 실행해주세요."
   ]
  },
  {
   "cell_type": "code",
   "execution_count": 7,
   "metadata": {
    "executionInfo": {
     "elapsed": 243,
     "status": "ok",
     "timestamp": 1675385175500,
     "user": {
      "displayName": "한기영",
      "userId": "13049187003176135487"
     },
     "user_tz": -540
    },
    "id": "QcQex00f65p2"
   },
   "outputs": [],
   "source": [
    "# 판매액 계산하기\n",
    "temp = pd.merge(sales, products)\n",
    "temp['Amt' ] = temp['Qty'] * temp['Price']\n",
    "temp['Amt'] = (temp['Amt']/1000).round()  # 단위 1000달러\n",
    "\n",
    "# 집계\n",
    "data1 = temp.groupby(['Date', 'Category'], as_index = False)['Amt'].sum()\n",
    "data2 = temp.groupby(['Date'], as_index = False)['Amt'].sum()\n",
    "\n",
    "# 피봇\n",
    "data11 = data1.pivot(index='Date', columns='Category', values='Amt').reset_index()\n",
    "\n",
    "# 합치기\n",
    "data = pd.merge(data2, data11)"
   ]
  },
  {
   "cell_type": "markdown",
   "metadata": {
    "id": "o3voihkGvtl4"
   },
   "source": [
    "* 우리가 다룰 데이터"
   ]
  },
  {
   "cell_type": "code",
   "execution_count": 8,
   "metadata": {
    "colab": {
     "base_uri": "https://localhost:8080/",
     "height": 206
    },
    "executionInfo": {
     "elapsed": 7,
     "status": "ok",
     "timestamp": 1675385178173,
     "user": {
      "displayName": "한기영",
      "userId": "13049187003176135487"
     },
     "user_tz": -540
    },
    "id": "SHuEayckThCw",
    "outputId": "b83712f0-e93f-4c58-c95f-92827c8bdc25"
   },
   "outputs": [
    {
     "data": {
      "text/html": [
       "<div>\n",
       "<style scoped>\n",
       "    .dataframe tbody tr th:only-of-type {\n",
       "        vertical-align: middle;\n",
       "    }\n",
       "\n",
       "    .dataframe tbody tr th {\n",
       "        vertical-align: top;\n",
       "    }\n",
       "\n",
       "    .dataframe thead th {\n",
       "        text-align: right;\n",
       "    }\n",
       "</style>\n",
       "<table border=\"1\" class=\"dataframe\">\n",
       "  <thead>\n",
       "    <tr style=\"text-align: right;\">\n",
       "      <th></th>\n",
       "      <th>Date</th>\n",
       "      <th>Amt</th>\n",
       "      <th>Drink</th>\n",
       "      <th>Food</th>\n",
       "      <th>Grocery</th>\n",
       "      <th>Household Goods</th>\n",
       "    </tr>\n",
       "  </thead>\n",
       "  <tbody>\n",
       "    <tr>\n",
       "      <th>0</th>\n",
       "      <td>2013-01-01</td>\n",
       "      <td>20.0</td>\n",
       "      <td>7.0</td>\n",
       "      <td>4.0</td>\n",
       "      <td>6.0</td>\n",
       "      <td>3.0</td>\n",
       "    </tr>\n",
       "    <tr>\n",
       "      <th>1</th>\n",
       "      <td>2013-01-02</td>\n",
       "      <td>3938.0</td>\n",
       "      <td>604.0</td>\n",
       "      <td>549.0</td>\n",
       "      <td>1663.0</td>\n",
       "      <td>1122.0</td>\n",
       "    </tr>\n",
       "    <tr>\n",
       "      <th>2</th>\n",
       "      <td>2013-01-03</td>\n",
       "      <td>2885.0</td>\n",
       "      <td>444.0</td>\n",
       "      <td>376.0</td>\n",
       "      <td>1222.0</td>\n",
       "      <td>843.0</td>\n",
       "    </tr>\n",
       "    <tr>\n",
       "      <th>3</th>\n",
       "      <td>2013-01-04</td>\n",
       "      <td>2907.0</td>\n",
       "      <td>490.0</td>\n",
       "      <td>386.0</td>\n",
       "      <td>1252.0</td>\n",
       "      <td>779.0</td>\n",
       "    </tr>\n",
       "    <tr>\n",
       "      <th>4</th>\n",
       "      <td>2013-01-05</td>\n",
       "      <td>3831.0</td>\n",
       "      <td>704.0</td>\n",
       "      <td>505.0</td>\n",
       "      <td>1560.0</td>\n",
       "      <td>1062.0</td>\n",
       "    </tr>\n",
       "  </tbody>\n",
       "</table>\n",
       "</div>"
      ],
      "text/plain": [
       "         Date     Amt  Drink   Food  Grocery  Household Goods\n",
       "0  2013-01-01    20.0    7.0    4.0      6.0              3.0\n",
       "1  2013-01-02  3938.0  604.0  549.0   1663.0           1122.0\n",
       "2  2013-01-03  2885.0  444.0  376.0   1222.0            843.0\n",
       "3  2013-01-04  2907.0  490.0  386.0   1252.0            779.0\n",
       "4  2013-01-05  3831.0  704.0  505.0   1560.0           1062.0"
      ]
     },
     "execution_count": 8,
     "metadata": {},
     "output_type": "execute_result"
    }
   ],
   "source": [
    "data.head()"
   ]
  },
  {
   "cell_type": "markdown",
   "metadata": {
    "id": "mtWr646oTMSI"
   },
   "source": [
    "## **2.날짜 요소 추출**"
   ]
  },
  {
   "cell_type": "markdown",
   "metadata": {
    "id": "ACYKaFAegjzy"
   },
   "source": [
    "### **(1) 날짜 타입으로 변환**\n",
    "* pd.to_datetime(날짜데이터, format = '입력되는 날짜 형식')\n",
    "* https://pandas.pydata.org/pandas-docs/stable/reference/api/pandas.to_datetime.html"
   ]
  },
  {
   "cell_type": "code",
   "execution_count": 10,
   "metadata": {
    "colab": {
     "base_uri": "https://localhost:8080/"
    },
    "executionInfo": {
     "elapsed": 29,
     "status": "ok",
     "timestamp": 1675384965650,
     "user": {
      "displayName": "한기영",
      "userId": "13049187003176135487"
     },
     "user_tz": -540
    },
    "id": "0HviiUVPguwg",
    "outputId": "55fefebc-b559-4319-a611-80147a42250a"
   },
   "outputs": [
    {
     "name": "stdout",
     "output_type": "stream",
     "text": [
      "<class 'pandas.core.frame.DataFrame'>\n",
      "RangeIndex: 31 entries, 0 to 30\n",
      "Data columns (total 6 columns):\n",
      " #   Column           Non-Null Count  Dtype  \n",
      "---  ------           --------------  -----  \n",
      " 0   Date             31 non-null     object \n",
      " 1   Amt              31 non-null     float64\n",
      " 2   Drink            31 non-null     float64\n",
      " 3   Food             31 non-null     float64\n",
      " 4   Grocery          31 non-null     float64\n",
      " 5   Household Goods  31 non-null     float64\n",
      "dtypes: float64(5), object(1)\n",
      "memory usage: 1.6+ KB\n"
     ]
    }
   ],
   "source": [
    "data.info()"
   ]
  },
  {
   "cell_type": "code",
   "execution_count": 11,
   "metadata": {
    "executionInfo": {
     "elapsed": 25,
     "status": "ok",
     "timestamp": 1675384965652,
     "user": {
      "displayName": "한기영",
      "userId": "13049187003176135487"
     },
     "user_tz": -540
    },
    "id": "8lIAmfqTgDob"
   },
   "outputs": [],
   "source": [
    "data['Date'] = pd.to_datetime(data['Date'])"
   ]
  },
  {
   "cell_type": "code",
   "execution_count": 12,
   "metadata": {
    "colab": {
     "base_uri": "https://localhost:8080/"
    },
    "executionInfo": {
     "elapsed": 24,
     "status": "ok",
     "timestamp": 1675384965652,
     "user": {
      "displayName": "한기영",
      "userId": "13049187003176135487"
     },
     "user_tz": -540
    },
    "id": "lYBs1k_sO5dK",
    "outputId": "784e4dc3-65ed-4ff0-b7cf-73227ffda160"
   },
   "outputs": [
    {
     "name": "stdout",
     "output_type": "stream",
     "text": [
      "<class 'pandas.core.frame.DataFrame'>\n",
      "RangeIndex: 31 entries, 0 to 30\n",
      "Data columns (total 6 columns):\n",
      " #   Column           Non-Null Count  Dtype         \n",
      "---  ------           --------------  -----         \n",
      " 0   Date             31 non-null     datetime64[ns]\n",
      " 1   Amt              31 non-null     float64       \n",
      " 2   Drink            31 non-null     float64       \n",
      " 3   Food             31 non-null     float64       \n",
      " 4   Grocery          31 non-null     float64       \n",
      " 5   Household Goods  31 non-null     float64       \n",
      "dtypes: datetime64[ns](1), float64(5)\n",
      "memory usage: 1.6 KB\n"
     ]
    }
   ],
   "source": [
    "data.info()"
   ]
  },
  {
   "cell_type": "markdown",
   "metadata": {
    "id": "NcdIHygLPJN7"
   },
   "source": [
    "* format = ''\n",
    "    * pd.to_datetime(date, format = '%d/%m/%Y') # format = '%d/%m/%Y' 입력되는 날짜가 이런 형태야~~ 라고 알려주는 옵션\n",
    "    * https://docs.python.org/3/library/datetime.html#strftime-and-strptime-behavior"
   ]
  },
  {
   "cell_type": "code",
   "execution_count": 13,
   "metadata": {
    "colab": {
     "base_uri": "https://localhost:8080/"
    },
    "executionInfo": {
     "elapsed": 22,
     "status": "ok",
     "timestamp": 1675384965653,
     "user": {
      "displayName": "한기영",
      "userId": "13049187003176135487"
     },
     "user_tz": -540
    },
    "id": "C12RJi1MTZvE",
    "outputId": "fafba68d-ae3b-4f2a-b900-a290ee0a2fef"
   },
   "outputs": [
    {
     "data": {
      "text/plain": [
       "0   2023-03-01\n",
       "1   2023-03-02\n",
       "2   2023-03-03\n",
       "dtype: datetime64[ns]"
      ]
     },
     "execution_count": 13,
     "metadata": {},
     "output_type": "execute_result"
    }
   ],
   "source": [
    "# pd.to_datetime(date, format = '%d/%m/%Y') # format = '%d/%m/%Y' 입력되는 날짜가 이런 형태야~~ 라고 알려주는 옵션\n",
    "date = pd.Series(['03-01-2023', '03-02-2023', '03-03-2023'])\n",
    "date = pd.to_datetime(date)\n",
    "date"
   ]
  },
  {
   "cell_type": "code",
   "execution_count": 14,
   "metadata": {
    "colab": {
     "base_uri": "https://localhost:8080/"
    },
    "executionInfo": {
     "elapsed": 20,
     "status": "ok",
     "timestamp": 1675384965654,
     "user": {
      "displayName": "한기영",
      "userId": "13049187003176135487"
     },
     "user_tz": -540
    },
    "id": "23lVWX7SYHgs",
    "outputId": "ed065184-5ce5-4c1d-901d-132054dda9db"
   },
   "outputs": [
    {
     "data": {
      "text/plain": [
       "0   2023-01-03\n",
       "1   2023-02-03\n",
       "2   2023-03-03\n",
       "dtype: datetime64[ns]"
      ]
     },
     "execution_count": 14,
     "metadata": {},
     "output_type": "execute_result"
    }
   ],
   "source": [
    "# 만약 dd-mm-yyyy 이 맞다면!\n",
    "date = pd.Series(['03-01-2023', '03-02-2023', '03-03-2023'])\n",
    "date = pd.to_datetime(date, format = '%d-%m-%Y') #입력받은 날짜 데이터 형식이 '%d-%m-%Y'!\n",
    "date"
   ]
  },
  {
   "cell_type": "markdown",
   "metadata": {
    "id": "iiGI0mnYYjxJ"
   },
   "source": [
    "### **(2) 날짜 요소 추출**"
   ]
  },
  {
   "cell_type": "code",
   "execution_count": 15,
   "metadata": {
    "colab": {
     "base_uri": "https://localhost:8080/"
    },
    "executionInfo": {
     "elapsed": 2,
     "status": "ok",
     "timestamp": 1673610468952,
     "user": {
      "displayName": "한기영",
      "userId": "13049187003176135487"
     },
     "user_tz": -540
    },
    "id": "7s8cJOhTTZry",
    "outputId": "d2361460-2f24-4130-e581-06308b4afe17"
   },
   "outputs": [
    {
     "data": {
      "text/plain": [
       "0    2023\n",
       "1    2023\n",
       "2    2023\n",
       "dtype: int32"
      ]
     },
     "execution_count": 15,
     "metadata": {},
     "output_type": "execute_result"
    }
   ],
   "source": [
    "# 연도\n",
    "date.dt.year"
   ]
  },
  {
   "cell_type": "code",
   "execution_count": 16,
   "metadata": {
    "colab": {
     "base_uri": "https://localhost:8080/"
    },
    "executionInfo": {
     "elapsed": 2,
     "status": "ok",
     "timestamp": 1673610469703,
     "user": {
      "displayName": "한기영",
      "userId": "13049187003176135487"
     },
     "user_tz": -540
    },
    "id": "NJ9DXJzIY0ok",
    "outputId": "393dc049-cb51-4688-e11c-ba878cbb1fad"
   },
   "outputs": [
    {
     "data": {
      "text/plain": [
       "0    1\n",
       "1    2\n",
       "2    3\n",
       "dtype: int32"
      ]
     },
     "execution_count": 16,
     "metadata": {},
     "output_type": "execute_result"
    }
   ],
   "source": [
    "# 월\n",
    "date.dt.month"
   ]
  },
  {
   "cell_type": "code",
   "execution_count": 17,
   "metadata": {
    "colab": {
     "base_uri": "https://localhost:8080/"
    },
    "executionInfo": {
     "elapsed": 6,
     "status": "ok",
     "timestamp": 1673610470145,
     "user": {
      "displayName": "한기영",
      "userId": "13049187003176135487"
     },
     "user_tz": -540
    },
    "id": "xaWcDlrBY5zD",
    "outputId": "d0a88467-e3ce-44ef-e8dc-ed59f7e72005"
   },
   "outputs": [
    {
     "data": {
      "text/plain": [
       "0    3\n",
       "1    3\n",
       "2    3\n",
       "dtype: int32"
      ]
     },
     "execution_count": 17,
     "metadata": {},
     "output_type": "execute_result"
    }
   ],
   "source": [
    "# 일\n",
    "date.dt.day"
   ]
  },
  {
   "cell_type": "code",
   "execution_count": 18,
   "metadata": {
    "colab": {
     "base_uri": "https://localhost:8080/"
    },
    "executionInfo": {
     "elapsed": 4,
     "status": "ok",
     "timestamp": 1673610470145,
     "user": {
      "displayName": "한기영",
      "userId": "13049187003176135487"
     },
     "user_tz": -540
    },
    "id": "fsaRAVZLY5v6",
    "outputId": "c5a54d99-9aa7-4f62-b6da-a8b708b33421"
   },
   "outputs": [
    {
     "data": {
      "text/plain": [
       "0    1\n",
       "1    4\n",
       "2    4\n",
       "dtype: int32"
      ]
     },
     "execution_count": 18,
     "metadata": {},
     "output_type": "execute_result"
    }
   ],
   "source": [
    "# 요일\n",
    "date.dt.weekday"
   ]
  },
  {
   "cell_type": "code",
   "execution_count": 19,
   "metadata": {
    "colab": {
     "base_uri": "https://localhost:8080/"
    },
    "executionInfo": {
     "elapsed": 2,
     "status": "ok",
     "timestamp": 1673610470537,
     "user": {
      "displayName": "한기영",
      "userId": "13049187003176135487"
     },
     "user_tz": -540
    },
    "id": "tzZDCCszZBsH",
    "outputId": "56073b06-8a9d-435b-b80d-90763e1a33a9"
   },
   "outputs": [
    {
     "data": {
      "text/plain": [
       "0    Tuesday\n",
       "1     Friday\n",
       "2     Friday\n",
       "dtype: object"
      ]
     },
     "execution_count": 19,
     "metadata": {},
     "output_type": "execute_result"
    }
   ],
   "source": [
    "# 요일 이름\n",
    "date.dt.day_name()"
   ]
  },
  {
   "cell_type": "markdown",
   "metadata": {
    "id": "IPN07KKOcsnI"
   },
   "source": [
    "<img src='https://raw.githubusercontent.com/jangrae/img/master/practice_01.png' width=120 align=\"left\"/>"
   ]
  },
  {
   "cell_type": "markdown",
   "metadata": {
    "id": "trjHhUlLcsnJ"
   },
   "source": [
    "[문1] data의 Date는 이미 날짜 타입으로 변환되어 있습니다.  \n",
    "* 다음의 항목을 열로 추가하시오.\n",
    "    * 요일(이름)\n",
    "    * 주차"
   ]
  },
  {
   "cell_type": "code",
   "execution_count": 30,
   "metadata": {
    "colab": {
     "base_uri": "https://localhost:8080/",
     "height": 242
    },
    "executionInfo": {
     "elapsed": 6,
     "status": "ok",
     "timestamp": 1673610471527,
     "user": {
      "displayName": "한기영",
      "userId": "13049187003176135487"
     },
     "user_tz": -540
    },
    "id": "cI4gv9uhZqE9",
    "outputId": "9df8e657-4f97-4400-bacb-898d56f04a01"
   },
   "outputs": [
    {
     "data": {
      "text/html": [
       "<div>\n",
       "<style scoped>\n",
       "    .dataframe tbody tr th:only-of-type {\n",
       "        vertical-align: middle;\n",
       "    }\n",
       "\n",
       "    .dataframe tbody tr th {\n",
       "        vertical-align: top;\n",
       "    }\n",
       "\n",
       "    .dataframe thead th {\n",
       "        text-align: right;\n",
       "    }\n",
       "</style>\n",
       "<table border=\"1\" class=\"dataframe\">\n",
       "  <thead>\n",
       "    <tr style=\"text-align: right;\">\n",
       "      <th></th>\n",
       "      <th>Date</th>\n",
       "      <th>Amt</th>\n",
       "      <th>Drink</th>\n",
       "      <th>Food</th>\n",
       "      <th>Grocery</th>\n",
       "      <th>Household Goods</th>\n",
       "      <th>day_of_week</th>\n",
       "      <th>week_day</th>\n",
       "    </tr>\n",
       "  </thead>\n",
       "  <tbody>\n",
       "    <tr>\n",
       "      <th>0</th>\n",
       "      <td>2013-01-01</td>\n",
       "      <td>20.0</td>\n",
       "      <td>7.0</td>\n",
       "      <td>4.0</td>\n",
       "      <td>6.0</td>\n",
       "      <td>3.0</td>\n",
       "      <td>Tuesday</td>\n",
       "      <td>1</td>\n",
       "    </tr>\n",
       "    <tr>\n",
       "      <th>1</th>\n",
       "      <td>2013-01-02</td>\n",
       "      <td>3938.0</td>\n",
       "      <td>604.0</td>\n",
       "      <td>549.0</td>\n",
       "      <td>1663.0</td>\n",
       "      <td>1122.0</td>\n",
       "      <td>Wednesday</td>\n",
       "      <td>1</td>\n",
       "    </tr>\n",
       "    <tr>\n",
       "      <th>2</th>\n",
       "      <td>2013-01-03</td>\n",
       "      <td>2885.0</td>\n",
       "      <td>444.0</td>\n",
       "      <td>376.0</td>\n",
       "      <td>1222.0</td>\n",
       "      <td>843.0</td>\n",
       "      <td>Thursday</td>\n",
       "      <td>1</td>\n",
       "    </tr>\n",
       "    <tr>\n",
       "      <th>3</th>\n",
       "      <td>2013-01-04</td>\n",
       "      <td>2907.0</td>\n",
       "      <td>490.0</td>\n",
       "      <td>386.0</td>\n",
       "      <td>1252.0</td>\n",
       "      <td>779.0</td>\n",
       "      <td>Friday</td>\n",
       "      <td>1</td>\n",
       "    </tr>\n",
       "    <tr>\n",
       "      <th>4</th>\n",
       "      <td>2013-01-05</td>\n",
       "      <td>3831.0</td>\n",
       "      <td>704.0</td>\n",
       "      <td>505.0</td>\n",
       "      <td>1560.0</td>\n",
       "      <td>1062.0</td>\n",
       "      <td>Saturday</td>\n",
       "      <td>1</td>\n",
       "    </tr>\n",
       "  </tbody>\n",
       "</table>\n",
       "</div>"
      ],
      "text/plain": [
       "        Date     Amt  Drink   Food  Grocery  Household Goods day_of_week  \\\n",
       "0 2013-01-01    20.0    7.0    4.0      6.0              3.0     Tuesday   \n",
       "1 2013-01-02  3938.0  604.0  549.0   1663.0           1122.0   Wednesday   \n",
       "2 2013-01-03  2885.0  444.0  376.0   1222.0            843.0    Thursday   \n",
       "3 2013-01-04  2907.0  490.0  386.0   1252.0            779.0      Friday   \n",
       "4 2013-01-05  3831.0  704.0  505.0   1560.0           1062.0    Saturday   \n",
       "\n",
       "   week_day  \n",
       "0         1  \n",
       "1         1  \n",
       "2         1  \n",
       "3         1  \n",
       "4         1  "
      ]
     },
     "execution_count": 30,
     "metadata": {},
     "output_type": "execute_result"
    }
   ],
   "source": [
    "data['day_of_week'] = data['Date'].dt.day_name()\n",
    "data['week_day'] = data['Date'].dt.isocalendar().week\n",
    "data.head()"
   ]
  },
  {
   "cell_type": "markdown",
   "metadata": {
    "id": "jdMTalYEHiAi"
   },
   "source": [
    "## **3.시간에 따른 흐름 추가하기**"
   ]
  },
  {
   "cell_type": "markdown",
   "metadata": {
    "id": "-glTu05FaQ-B"
   },
   "source": [
    "### **(1) shift**\n",
    "* 시계열 데이터에서 시간의 흐름 전후로 정보를 이동시킬 때 사용\n",
    "* https://pandas.pydata.org/pandas-docs/stable/reference/api/pandas.DataFrame.shift.html"
   ]
  },
  {
   "cell_type": "code",
   "execution_count": 34,
   "metadata": {
    "executionInfo": {
     "elapsed": 3,
     "status": "ok",
     "timestamp": 1675385019114,
     "user": {
      "displayName": "한기영",
      "userId": "13049187003176135487"
     },
     "user_tz": -540
    },
    "id": "6XZbGn8AIMz7"
   },
   "outputs": [],
   "source": [
    "temp = data.loc[:,['Date','Amt']]"
   ]
  },
  {
   "cell_type": "code",
   "execution_count": 35,
   "metadata": {
    "colab": {
     "base_uri": "https://localhost:8080/",
     "height": 206
    },
    "executionInfo": {
     "elapsed": 10,
     "status": "ok",
     "timestamp": 1675385020285,
     "user": {
      "displayName": "한기영",
      "userId": "13049187003176135487"
     },
     "user_tz": -540
    },
    "id": "jOVuKQfWJxKD",
    "outputId": "99f3f3ff-b9bc-40f0-8d95-94cf8c47a964",
    "tags": []
   },
   "outputs": [
    {
     "data": {
      "text/html": [
       "<div>\n",
       "<style scoped>\n",
       "    .dataframe tbody tr th:only-of-type {\n",
       "        vertical-align: middle;\n",
       "    }\n",
       "\n",
       "    .dataframe tbody tr th {\n",
       "        vertical-align: top;\n",
       "    }\n",
       "\n",
       "    .dataframe thead th {\n",
       "        text-align: right;\n",
       "    }\n",
       "</style>\n",
       "<table border=\"1\" class=\"dataframe\">\n",
       "  <thead>\n",
       "    <tr style=\"text-align: right;\">\n",
       "      <th></th>\n",
       "      <th>Date</th>\n",
       "      <th>Amt</th>\n",
       "      <th>Amt_lag</th>\n",
       "      <th>Amt_lag2</th>\n",
       "      <th>Amt_lag_1</th>\n",
       "    </tr>\n",
       "  </thead>\n",
       "  <tbody>\n",
       "    <tr>\n",
       "      <th>0</th>\n",
       "      <td>2013-01-01</td>\n",
       "      <td>20.0</td>\n",
       "      <td>NaN</td>\n",
       "      <td>NaN</td>\n",
       "      <td>3938.0</td>\n",
       "    </tr>\n",
       "    <tr>\n",
       "      <th>1</th>\n",
       "      <td>2013-01-02</td>\n",
       "      <td>3938.0</td>\n",
       "      <td>20.0</td>\n",
       "      <td>NaN</td>\n",
       "      <td>2885.0</td>\n",
       "    </tr>\n",
       "    <tr>\n",
       "      <th>2</th>\n",
       "      <td>2013-01-03</td>\n",
       "      <td>2885.0</td>\n",
       "      <td>3938.0</td>\n",
       "      <td>20.0</td>\n",
       "      <td>2907.0</td>\n",
       "    </tr>\n",
       "    <tr>\n",
       "      <th>3</th>\n",
       "      <td>2013-01-04</td>\n",
       "      <td>2907.0</td>\n",
       "      <td>2885.0</td>\n",
       "      <td>3938.0</td>\n",
       "      <td>3831.0</td>\n",
       "    </tr>\n",
       "    <tr>\n",
       "      <th>4</th>\n",
       "      <td>2013-01-05</td>\n",
       "      <td>3831.0</td>\n",
       "      <td>2907.0</td>\n",
       "      <td>2885.0</td>\n",
       "      <td>4066.0</td>\n",
       "    </tr>\n",
       "  </tbody>\n",
       "</table>\n",
       "</div>"
      ],
      "text/plain": [
       "        Date     Amt  Amt_lag  Amt_lag2  Amt_lag_1\n",
       "0 2013-01-01    20.0      NaN       NaN     3938.0\n",
       "1 2013-01-02  3938.0     20.0       NaN     2885.0\n",
       "2 2013-01-03  2885.0   3938.0      20.0     2907.0\n",
       "3 2013-01-04  2907.0   2885.0    3938.0     3831.0\n",
       "4 2013-01-05  3831.0   2907.0    2885.0     4066.0"
      ]
     },
     "execution_count": 35,
     "metadata": {},
     "output_type": "execute_result"
    }
   ],
   "source": [
    "# 전날 매출액 열을 추가합시다.\n",
    "temp['Amt_lag'] = temp['Amt'].shift() #default = 1\n",
    "\n",
    "# 전전날 매출액 열을 추가.\n",
    "temp['Amt_lag2'] = temp['Amt'].shift(2) # 2행 shift\n",
    "\n",
    "# 다음날 매출액 열을 추가합시다.\n",
    "temp['Amt_lag_1'] = temp['Amt'].shift(-1)\n",
    "\n",
    "temp.head()"
   ]
  },
  {
   "cell_type": "markdown",
   "metadata": {
    "id": "wOBydP6t8t63"
   },
   "source": [
    "### **(2) rolling + 집계함수**\n",
    "* 시간의 흐름에 따라 일정 기간 동안 평균을 이동하면서 구하기\n",
    "* .rolling : https://pandas.pydata.org/docs/reference/api/pandas.DataFrame.rolling.html\n",
    "* rolling(n) : \n",
    "    * n 기본값은 1\n",
    "    * min_periods : 최소 데이터수"
   ]
  },
  {
   "cell_type": "code",
   "execution_count": 36,
   "metadata": {
    "colab": {
     "base_uri": "https://localhost:8080/",
     "height": 363
    },
    "executionInfo": {
     "elapsed": 11,
     "status": "ok",
     "timestamp": 1675385023356,
     "user": {
      "displayName": "한기영",
      "userId": "13049187003176135487"
     },
     "user_tz": -540
    },
    "id": "M7x7E-1r8oT_",
    "outputId": "ba3226af-48c4-4512-c4a0-739ae37b58b9"
   },
   "outputs": [
    {
     "data": {
      "text/html": [
       "<div>\n",
       "<style scoped>\n",
       "    .dataframe tbody tr th:only-of-type {\n",
       "        vertical-align: middle;\n",
       "    }\n",
       "\n",
       "    .dataframe tbody tr th {\n",
       "        vertical-align: top;\n",
       "    }\n",
       "\n",
       "    .dataframe thead th {\n",
       "        text-align: right;\n",
       "    }\n",
       "</style>\n",
       "<table border=\"1\" class=\"dataframe\">\n",
       "  <thead>\n",
       "    <tr style=\"text-align: right;\">\n",
       "      <th></th>\n",
       "      <th>Date</th>\n",
       "      <th>Amt</th>\n",
       "      <th>Amt_lag</th>\n",
       "      <th>Amt_lag2</th>\n",
       "      <th>Amt_lag_1</th>\n",
       "      <th>Amt_MA7_1</th>\n",
       "      <th>Amt_MA7_2</th>\n",
       "    </tr>\n",
       "  </thead>\n",
       "  <tbody>\n",
       "    <tr>\n",
       "      <th>0</th>\n",
       "      <td>2013-01-01</td>\n",
       "      <td>20.0</td>\n",
       "      <td>NaN</td>\n",
       "      <td>NaN</td>\n",
       "      <td>3938.0</td>\n",
       "      <td>NaN</td>\n",
       "      <td>20.000000</td>\n",
       "    </tr>\n",
       "    <tr>\n",
       "      <th>1</th>\n",
       "      <td>2013-01-02</td>\n",
       "      <td>3938.0</td>\n",
       "      <td>20.0</td>\n",
       "      <td>NaN</td>\n",
       "      <td>2885.0</td>\n",
       "      <td>NaN</td>\n",
       "      <td>1979.000000</td>\n",
       "    </tr>\n",
       "    <tr>\n",
       "      <th>2</th>\n",
       "      <td>2013-01-03</td>\n",
       "      <td>2885.0</td>\n",
       "      <td>3938.0</td>\n",
       "      <td>20.0</td>\n",
       "      <td>2907.0</td>\n",
       "      <td>NaN</td>\n",
       "      <td>2281.000000</td>\n",
       "    </tr>\n",
       "    <tr>\n",
       "      <th>3</th>\n",
       "      <td>2013-01-04</td>\n",
       "      <td>2907.0</td>\n",
       "      <td>2885.0</td>\n",
       "      <td>3938.0</td>\n",
       "      <td>3831.0</td>\n",
       "      <td>NaN</td>\n",
       "      <td>2437.500000</td>\n",
       "    </tr>\n",
       "    <tr>\n",
       "      <th>4</th>\n",
       "      <td>2013-01-05</td>\n",
       "      <td>3831.0</td>\n",
       "      <td>2907.0</td>\n",
       "      <td>2885.0</td>\n",
       "      <td>4066.0</td>\n",
       "      <td>NaN</td>\n",
       "      <td>2716.200000</td>\n",
       "    </tr>\n",
       "    <tr>\n",
       "      <th>5</th>\n",
       "      <td>2013-01-06</td>\n",
       "      <td>4066.0</td>\n",
       "      <td>3831.0</td>\n",
       "      <td>2907.0</td>\n",
       "      <td>2700.0</td>\n",
       "      <td>NaN</td>\n",
       "      <td>2941.166667</td>\n",
       "    </tr>\n",
       "    <tr>\n",
       "      <th>6</th>\n",
       "      <td>2013-01-07</td>\n",
       "      <td>2700.0</td>\n",
       "      <td>4066.0</td>\n",
       "      <td>3831.0</td>\n",
       "      <td>2533.0</td>\n",
       "      <td>2906.714286</td>\n",
       "      <td>2906.714286</td>\n",
       "    </tr>\n",
       "    <tr>\n",
       "      <th>7</th>\n",
       "      <td>2013-01-08</td>\n",
       "      <td>2533.0</td>\n",
       "      <td>2700.0</td>\n",
       "      <td>4066.0</td>\n",
       "      <td>2462.0</td>\n",
       "      <td>3265.714286</td>\n",
       "      <td>3265.714286</td>\n",
       "    </tr>\n",
       "    <tr>\n",
       "      <th>8</th>\n",
       "      <td>2013-01-09</td>\n",
       "      <td>2462.0</td>\n",
       "      <td>2533.0</td>\n",
       "      <td>2700.0</td>\n",
       "      <td>2110.0</td>\n",
       "      <td>3054.857143</td>\n",
       "      <td>3054.857143</td>\n",
       "    </tr>\n",
       "    <tr>\n",
       "      <th>9</th>\n",
       "      <td>2013-01-10</td>\n",
       "      <td>2110.0</td>\n",
       "      <td>2462.0</td>\n",
       "      <td>2533.0</td>\n",
       "      <td>2405.0</td>\n",
       "      <td>2944.142857</td>\n",
       "      <td>2944.142857</td>\n",
       "    </tr>\n",
       "  </tbody>\n",
       "</table>\n",
       "</div>"
      ],
      "text/plain": [
       "        Date     Amt  Amt_lag  Amt_lag2  Amt_lag_1    Amt_MA7_1    Amt_MA7_2\n",
       "0 2013-01-01    20.0      NaN       NaN     3938.0          NaN    20.000000\n",
       "1 2013-01-02  3938.0     20.0       NaN     2885.0          NaN  1979.000000\n",
       "2 2013-01-03  2885.0   3938.0      20.0     2907.0          NaN  2281.000000\n",
       "3 2013-01-04  2907.0   2885.0    3938.0     3831.0          NaN  2437.500000\n",
       "4 2013-01-05  3831.0   2907.0    2885.0     4066.0          NaN  2716.200000\n",
       "5 2013-01-06  4066.0   3831.0    2907.0     2700.0          NaN  2941.166667\n",
       "6 2013-01-07  2700.0   4066.0    3831.0     2533.0  2906.714286  2906.714286\n",
       "7 2013-01-08  2533.0   2700.0    4066.0     2462.0  3265.714286  3265.714286\n",
       "8 2013-01-09  2462.0   2533.0    2700.0     2110.0  3054.857143  3054.857143\n",
       "9 2013-01-10  2110.0   2462.0    2533.0     2405.0  2944.142857  2944.142857"
      ]
     },
     "execution_count": 36,
     "metadata": {},
     "output_type": "execute_result"
    }
   ],
   "source": [
    "# 7일 이동평균 매출액을 구해 봅시다.\n",
    "temp['Amt_MA7_1'] = temp['Amt'].rolling(7).mean()\n",
    "temp['Amt_MA7_2'] = temp['Amt'].rolling(7, min_periods = 1).mean()\n",
    "temp.head(10)"
   ]
  },
  {
   "cell_type": "markdown",
   "metadata": {
    "id": "Or626b719tT0"
   },
   "source": [
    "### (3) **diff**\n",
    "* 특정 시점 데이터, 이전시점 데이터와의 차이 구하기\n",
    "* .diff : https://pandas.pydata.org/docs/reference/api/pandas.DataFrame.diff.html"
   ]
  },
  {
   "cell_type": "code",
   "execution_count": 37,
   "metadata": {
    "colab": {
     "base_uri": "https://localhost:8080/",
     "height": 363
    },
    "executionInfo": {
     "elapsed": 332,
     "status": "ok",
     "timestamp": 1675385026022,
     "user": {
      "displayName": "한기영",
      "userId": "13049187003176135487"
     },
     "user_tz": -540
    },
    "id": "Tvdjy2vz9tT8",
    "outputId": "906ed98d-63d7-485a-9c26-07223a9ad3b1"
   },
   "outputs": [
    {
     "data": {
      "text/html": [
       "<div>\n",
       "<style scoped>\n",
       "    .dataframe tbody tr th:only-of-type {\n",
       "        vertical-align: middle;\n",
       "    }\n",
       "\n",
       "    .dataframe tbody tr th {\n",
       "        vertical-align: top;\n",
       "    }\n",
       "\n",
       "    .dataframe thead th {\n",
       "        text-align: right;\n",
       "    }\n",
       "</style>\n",
       "<table border=\"1\" class=\"dataframe\">\n",
       "  <thead>\n",
       "    <tr style=\"text-align: right;\">\n",
       "      <th></th>\n",
       "      <th>Date</th>\n",
       "      <th>Amt</th>\n",
       "      <th>Amt_lag</th>\n",
       "      <th>Amt_lag2</th>\n",
       "      <th>Amt_lag_1</th>\n",
       "      <th>Amt_MA7_1</th>\n",
       "      <th>Amt_MA7_2</th>\n",
       "      <th>Amt_D1</th>\n",
       "      <th>Amt_D2</th>\n",
       "    </tr>\n",
       "  </thead>\n",
       "  <tbody>\n",
       "    <tr>\n",
       "      <th>0</th>\n",
       "      <td>2013-01-01</td>\n",
       "      <td>20.0</td>\n",
       "      <td>NaN</td>\n",
       "      <td>NaN</td>\n",
       "      <td>3938.0</td>\n",
       "      <td>NaN</td>\n",
       "      <td>20.000000</td>\n",
       "      <td>NaN</td>\n",
       "      <td>NaN</td>\n",
       "    </tr>\n",
       "    <tr>\n",
       "      <th>1</th>\n",
       "      <td>2013-01-02</td>\n",
       "      <td>3938.0</td>\n",
       "      <td>20.0</td>\n",
       "      <td>NaN</td>\n",
       "      <td>2885.0</td>\n",
       "      <td>NaN</td>\n",
       "      <td>1979.000000</td>\n",
       "      <td>3918.0</td>\n",
       "      <td>NaN</td>\n",
       "    </tr>\n",
       "    <tr>\n",
       "      <th>2</th>\n",
       "      <td>2013-01-03</td>\n",
       "      <td>2885.0</td>\n",
       "      <td>3938.0</td>\n",
       "      <td>20.0</td>\n",
       "      <td>2907.0</td>\n",
       "      <td>NaN</td>\n",
       "      <td>2281.000000</td>\n",
       "      <td>-1053.0</td>\n",
       "      <td>2865.0</td>\n",
       "    </tr>\n",
       "    <tr>\n",
       "      <th>3</th>\n",
       "      <td>2013-01-04</td>\n",
       "      <td>2907.0</td>\n",
       "      <td>2885.0</td>\n",
       "      <td>3938.0</td>\n",
       "      <td>3831.0</td>\n",
       "      <td>NaN</td>\n",
       "      <td>2437.500000</td>\n",
       "      <td>22.0</td>\n",
       "      <td>-1031.0</td>\n",
       "    </tr>\n",
       "    <tr>\n",
       "      <th>4</th>\n",
       "      <td>2013-01-05</td>\n",
       "      <td>3831.0</td>\n",
       "      <td>2907.0</td>\n",
       "      <td>2885.0</td>\n",
       "      <td>4066.0</td>\n",
       "      <td>NaN</td>\n",
       "      <td>2716.200000</td>\n",
       "      <td>924.0</td>\n",
       "      <td>946.0</td>\n",
       "    </tr>\n",
       "    <tr>\n",
       "      <th>5</th>\n",
       "      <td>2013-01-06</td>\n",
       "      <td>4066.0</td>\n",
       "      <td>3831.0</td>\n",
       "      <td>2907.0</td>\n",
       "      <td>2700.0</td>\n",
       "      <td>NaN</td>\n",
       "      <td>2941.166667</td>\n",
       "      <td>235.0</td>\n",
       "      <td>1159.0</td>\n",
       "    </tr>\n",
       "    <tr>\n",
       "      <th>6</th>\n",
       "      <td>2013-01-07</td>\n",
       "      <td>2700.0</td>\n",
       "      <td>4066.0</td>\n",
       "      <td>3831.0</td>\n",
       "      <td>2533.0</td>\n",
       "      <td>2906.714286</td>\n",
       "      <td>2906.714286</td>\n",
       "      <td>-1366.0</td>\n",
       "      <td>-1131.0</td>\n",
       "    </tr>\n",
       "    <tr>\n",
       "      <th>7</th>\n",
       "      <td>2013-01-08</td>\n",
       "      <td>2533.0</td>\n",
       "      <td>2700.0</td>\n",
       "      <td>4066.0</td>\n",
       "      <td>2462.0</td>\n",
       "      <td>3265.714286</td>\n",
       "      <td>3265.714286</td>\n",
       "      <td>-167.0</td>\n",
       "      <td>-1533.0</td>\n",
       "    </tr>\n",
       "    <tr>\n",
       "      <th>8</th>\n",
       "      <td>2013-01-09</td>\n",
       "      <td>2462.0</td>\n",
       "      <td>2533.0</td>\n",
       "      <td>2700.0</td>\n",
       "      <td>2110.0</td>\n",
       "      <td>3054.857143</td>\n",
       "      <td>3054.857143</td>\n",
       "      <td>-71.0</td>\n",
       "      <td>-238.0</td>\n",
       "    </tr>\n",
       "    <tr>\n",
       "      <th>9</th>\n",
       "      <td>2013-01-10</td>\n",
       "      <td>2110.0</td>\n",
       "      <td>2462.0</td>\n",
       "      <td>2533.0</td>\n",
       "      <td>2405.0</td>\n",
       "      <td>2944.142857</td>\n",
       "      <td>2944.142857</td>\n",
       "      <td>-352.0</td>\n",
       "      <td>-423.0</td>\n",
       "    </tr>\n",
       "  </tbody>\n",
       "</table>\n",
       "</div>"
      ],
      "text/plain": [
       "        Date     Amt  Amt_lag  Amt_lag2  Amt_lag_1    Amt_MA7_1    Amt_MA7_2  \\\n",
       "0 2013-01-01    20.0      NaN       NaN     3938.0          NaN    20.000000   \n",
       "1 2013-01-02  3938.0     20.0       NaN     2885.0          NaN  1979.000000   \n",
       "2 2013-01-03  2885.0   3938.0      20.0     2907.0          NaN  2281.000000   \n",
       "3 2013-01-04  2907.0   2885.0    3938.0     3831.0          NaN  2437.500000   \n",
       "4 2013-01-05  3831.0   2907.0    2885.0     4066.0          NaN  2716.200000   \n",
       "5 2013-01-06  4066.0   3831.0    2907.0     2700.0          NaN  2941.166667   \n",
       "6 2013-01-07  2700.0   4066.0    3831.0     2533.0  2906.714286  2906.714286   \n",
       "7 2013-01-08  2533.0   2700.0    4066.0     2462.0  3265.714286  3265.714286   \n",
       "8 2013-01-09  2462.0   2533.0    2700.0     2110.0  3054.857143  3054.857143   \n",
       "9 2013-01-10  2110.0   2462.0    2533.0     2405.0  2944.142857  2944.142857   \n",
       "\n",
       "   Amt_D1  Amt_D2  \n",
       "0     NaN     NaN  \n",
       "1  3918.0     NaN  \n",
       "2 -1053.0  2865.0  \n",
       "3    22.0 -1031.0  \n",
       "4   924.0   946.0  \n",
       "5   235.0  1159.0  \n",
       "6 -1366.0 -1131.0  \n",
       "7  -167.0 -1533.0  \n",
       "8   -71.0  -238.0  \n",
       "9  -352.0  -423.0  "
      ]
     },
     "execution_count": 37,
     "metadata": {},
     "output_type": "execute_result"
    }
   ],
   "source": [
    "# 7일 이동평균 매출액을 구해 봅시다.\n",
    "temp['Amt_D1'] = temp['Amt'].diff()\n",
    "temp['Amt_D2'] = temp['Amt'].diff(2)\n",
    "temp.head(10)"
   ]
  },
  {
   "cell_type": "markdown",
   "metadata": {
    "id": "1SBrCK1_-2rD"
   },
   "source": [
    "<img src='https://raw.githubusercontent.com/jangrae/img/master/practice_01.png' width=120 align=\"left\"/>"
   ]
  },
  {
   "cell_type": "markdown",
   "metadata": {
    "id": "hQbxvh6l-2rK"
   },
   "source": [
    "[문1] data의 Grocery가 매출이 가장 높습니다. 이에 대해서 다음의 열을 추가해 봅시다.\n",
    "\n",
    "* 전날 매출액\n",
    "* 7일 전(전주 동 요일) 매출액\n",
    "* 3일 이동평균 매출액\n",
    "* 전날대비 매출액 증감여부 (증가 1, 감소 -1, 동일 0)\n"
   ]
  },
  {
   "cell_type": "code",
   "execution_count": 39,
   "metadata": {
    "colab": {
     "base_uri": "https://localhost:8080/",
     "height": 206
    },
    "executionInfo": {
     "elapsed": 343,
     "status": "ok",
     "timestamp": 1673611145360,
     "user": {
      "displayName": "한기영",
      "userId": "13049187003176135487"
     },
     "user_tz": -540
    },
    "id": "_gaadtSV-2rL",
    "outputId": "3bb6b6c1-ae3b-47dd-ecab-130270e9eb01"
   },
   "outputs": [
    {
     "data": {
      "text/html": [
       "<div>\n",
       "<style scoped>\n",
       "    .dataframe tbody tr th:only-of-type {\n",
       "        vertical-align: middle;\n",
       "    }\n",
       "\n",
       "    .dataframe tbody tr th {\n",
       "        vertical-align: top;\n",
       "    }\n",
       "\n",
       "    .dataframe thead th {\n",
       "        text-align: right;\n",
       "    }\n",
       "</style>\n",
       "<table border=\"1\" class=\"dataframe\">\n",
       "  <thead>\n",
       "    <tr style=\"text-align: right;\">\n",
       "      <th></th>\n",
       "      <th>Date</th>\n",
       "      <th>Amt</th>\n",
       "      <th>Drink</th>\n",
       "      <th>Food</th>\n",
       "      <th>Grocery</th>\n",
       "      <th>Household Goods</th>\n",
       "      <th>day_of_week</th>\n",
       "      <th>week_day</th>\n",
       "    </tr>\n",
       "  </thead>\n",
       "  <tbody>\n",
       "    <tr>\n",
       "      <th>0</th>\n",
       "      <td>2013-01-01</td>\n",
       "      <td>20.0</td>\n",
       "      <td>7.0</td>\n",
       "      <td>4.0</td>\n",
       "      <td>6.0</td>\n",
       "      <td>3.0</td>\n",
       "      <td>Tuesday</td>\n",
       "      <td>1</td>\n",
       "    </tr>\n",
       "    <tr>\n",
       "      <th>1</th>\n",
       "      <td>2013-01-02</td>\n",
       "      <td>3938.0</td>\n",
       "      <td>604.0</td>\n",
       "      <td>549.0</td>\n",
       "      <td>1663.0</td>\n",
       "      <td>1122.0</td>\n",
       "      <td>Wednesday</td>\n",
       "      <td>1</td>\n",
       "    </tr>\n",
       "    <tr>\n",
       "      <th>2</th>\n",
       "      <td>2013-01-03</td>\n",
       "      <td>2885.0</td>\n",
       "      <td>444.0</td>\n",
       "      <td>376.0</td>\n",
       "      <td>1222.0</td>\n",
       "      <td>843.0</td>\n",
       "      <td>Thursday</td>\n",
       "      <td>1</td>\n",
       "    </tr>\n",
       "    <tr>\n",
       "      <th>3</th>\n",
       "      <td>2013-01-04</td>\n",
       "      <td>2907.0</td>\n",
       "      <td>490.0</td>\n",
       "      <td>386.0</td>\n",
       "      <td>1252.0</td>\n",
       "      <td>779.0</td>\n",
       "      <td>Friday</td>\n",
       "      <td>1</td>\n",
       "    </tr>\n",
       "    <tr>\n",
       "      <th>4</th>\n",
       "      <td>2013-01-05</td>\n",
       "      <td>3831.0</td>\n",
       "      <td>704.0</td>\n",
       "      <td>505.0</td>\n",
       "      <td>1560.0</td>\n",
       "      <td>1062.0</td>\n",
       "      <td>Saturday</td>\n",
       "      <td>1</td>\n",
       "    </tr>\n",
       "  </tbody>\n",
       "</table>\n",
       "</div>"
      ],
      "text/plain": [
       "        Date     Amt  Drink   Food  Grocery  Household Goods day_of_week  \\\n",
       "0 2013-01-01    20.0    7.0    4.0      6.0              3.0     Tuesday   \n",
       "1 2013-01-02  3938.0  604.0  549.0   1663.0           1122.0   Wednesday   \n",
       "2 2013-01-03  2885.0  444.0  376.0   1222.0            843.0    Thursday   \n",
       "3 2013-01-04  2907.0  490.0  386.0   1252.0            779.0      Friday   \n",
       "4 2013-01-05  3831.0  704.0  505.0   1560.0           1062.0    Saturday   \n",
       "\n",
       "   week_day  \n",
       "0         1  \n",
       "1         1  \n",
       "2         1  \n",
       "3         1  \n",
       "4         1  "
      ]
     },
     "execution_count": 39,
     "metadata": {},
     "output_type": "execute_result"
    }
   ],
   "source": [
    "data.head()"
   ]
  },
  {
   "cell_type": "code",
   "execution_count": 46,
   "metadata": {
    "colab": {
     "base_uri": "https://localhost:8080/",
     "height": 363
    },
    "executionInfo": {
     "elapsed": 428,
     "status": "ok",
     "timestamp": 1673611285652,
     "user": {
      "displayName": "한기영",
      "userId": "13049187003176135487"
     },
     "user_tz": -540
    },
    "id": "ZiU1ybVV-OjG",
    "outputId": "a9a83d34-9445-4905-bcab-1e115d7dcfab"
   },
   "outputs": [],
   "source": [
    "# 전날 매출액\n",
    "data['Amt_lag'] = data['Amt'].shift()\n",
    "\n",
    "# 7일 전(전주 동 요일) 매출액\n",
    "data['Amt_lag7'] = data['Amt'].shift(7)\n",
    "\n",
    "# 3일 이동평균 매출액\n",
    "data['Amt_MA7_1'] = data['Amt'].rolling(3).mean()\n",
    "\n",
    "# 전날대비 매출액 증감여부 (증가 1, 감소 -1, 동일 0)\n",
    "data['Amt_D1'] = data['Amt'].diff()\n",
    "data.loc[data['Amt_D1']>0, 'Amt_D1'] = 1\n",
    "data.loc[data['Amt_D1'] == 0, 'Amt_D1'] = 0\n",
    "data.loc[data['Amt_D1']<0, 'Amt_D1'] = -1\n"
   ]
  },
  {
   "cell_type": "code",
   "execution_count": 47,
   "metadata": {},
   "outputs": [
    {
     "data": {
      "text/html": [
       "<div>\n",
       "<style scoped>\n",
       "    .dataframe tbody tr th:only-of-type {\n",
       "        vertical-align: middle;\n",
       "    }\n",
       "\n",
       "    .dataframe tbody tr th {\n",
       "        vertical-align: top;\n",
       "    }\n",
       "\n",
       "    .dataframe thead th {\n",
       "        text-align: right;\n",
       "    }\n",
       "</style>\n",
       "<table border=\"1\" class=\"dataframe\">\n",
       "  <thead>\n",
       "    <tr style=\"text-align: right;\">\n",
       "      <th></th>\n",
       "      <th>Date</th>\n",
       "      <th>Amt</th>\n",
       "      <th>Drink</th>\n",
       "      <th>Food</th>\n",
       "      <th>Grocery</th>\n",
       "      <th>Household Goods</th>\n",
       "      <th>day_of_week</th>\n",
       "      <th>week_day</th>\n",
       "      <th>Amt_lag</th>\n",
       "      <th>Amt_lag7</th>\n",
       "      <th>Amt_MA7_1</th>\n",
       "      <th>Amt_D1</th>\n",
       "    </tr>\n",
       "  </thead>\n",
       "  <tbody>\n",
       "    <tr>\n",
       "      <th>0</th>\n",
       "      <td>2013-01-01</td>\n",
       "      <td>20.0</td>\n",
       "      <td>7.0</td>\n",
       "      <td>4.0</td>\n",
       "      <td>6.0</td>\n",
       "      <td>3.0</td>\n",
       "      <td>Tuesday</td>\n",
       "      <td>1</td>\n",
       "      <td>NaN</td>\n",
       "      <td>NaN</td>\n",
       "      <td>NaN</td>\n",
       "      <td>NaN</td>\n",
       "    </tr>\n",
       "    <tr>\n",
       "      <th>1</th>\n",
       "      <td>2013-01-02</td>\n",
       "      <td>3938.0</td>\n",
       "      <td>604.0</td>\n",
       "      <td>549.0</td>\n",
       "      <td>1663.0</td>\n",
       "      <td>1122.0</td>\n",
       "      <td>Wednesday</td>\n",
       "      <td>1</td>\n",
       "      <td>20.0</td>\n",
       "      <td>NaN</td>\n",
       "      <td>NaN</td>\n",
       "      <td>1.0</td>\n",
       "    </tr>\n",
       "    <tr>\n",
       "      <th>2</th>\n",
       "      <td>2013-01-03</td>\n",
       "      <td>2885.0</td>\n",
       "      <td>444.0</td>\n",
       "      <td>376.0</td>\n",
       "      <td>1222.0</td>\n",
       "      <td>843.0</td>\n",
       "      <td>Thursday</td>\n",
       "      <td>1</td>\n",
       "      <td>3938.0</td>\n",
       "      <td>NaN</td>\n",
       "      <td>2281.000000</td>\n",
       "      <td>-1.0</td>\n",
       "    </tr>\n",
       "    <tr>\n",
       "      <th>3</th>\n",
       "      <td>2013-01-04</td>\n",
       "      <td>2907.0</td>\n",
       "      <td>490.0</td>\n",
       "      <td>386.0</td>\n",
       "      <td>1252.0</td>\n",
       "      <td>779.0</td>\n",
       "      <td>Friday</td>\n",
       "      <td>1</td>\n",
       "      <td>2885.0</td>\n",
       "      <td>NaN</td>\n",
       "      <td>3243.333333</td>\n",
       "      <td>1.0</td>\n",
       "    </tr>\n",
       "    <tr>\n",
       "      <th>4</th>\n",
       "      <td>2013-01-05</td>\n",
       "      <td>3831.0</td>\n",
       "      <td>704.0</td>\n",
       "      <td>505.0</td>\n",
       "      <td>1560.0</td>\n",
       "      <td>1062.0</td>\n",
       "      <td>Saturday</td>\n",
       "      <td>1</td>\n",
       "      <td>2907.0</td>\n",
       "      <td>NaN</td>\n",
       "      <td>3207.666667</td>\n",
       "      <td>1.0</td>\n",
       "    </tr>\n",
       "    <tr>\n",
       "      <th>5</th>\n",
       "      <td>2013-01-06</td>\n",
       "      <td>4066.0</td>\n",
       "      <td>689.0</td>\n",
       "      <td>544.0</td>\n",
       "      <td>1713.0</td>\n",
       "      <td>1120.0</td>\n",
       "      <td>Sunday</td>\n",
       "      <td>1</td>\n",
       "      <td>3831.0</td>\n",
       "      <td>NaN</td>\n",
       "      <td>3601.333333</td>\n",
       "      <td>1.0</td>\n",
       "    </tr>\n",
       "    <tr>\n",
       "      <th>6</th>\n",
       "      <td>2013-01-07</td>\n",
       "      <td>2700.0</td>\n",
       "      <td>431.0</td>\n",
       "      <td>349.0</td>\n",
       "      <td>1170.0</td>\n",
       "      <td>750.0</td>\n",
       "      <td>Monday</td>\n",
       "      <td>2</td>\n",
       "      <td>4066.0</td>\n",
       "      <td>NaN</td>\n",
       "      <td>3532.333333</td>\n",
       "      <td>-1.0</td>\n",
       "    </tr>\n",
       "    <tr>\n",
       "      <th>7</th>\n",
       "      <td>2013-01-08</td>\n",
       "      <td>2533.0</td>\n",
       "      <td>396.0</td>\n",
       "      <td>313.0</td>\n",
       "      <td>1144.0</td>\n",
       "      <td>680.0</td>\n",
       "      <td>Tuesday</td>\n",
       "      <td>2</td>\n",
       "      <td>2700.0</td>\n",
       "      <td>20.0</td>\n",
       "      <td>3099.666667</td>\n",
       "      <td>-1.0</td>\n",
       "    </tr>\n",
       "    <tr>\n",
       "      <th>8</th>\n",
       "      <td>2013-01-09</td>\n",
       "      <td>2462.0</td>\n",
       "      <td>405.0</td>\n",
       "      <td>336.0</td>\n",
       "      <td>1074.0</td>\n",
       "      <td>647.0</td>\n",
       "      <td>Wednesday</td>\n",
       "      <td>2</td>\n",
       "      <td>2533.0</td>\n",
       "      <td>3938.0</td>\n",
       "      <td>2565.000000</td>\n",
       "      <td>-1.0</td>\n",
       "    </tr>\n",
       "    <tr>\n",
       "      <th>9</th>\n",
       "      <td>2013-01-10</td>\n",
       "      <td>2110.0</td>\n",
       "      <td>367.0</td>\n",
       "      <td>282.0</td>\n",
       "      <td>878.0</td>\n",
       "      <td>583.0</td>\n",
       "      <td>Thursday</td>\n",
       "      <td>2</td>\n",
       "      <td>2462.0</td>\n",
       "      <td>2885.0</td>\n",
       "      <td>2368.333333</td>\n",
       "      <td>-1.0</td>\n",
       "    </tr>\n",
       "  </tbody>\n",
       "</table>\n",
       "</div>"
      ],
      "text/plain": [
       "        Date     Amt  Drink   Food  Grocery  Household Goods day_of_week  \\\n",
       "0 2013-01-01    20.0    7.0    4.0      6.0              3.0     Tuesday   \n",
       "1 2013-01-02  3938.0  604.0  549.0   1663.0           1122.0   Wednesday   \n",
       "2 2013-01-03  2885.0  444.0  376.0   1222.0            843.0    Thursday   \n",
       "3 2013-01-04  2907.0  490.0  386.0   1252.0            779.0      Friday   \n",
       "4 2013-01-05  3831.0  704.0  505.0   1560.0           1062.0    Saturday   \n",
       "5 2013-01-06  4066.0  689.0  544.0   1713.0           1120.0      Sunday   \n",
       "6 2013-01-07  2700.0  431.0  349.0   1170.0            750.0      Monday   \n",
       "7 2013-01-08  2533.0  396.0  313.0   1144.0            680.0     Tuesday   \n",
       "8 2013-01-09  2462.0  405.0  336.0   1074.0            647.0   Wednesday   \n",
       "9 2013-01-10  2110.0  367.0  282.0    878.0            583.0    Thursday   \n",
       "\n",
       "   week_day  Amt_lag  Amt_lag7    Amt_MA7_1  Amt_D1  \n",
       "0         1      NaN       NaN          NaN     NaN  \n",
       "1         1     20.0       NaN          NaN     1.0  \n",
       "2         1   3938.0       NaN  2281.000000    -1.0  \n",
       "3         1   2885.0       NaN  3243.333333     1.0  \n",
       "4         1   2907.0       NaN  3207.666667     1.0  \n",
       "5         1   3831.0       NaN  3601.333333     1.0  \n",
       "6         2   4066.0       NaN  3532.333333    -1.0  \n",
       "7         2   2700.0      20.0  3099.666667    -1.0  \n",
       "8         2   2533.0    3938.0  2565.000000    -1.0  \n",
       "9         2   2462.0    2885.0  2368.333333    -1.0  "
      ]
     },
     "execution_count": 47,
     "metadata": {},
     "output_type": "execute_result"
    }
   ],
   "source": [
    "data.head(10)"
   ]
  }
 ],
 "metadata": {
  "colab": {
   "provenance": [],
   "toc_visible": true
  },
  "kernelspec": {
   "display_name": "Python 3 (ipykernel)",
   "language": "python",
   "name": "python3"
  },
  "language_info": {
   "codemirror_mode": {
    "name": "ipython",
    "version": 3
   },
   "file_extension": ".py",
   "mimetype": "text/x-python",
   "name": "python",
   "nbconvert_exporter": "python",
   "pygments_lexer": "ipython3",
   "version": "3.11.5"
  }
 },
 "nbformat": 4,
 "nbformat_minor": 4
}
