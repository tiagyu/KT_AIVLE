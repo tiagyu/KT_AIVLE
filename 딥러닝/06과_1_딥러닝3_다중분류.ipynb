{
  "nbformat": 4,
  "nbformat_minor": 0,
  "metadata": {
    "colab": {
      "provenance": []
    },
    "kernelspec": {
      "name": "python3",
      "display_name": "Python 3"
    }
  },
  "cells": [
    {
      "cell_type": "markdown",
      "metadata": {
        "id": "cVB9pY-v8uv5"
      },
      "source": [
        "# 딥러닝3 : 다중분류\n"
      ]
    },
    {
      "cell_type": "markdown",
      "metadata": {
        "id": "gIN5d51gtker"
      },
      "source": [
        "## 1.환경준비"
      ]
    },
    {
      "cell_type": "markdown",
      "source": [
        "### (1) 라이브러리 로딩"
      ],
      "metadata": {
        "id": "98K82DAxvX6I"
      }
    },
    {
      "cell_type": "code",
      "metadata": {
        "id": "GVvCef6A8uv6"
      },
      "source": [
        "import pandas as pd\n",
        "import numpy as np\n",
        "import matplotlib.pyplot as plt\n",
        "import seaborn as sns\n",
        "\n",
        "from sklearn.model_selection import train_test_split\n",
        "from sklearn.metrics import *\n",
        "from sklearn.preprocessing import MinMaxScaler\n",
        "\n",
        "from keras.models import Sequential\n",
        "from keras.layers import Dense\n",
        "from keras.backend import clear_session\n",
        "from keras.optimizers import Adam"
      ],
      "execution_count": null,
      "outputs": []
    },
    {
      "cell_type": "markdown",
      "source": [
        "* 함수 만들기"
      ],
      "metadata": {
        "id": "_h70-6MP7wtO"
      }
    },
    {
      "cell_type": "code",
      "source": [
        "# 학습곡선 함수\n",
        "def dl_history_plot(history):\n",
        "    plt.figure(figsize=(10,6))\n",
        "    plt.plot(history['loss'], label='train_err', marker = '.')\n",
        "    plt.plot(history['val_loss'], label='val_err', marker = '.')\n",
        "\n",
        "    plt.ylabel('Loss')\n",
        "    plt.xlabel('Epoch')\n",
        "    plt.legend()\n",
        "    plt.grid()\n",
        "    plt.show()"
      ],
      "metadata": {
        "id": "JWswaopv7yBI"
      },
      "execution_count": null,
      "outputs": []
    },
    {
      "cell_type": "markdown",
      "source": [
        "### (2) 데이터로딩"
      ],
      "metadata": {
        "id": "6wuqykgvviCc"
      }
    },
    {
      "cell_type": "code",
      "metadata": {
        "id": "Vqr7zY5r8uwC",
        "colab": {
          "base_uri": "https://localhost:8080/",
          "height": 206
        },
        "outputId": "c64a30d8-7cbb-4243-fc9f-408e4b15db74"
      },
      "source": [
        "path = \"https://raw.githubusercontent.com/DA4BAM/dataset/master/iris.csv\"\n",
        "data = pd.read_csv(path)\n",
        "data.head()"
      ],
      "execution_count": null,
      "outputs": [
        {
          "output_type": "execute_result",
          "data": {
            "text/plain": [
              "   Sepal.Length  Sepal.Width  Petal.Length  Petal.Width Species\n",
              "0           5.1          3.5           1.4          0.2  setosa\n",
              "1           4.9          3.0           1.4          0.2  setosa\n",
              "2           4.7          3.2           1.3          0.2  setosa\n",
              "3           4.6          3.1           1.5          0.2  setosa\n",
              "4           5.0          3.6           1.4          0.2  setosa"
            ],
            "text/html": [
              "\n",
              "  <div id=\"df-fc51c789-e044-47de-9f08-f98c1a6baa12\" class=\"colab-df-container\">\n",
              "    <div>\n",
              "<style scoped>\n",
              "    .dataframe tbody tr th:only-of-type {\n",
              "        vertical-align: middle;\n",
              "    }\n",
              "\n",
              "    .dataframe tbody tr th {\n",
              "        vertical-align: top;\n",
              "    }\n",
              "\n",
              "    .dataframe thead th {\n",
              "        text-align: right;\n",
              "    }\n",
              "</style>\n",
              "<table border=\"1\" class=\"dataframe\">\n",
              "  <thead>\n",
              "    <tr style=\"text-align: right;\">\n",
              "      <th></th>\n",
              "      <th>Sepal.Length</th>\n",
              "      <th>Sepal.Width</th>\n",
              "      <th>Petal.Length</th>\n",
              "      <th>Petal.Width</th>\n",
              "      <th>Species</th>\n",
              "    </tr>\n",
              "  </thead>\n",
              "  <tbody>\n",
              "    <tr>\n",
              "      <th>0</th>\n",
              "      <td>5.1</td>\n",
              "      <td>3.5</td>\n",
              "      <td>1.4</td>\n",
              "      <td>0.2</td>\n",
              "      <td>setosa</td>\n",
              "    </tr>\n",
              "    <tr>\n",
              "      <th>1</th>\n",
              "      <td>4.9</td>\n",
              "      <td>3.0</td>\n",
              "      <td>1.4</td>\n",
              "      <td>0.2</td>\n",
              "      <td>setosa</td>\n",
              "    </tr>\n",
              "    <tr>\n",
              "      <th>2</th>\n",
              "      <td>4.7</td>\n",
              "      <td>3.2</td>\n",
              "      <td>1.3</td>\n",
              "      <td>0.2</td>\n",
              "      <td>setosa</td>\n",
              "    </tr>\n",
              "    <tr>\n",
              "      <th>3</th>\n",
              "      <td>4.6</td>\n",
              "      <td>3.1</td>\n",
              "      <td>1.5</td>\n",
              "      <td>0.2</td>\n",
              "      <td>setosa</td>\n",
              "    </tr>\n",
              "    <tr>\n",
              "      <th>4</th>\n",
              "      <td>5.0</td>\n",
              "      <td>3.6</td>\n",
              "      <td>1.4</td>\n",
              "      <td>0.2</td>\n",
              "      <td>setosa</td>\n",
              "    </tr>\n",
              "  </tbody>\n",
              "</table>\n",
              "</div>\n",
              "    <div class=\"colab-df-buttons\">\n",
              "\n",
              "  <div class=\"colab-df-container\">\n",
              "    <button class=\"colab-df-convert\" onclick=\"convertToInteractive('df-fc51c789-e044-47de-9f08-f98c1a6baa12')\"\n",
              "            title=\"Convert this dataframe to an interactive table.\"\n",
              "            style=\"display:none;\">\n",
              "\n",
              "  <svg xmlns=\"http://www.w3.org/2000/svg\" height=\"24px\" viewBox=\"0 -960 960 960\">\n",
              "    <path d=\"M120-120v-720h720v720H120Zm60-500h600v-160H180v160Zm220 220h160v-160H400v160Zm0 220h160v-160H400v160ZM180-400h160v-160H180v160Zm440 0h160v-160H620v160ZM180-180h160v-160H180v160Zm440 0h160v-160H620v160Z\"/>\n",
              "  </svg>\n",
              "    </button>\n",
              "\n",
              "  <style>\n",
              "    .colab-df-container {\n",
              "      display:flex;\n",
              "      gap: 12px;\n",
              "    }\n",
              "\n",
              "    .colab-df-convert {\n",
              "      background-color: #E8F0FE;\n",
              "      border: none;\n",
              "      border-radius: 50%;\n",
              "      cursor: pointer;\n",
              "      display: none;\n",
              "      fill: #1967D2;\n",
              "      height: 32px;\n",
              "      padding: 0 0 0 0;\n",
              "      width: 32px;\n",
              "    }\n",
              "\n",
              "    .colab-df-convert:hover {\n",
              "      background-color: #E2EBFA;\n",
              "      box-shadow: 0px 1px 2px rgba(60, 64, 67, 0.3), 0px 1px 3px 1px rgba(60, 64, 67, 0.15);\n",
              "      fill: #174EA6;\n",
              "    }\n",
              "\n",
              "    .colab-df-buttons div {\n",
              "      margin-bottom: 4px;\n",
              "    }\n",
              "\n",
              "    [theme=dark] .colab-df-convert {\n",
              "      background-color: #3B4455;\n",
              "      fill: #D2E3FC;\n",
              "    }\n",
              "\n",
              "    [theme=dark] .colab-df-convert:hover {\n",
              "      background-color: #434B5C;\n",
              "      box-shadow: 0px 1px 3px 1px rgba(0, 0, 0, 0.15);\n",
              "      filter: drop-shadow(0px 1px 2px rgba(0, 0, 0, 0.3));\n",
              "      fill: #FFFFFF;\n",
              "    }\n",
              "  </style>\n",
              "\n",
              "    <script>\n",
              "      const buttonEl =\n",
              "        document.querySelector('#df-fc51c789-e044-47de-9f08-f98c1a6baa12 button.colab-df-convert');\n",
              "      buttonEl.style.display =\n",
              "        google.colab.kernel.accessAllowed ? 'block' : 'none';\n",
              "\n",
              "      async function convertToInteractive(key) {\n",
              "        const element = document.querySelector('#df-fc51c789-e044-47de-9f08-f98c1a6baa12');\n",
              "        const dataTable =\n",
              "          await google.colab.kernel.invokeFunction('convertToInteractive',\n",
              "                                                    [key], {});\n",
              "        if (!dataTable) return;\n",
              "\n",
              "        const docLinkHtml = 'Like what you see? Visit the ' +\n",
              "          '<a target=\"_blank\" href=https://colab.research.google.com/notebooks/data_table.ipynb>data table notebook</a>'\n",
              "          + ' to learn more about interactive tables.';\n",
              "        element.innerHTML = '';\n",
              "        dataTable['output_type'] = 'display_data';\n",
              "        await google.colab.output.renderOutput(dataTable, element);\n",
              "        const docLink = document.createElement('div');\n",
              "        docLink.innerHTML = docLinkHtml;\n",
              "        element.appendChild(docLink);\n",
              "      }\n",
              "    </script>\n",
              "  </div>\n",
              "\n",
              "\n",
              "<div id=\"df-e8465fc1-6a88-44d5-9316-22901ed7a0cc\">\n",
              "  <button class=\"colab-df-quickchart\" onclick=\"quickchart('df-e8465fc1-6a88-44d5-9316-22901ed7a0cc')\"\n",
              "            title=\"Suggest charts\"\n",
              "            style=\"display:none;\">\n",
              "\n",
              "<svg xmlns=\"http://www.w3.org/2000/svg\" height=\"24px\"viewBox=\"0 0 24 24\"\n",
              "     width=\"24px\">\n",
              "    <g>\n",
              "        <path d=\"M19 3H5c-1.1 0-2 .9-2 2v14c0 1.1.9 2 2 2h14c1.1 0 2-.9 2-2V5c0-1.1-.9-2-2-2zM9 17H7v-7h2v7zm4 0h-2V7h2v10zm4 0h-2v-4h2v4z\"/>\n",
              "    </g>\n",
              "</svg>\n",
              "  </button>\n",
              "\n",
              "<style>\n",
              "  .colab-df-quickchart {\n",
              "      --bg-color: #E8F0FE;\n",
              "      --fill-color: #1967D2;\n",
              "      --hover-bg-color: #E2EBFA;\n",
              "      --hover-fill-color: #174EA6;\n",
              "      --disabled-fill-color: #AAA;\n",
              "      --disabled-bg-color: #DDD;\n",
              "  }\n",
              "\n",
              "  [theme=dark] .colab-df-quickchart {\n",
              "      --bg-color: #3B4455;\n",
              "      --fill-color: #D2E3FC;\n",
              "      --hover-bg-color: #434B5C;\n",
              "      --hover-fill-color: #FFFFFF;\n",
              "      --disabled-bg-color: #3B4455;\n",
              "      --disabled-fill-color: #666;\n",
              "  }\n",
              "\n",
              "  .colab-df-quickchart {\n",
              "    background-color: var(--bg-color);\n",
              "    border: none;\n",
              "    border-radius: 50%;\n",
              "    cursor: pointer;\n",
              "    display: none;\n",
              "    fill: var(--fill-color);\n",
              "    height: 32px;\n",
              "    padding: 0;\n",
              "    width: 32px;\n",
              "  }\n",
              "\n",
              "  .colab-df-quickchart:hover {\n",
              "    background-color: var(--hover-bg-color);\n",
              "    box-shadow: 0 1px 2px rgba(60, 64, 67, 0.3), 0 1px 3px 1px rgba(60, 64, 67, 0.15);\n",
              "    fill: var(--button-hover-fill-color);\n",
              "  }\n",
              "\n",
              "  .colab-df-quickchart-complete:disabled,\n",
              "  .colab-df-quickchart-complete:disabled:hover {\n",
              "    background-color: var(--disabled-bg-color);\n",
              "    fill: var(--disabled-fill-color);\n",
              "    box-shadow: none;\n",
              "  }\n",
              "\n",
              "  .colab-df-spinner {\n",
              "    border: 2px solid var(--fill-color);\n",
              "    border-color: transparent;\n",
              "    border-bottom-color: var(--fill-color);\n",
              "    animation:\n",
              "      spin 1s steps(1) infinite;\n",
              "  }\n",
              "\n",
              "  @keyframes spin {\n",
              "    0% {\n",
              "      border-color: transparent;\n",
              "      border-bottom-color: var(--fill-color);\n",
              "      border-left-color: var(--fill-color);\n",
              "    }\n",
              "    20% {\n",
              "      border-color: transparent;\n",
              "      border-left-color: var(--fill-color);\n",
              "      border-top-color: var(--fill-color);\n",
              "    }\n",
              "    30% {\n",
              "      border-color: transparent;\n",
              "      border-left-color: var(--fill-color);\n",
              "      border-top-color: var(--fill-color);\n",
              "      border-right-color: var(--fill-color);\n",
              "    }\n",
              "    40% {\n",
              "      border-color: transparent;\n",
              "      border-right-color: var(--fill-color);\n",
              "      border-top-color: var(--fill-color);\n",
              "    }\n",
              "    60% {\n",
              "      border-color: transparent;\n",
              "      border-right-color: var(--fill-color);\n",
              "    }\n",
              "    80% {\n",
              "      border-color: transparent;\n",
              "      border-right-color: var(--fill-color);\n",
              "      border-bottom-color: var(--fill-color);\n",
              "    }\n",
              "    90% {\n",
              "      border-color: transparent;\n",
              "      border-bottom-color: var(--fill-color);\n",
              "    }\n",
              "  }\n",
              "</style>\n",
              "\n",
              "  <script>\n",
              "    async function quickchart(key) {\n",
              "      const quickchartButtonEl =\n",
              "        document.querySelector('#' + key + ' button');\n",
              "      quickchartButtonEl.disabled = true;  // To prevent multiple clicks.\n",
              "      quickchartButtonEl.classList.add('colab-df-spinner');\n",
              "      try {\n",
              "        const charts = await google.colab.kernel.invokeFunction(\n",
              "            'suggestCharts', [key], {});\n",
              "      } catch (error) {\n",
              "        console.error('Error during call to suggestCharts:', error);\n",
              "      }\n",
              "      quickchartButtonEl.classList.remove('colab-df-spinner');\n",
              "      quickchartButtonEl.classList.add('colab-df-quickchart-complete');\n",
              "    }\n",
              "    (() => {\n",
              "      let quickchartButtonEl =\n",
              "        document.querySelector('#df-e8465fc1-6a88-44d5-9316-22901ed7a0cc button');\n",
              "      quickchartButtonEl.style.display =\n",
              "        google.colab.kernel.accessAllowed ? 'block' : 'none';\n",
              "    })();\n",
              "  </script>\n",
              "</div>\n",
              "\n",
              "    </div>\n",
              "  </div>\n"
            ],
            "application/vnd.google.colaboratory.intrinsic+json": {
              "type": "dataframe",
              "variable_name": "data",
              "summary": "{\n  \"name\": \"data\",\n  \"rows\": 150,\n  \"fields\": [\n    {\n      \"column\": \"Sepal.Length\",\n      \"properties\": {\n        \"dtype\": \"number\",\n        \"std\": 0.828066127977863,\n        \"min\": 4.3,\n        \"max\": 7.9,\n        \"num_unique_values\": 35,\n        \"samples\": [\n          6.2,\n          4.5,\n          5.6\n        ],\n        \"semantic_type\": \"\",\n        \"description\": \"\"\n      }\n    },\n    {\n      \"column\": \"Sepal.Width\",\n      \"properties\": {\n        \"dtype\": \"number\",\n        \"std\": 0.4358662849366982,\n        \"min\": 2.0,\n        \"max\": 4.4,\n        \"num_unique_values\": 23,\n        \"samples\": [\n          2.3,\n          4.0,\n          3.5\n        ],\n        \"semantic_type\": \"\",\n        \"description\": \"\"\n      }\n    },\n    {\n      \"column\": \"Petal.Length\",\n      \"properties\": {\n        \"dtype\": \"number\",\n        \"std\": 1.7652982332594662,\n        \"min\": 1.0,\n        \"max\": 6.9,\n        \"num_unique_values\": 43,\n        \"samples\": [\n          6.7,\n          3.8,\n          3.7\n        ],\n        \"semantic_type\": \"\",\n        \"description\": \"\"\n      }\n    },\n    {\n      \"column\": \"Petal.Width\",\n      \"properties\": {\n        \"dtype\": \"number\",\n        \"std\": 0.7622376689603465,\n        \"min\": 0.1,\n        \"max\": 2.5,\n        \"num_unique_values\": 22,\n        \"samples\": [\n          0.2,\n          1.2,\n          1.3\n        ],\n        \"semantic_type\": \"\",\n        \"description\": \"\"\n      }\n    },\n    {\n      \"column\": \"Species\",\n      \"properties\": {\n        \"dtype\": \"category\",\n        \"num_unique_values\": 3,\n        \"samples\": [\n          \"setosa\",\n          \"versicolor\",\n          \"virginica\"\n        ],\n        \"semantic_type\": \"\",\n        \"description\": \"\"\n      }\n    }\n  ]\n}"
            }
          },
          "metadata": {},
          "execution_count": 120
        }
      ]
    },
    {
      "cell_type": "markdown",
      "source": [
        "## 2.데이터 준비"
      ],
      "metadata": {
        "id": "_vRHWCJJooH1"
      }
    },
    {
      "cell_type": "markdown",
      "source": [
        "### (1) y 값을 0,1,2로 변환하기\n",
        "(sparse_categorical_crossentropy 사용을 위해)"
      ],
      "metadata": {
        "id": "JpcIzZmH7ONf"
      }
    },
    {
      "cell_type": "code",
      "source": [
        "data['Species'] = data['Species'].map({'setosa':0, 'versicolor':1, 'virginica':2})\n",
        "data.head()"
      ],
      "metadata": {
        "id": "M-W1RW297RB9",
        "colab": {
          "base_uri": "https://localhost:8080/",
          "height": 206
        },
        "outputId": "ee783bdc-539a-4b65-f36e-2754dcd3488a"
      },
      "execution_count": null,
      "outputs": [
        {
          "output_type": "execute_result",
          "data": {
            "text/plain": [
              "   Sepal.Length  Sepal.Width  Petal.Length  Petal.Width  Species\n",
              "0           5.1          3.5           1.4          0.2        0\n",
              "1           4.9          3.0           1.4          0.2        0\n",
              "2           4.7          3.2           1.3          0.2        0\n",
              "3           4.6          3.1           1.5          0.2        0\n",
              "4           5.0          3.6           1.4          0.2        0"
            ],
            "text/html": [
              "\n",
              "  <div id=\"df-f60d4e1d-396a-4f35-b9ae-430aa4d4db4c\" class=\"colab-df-container\">\n",
              "    <div>\n",
              "<style scoped>\n",
              "    .dataframe tbody tr th:only-of-type {\n",
              "        vertical-align: middle;\n",
              "    }\n",
              "\n",
              "    .dataframe tbody tr th {\n",
              "        vertical-align: top;\n",
              "    }\n",
              "\n",
              "    .dataframe thead th {\n",
              "        text-align: right;\n",
              "    }\n",
              "</style>\n",
              "<table border=\"1\" class=\"dataframe\">\n",
              "  <thead>\n",
              "    <tr style=\"text-align: right;\">\n",
              "      <th></th>\n",
              "      <th>Sepal.Length</th>\n",
              "      <th>Sepal.Width</th>\n",
              "      <th>Petal.Length</th>\n",
              "      <th>Petal.Width</th>\n",
              "      <th>Species</th>\n",
              "    </tr>\n",
              "  </thead>\n",
              "  <tbody>\n",
              "    <tr>\n",
              "      <th>0</th>\n",
              "      <td>5.1</td>\n",
              "      <td>3.5</td>\n",
              "      <td>1.4</td>\n",
              "      <td>0.2</td>\n",
              "      <td>0</td>\n",
              "    </tr>\n",
              "    <tr>\n",
              "      <th>1</th>\n",
              "      <td>4.9</td>\n",
              "      <td>3.0</td>\n",
              "      <td>1.4</td>\n",
              "      <td>0.2</td>\n",
              "      <td>0</td>\n",
              "    </tr>\n",
              "    <tr>\n",
              "      <th>2</th>\n",
              "      <td>4.7</td>\n",
              "      <td>3.2</td>\n",
              "      <td>1.3</td>\n",
              "      <td>0.2</td>\n",
              "      <td>0</td>\n",
              "    </tr>\n",
              "    <tr>\n",
              "      <th>3</th>\n",
              "      <td>4.6</td>\n",
              "      <td>3.1</td>\n",
              "      <td>1.5</td>\n",
              "      <td>0.2</td>\n",
              "      <td>0</td>\n",
              "    </tr>\n",
              "    <tr>\n",
              "      <th>4</th>\n",
              "      <td>5.0</td>\n",
              "      <td>3.6</td>\n",
              "      <td>1.4</td>\n",
              "      <td>0.2</td>\n",
              "      <td>0</td>\n",
              "    </tr>\n",
              "  </tbody>\n",
              "</table>\n",
              "</div>\n",
              "    <div class=\"colab-df-buttons\">\n",
              "\n",
              "  <div class=\"colab-df-container\">\n",
              "    <button class=\"colab-df-convert\" onclick=\"convertToInteractive('df-f60d4e1d-396a-4f35-b9ae-430aa4d4db4c')\"\n",
              "            title=\"Convert this dataframe to an interactive table.\"\n",
              "            style=\"display:none;\">\n",
              "\n",
              "  <svg xmlns=\"http://www.w3.org/2000/svg\" height=\"24px\" viewBox=\"0 -960 960 960\">\n",
              "    <path d=\"M120-120v-720h720v720H120Zm60-500h600v-160H180v160Zm220 220h160v-160H400v160Zm0 220h160v-160H400v160ZM180-400h160v-160H180v160Zm440 0h160v-160H620v160ZM180-180h160v-160H180v160Zm440 0h160v-160H620v160Z\"/>\n",
              "  </svg>\n",
              "    </button>\n",
              "\n",
              "  <style>\n",
              "    .colab-df-container {\n",
              "      display:flex;\n",
              "      gap: 12px;\n",
              "    }\n",
              "\n",
              "    .colab-df-convert {\n",
              "      background-color: #E8F0FE;\n",
              "      border: none;\n",
              "      border-radius: 50%;\n",
              "      cursor: pointer;\n",
              "      display: none;\n",
              "      fill: #1967D2;\n",
              "      height: 32px;\n",
              "      padding: 0 0 0 0;\n",
              "      width: 32px;\n",
              "    }\n",
              "\n",
              "    .colab-df-convert:hover {\n",
              "      background-color: #E2EBFA;\n",
              "      box-shadow: 0px 1px 2px rgba(60, 64, 67, 0.3), 0px 1px 3px 1px rgba(60, 64, 67, 0.15);\n",
              "      fill: #174EA6;\n",
              "    }\n",
              "\n",
              "    .colab-df-buttons div {\n",
              "      margin-bottom: 4px;\n",
              "    }\n",
              "\n",
              "    [theme=dark] .colab-df-convert {\n",
              "      background-color: #3B4455;\n",
              "      fill: #D2E3FC;\n",
              "    }\n",
              "\n",
              "    [theme=dark] .colab-df-convert:hover {\n",
              "      background-color: #434B5C;\n",
              "      box-shadow: 0px 1px 3px 1px rgba(0, 0, 0, 0.15);\n",
              "      filter: drop-shadow(0px 1px 2px rgba(0, 0, 0, 0.3));\n",
              "      fill: #FFFFFF;\n",
              "    }\n",
              "  </style>\n",
              "\n",
              "    <script>\n",
              "      const buttonEl =\n",
              "        document.querySelector('#df-f60d4e1d-396a-4f35-b9ae-430aa4d4db4c button.colab-df-convert');\n",
              "      buttonEl.style.display =\n",
              "        google.colab.kernel.accessAllowed ? 'block' : 'none';\n",
              "\n",
              "      async function convertToInteractive(key) {\n",
              "        const element = document.querySelector('#df-f60d4e1d-396a-4f35-b9ae-430aa4d4db4c');\n",
              "        const dataTable =\n",
              "          await google.colab.kernel.invokeFunction('convertToInteractive',\n",
              "                                                    [key], {});\n",
              "        if (!dataTable) return;\n",
              "\n",
              "        const docLinkHtml = 'Like what you see? Visit the ' +\n",
              "          '<a target=\"_blank\" href=https://colab.research.google.com/notebooks/data_table.ipynb>data table notebook</a>'\n",
              "          + ' to learn more about interactive tables.';\n",
              "        element.innerHTML = '';\n",
              "        dataTable['output_type'] = 'display_data';\n",
              "        await google.colab.output.renderOutput(dataTable, element);\n",
              "        const docLink = document.createElement('div');\n",
              "        docLink.innerHTML = docLinkHtml;\n",
              "        element.appendChild(docLink);\n",
              "      }\n",
              "    </script>\n",
              "  </div>\n",
              "\n",
              "\n",
              "<div id=\"df-5945ab99-0938-45b4-8664-ffa685ccbb3c\">\n",
              "  <button class=\"colab-df-quickchart\" onclick=\"quickchart('df-5945ab99-0938-45b4-8664-ffa685ccbb3c')\"\n",
              "            title=\"Suggest charts\"\n",
              "            style=\"display:none;\">\n",
              "\n",
              "<svg xmlns=\"http://www.w3.org/2000/svg\" height=\"24px\"viewBox=\"0 0 24 24\"\n",
              "     width=\"24px\">\n",
              "    <g>\n",
              "        <path d=\"M19 3H5c-1.1 0-2 .9-2 2v14c0 1.1.9 2 2 2h14c1.1 0 2-.9 2-2V5c0-1.1-.9-2-2-2zM9 17H7v-7h2v7zm4 0h-2V7h2v10zm4 0h-2v-4h2v4z\"/>\n",
              "    </g>\n",
              "</svg>\n",
              "  </button>\n",
              "\n",
              "<style>\n",
              "  .colab-df-quickchart {\n",
              "      --bg-color: #E8F0FE;\n",
              "      --fill-color: #1967D2;\n",
              "      --hover-bg-color: #E2EBFA;\n",
              "      --hover-fill-color: #174EA6;\n",
              "      --disabled-fill-color: #AAA;\n",
              "      --disabled-bg-color: #DDD;\n",
              "  }\n",
              "\n",
              "  [theme=dark] .colab-df-quickchart {\n",
              "      --bg-color: #3B4455;\n",
              "      --fill-color: #D2E3FC;\n",
              "      --hover-bg-color: #434B5C;\n",
              "      --hover-fill-color: #FFFFFF;\n",
              "      --disabled-bg-color: #3B4455;\n",
              "      --disabled-fill-color: #666;\n",
              "  }\n",
              "\n",
              "  .colab-df-quickchart {\n",
              "    background-color: var(--bg-color);\n",
              "    border: none;\n",
              "    border-radius: 50%;\n",
              "    cursor: pointer;\n",
              "    display: none;\n",
              "    fill: var(--fill-color);\n",
              "    height: 32px;\n",
              "    padding: 0;\n",
              "    width: 32px;\n",
              "  }\n",
              "\n",
              "  .colab-df-quickchart:hover {\n",
              "    background-color: var(--hover-bg-color);\n",
              "    box-shadow: 0 1px 2px rgba(60, 64, 67, 0.3), 0 1px 3px 1px rgba(60, 64, 67, 0.15);\n",
              "    fill: var(--button-hover-fill-color);\n",
              "  }\n",
              "\n",
              "  .colab-df-quickchart-complete:disabled,\n",
              "  .colab-df-quickchart-complete:disabled:hover {\n",
              "    background-color: var(--disabled-bg-color);\n",
              "    fill: var(--disabled-fill-color);\n",
              "    box-shadow: none;\n",
              "  }\n",
              "\n",
              "  .colab-df-spinner {\n",
              "    border: 2px solid var(--fill-color);\n",
              "    border-color: transparent;\n",
              "    border-bottom-color: var(--fill-color);\n",
              "    animation:\n",
              "      spin 1s steps(1) infinite;\n",
              "  }\n",
              "\n",
              "  @keyframes spin {\n",
              "    0% {\n",
              "      border-color: transparent;\n",
              "      border-bottom-color: var(--fill-color);\n",
              "      border-left-color: var(--fill-color);\n",
              "    }\n",
              "    20% {\n",
              "      border-color: transparent;\n",
              "      border-left-color: var(--fill-color);\n",
              "      border-top-color: var(--fill-color);\n",
              "    }\n",
              "    30% {\n",
              "      border-color: transparent;\n",
              "      border-left-color: var(--fill-color);\n",
              "      border-top-color: var(--fill-color);\n",
              "      border-right-color: var(--fill-color);\n",
              "    }\n",
              "    40% {\n",
              "      border-color: transparent;\n",
              "      border-right-color: var(--fill-color);\n",
              "      border-top-color: var(--fill-color);\n",
              "    }\n",
              "    60% {\n",
              "      border-color: transparent;\n",
              "      border-right-color: var(--fill-color);\n",
              "    }\n",
              "    80% {\n",
              "      border-color: transparent;\n",
              "      border-right-color: var(--fill-color);\n",
              "      border-bottom-color: var(--fill-color);\n",
              "    }\n",
              "    90% {\n",
              "      border-color: transparent;\n",
              "      border-bottom-color: var(--fill-color);\n",
              "    }\n",
              "  }\n",
              "</style>\n",
              "\n",
              "  <script>\n",
              "    async function quickchart(key) {\n",
              "      const quickchartButtonEl =\n",
              "        document.querySelector('#' + key + ' button');\n",
              "      quickchartButtonEl.disabled = true;  // To prevent multiple clicks.\n",
              "      quickchartButtonEl.classList.add('colab-df-spinner');\n",
              "      try {\n",
              "        const charts = await google.colab.kernel.invokeFunction(\n",
              "            'suggestCharts', [key], {});\n",
              "      } catch (error) {\n",
              "        console.error('Error during call to suggestCharts:', error);\n",
              "      }\n",
              "      quickchartButtonEl.classList.remove('colab-df-spinner');\n",
              "      quickchartButtonEl.classList.add('colab-df-quickchart-complete');\n",
              "    }\n",
              "    (() => {\n",
              "      let quickchartButtonEl =\n",
              "        document.querySelector('#df-5945ab99-0938-45b4-8664-ffa685ccbb3c button');\n",
              "      quickchartButtonEl.style.display =\n",
              "        google.colab.kernel.accessAllowed ? 'block' : 'none';\n",
              "    })();\n",
              "  </script>\n",
              "</div>\n",
              "\n",
              "    </div>\n",
              "  </div>\n"
            ],
            "application/vnd.google.colaboratory.intrinsic+json": {
              "type": "dataframe",
              "variable_name": "data",
              "summary": "{\n  \"name\": \"data\",\n  \"rows\": 150,\n  \"fields\": [\n    {\n      \"column\": \"Sepal.Length\",\n      \"properties\": {\n        \"dtype\": \"number\",\n        \"std\": 0.828066127977863,\n        \"min\": 4.3,\n        \"max\": 7.9,\n        \"num_unique_values\": 35,\n        \"samples\": [\n          6.2,\n          4.5,\n          5.6\n        ],\n        \"semantic_type\": \"\",\n        \"description\": \"\"\n      }\n    },\n    {\n      \"column\": \"Sepal.Width\",\n      \"properties\": {\n        \"dtype\": \"number\",\n        \"std\": 0.4358662849366982,\n        \"min\": 2.0,\n        \"max\": 4.4,\n        \"num_unique_values\": 23,\n        \"samples\": [\n          2.3,\n          4.0,\n          3.5\n        ],\n        \"semantic_type\": \"\",\n        \"description\": \"\"\n      }\n    },\n    {\n      \"column\": \"Petal.Length\",\n      \"properties\": {\n        \"dtype\": \"number\",\n        \"std\": 1.7652982332594662,\n        \"min\": 1.0,\n        \"max\": 6.9,\n        \"num_unique_values\": 43,\n        \"samples\": [\n          6.7,\n          3.8,\n          3.7\n        ],\n        \"semantic_type\": \"\",\n        \"description\": \"\"\n      }\n    },\n    {\n      \"column\": \"Petal.Width\",\n      \"properties\": {\n        \"dtype\": \"number\",\n        \"std\": 0.7622376689603465,\n        \"min\": 0.1,\n        \"max\": 2.5,\n        \"num_unique_values\": 22,\n        \"samples\": [\n          0.2,\n          1.2,\n          1.3\n        ],\n        \"semantic_type\": \"\",\n        \"description\": \"\"\n      }\n    },\n    {\n      \"column\": \"Species\",\n      \"properties\": {\n        \"dtype\": \"number\",\n        \"std\": 0,\n        \"min\": 0,\n        \"max\": 2,\n        \"num_unique_values\": 3,\n        \"samples\": [\n          0,\n          1,\n          2\n        ],\n        \"semantic_type\": \"\",\n        \"description\": \"\"\n      }\n    }\n  ]\n}"
            }
          },
          "metadata": {},
          "execution_count": 121
        }
      ]
    },
    {
      "cell_type": "markdown",
      "source": [
        "### (2) 데이터 준비"
      ],
      "metadata": {
        "id": "j0wC7YMmV1dQ"
      }
    },
    {
      "cell_type": "code",
      "metadata": {
        "id": "FA-PnUpcLqXN"
      },
      "source": [
        "target = 'Species'\n",
        "x = data.drop(target, axis = 1)\n",
        "y = data.loc[:, target]"
      ],
      "execution_count": null,
      "outputs": []
    },
    {
      "cell_type": "markdown",
      "source": [
        "### (3) 데이터 분할 : train : val"
      ],
      "metadata": {
        "id": "0hV7tlMocUfJ"
      }
    },
    {
      "cell_type": "code",
      "source": [
        "x_train, x_val, y_train, y_val = train_test_split(x, y, test_size = .3, random_state = 20)"
      ],
      "metadata": {
        "id": "xXMD-c-LcUfJ"
      },
      "execution_count": null,
      "outputs": []
    },
    {
      "cell_type": "markdown",
      "metadata": {
        "id": "h6bl5cfBcUfJ"
      },
      "source": [
        "### (4) Scaling"
      ]
    },
    {
      "cell_type": "code",
      "source": [
        "scaler = MinMaxScaler()\n",
        "x_train = scaler.fit_transform(x_train)\n",
        "x_val = scaler.transform(x_val)"
      ],
      "metadata": {
        "id": "_vv1mX4gcUfK"
      },
      "execution_count": null,
      "outputs": []
    },
    {
      "cell_type": "markdown",
      "source": [
        "## 3.모델링1"
      ],
      "metadata": {
        "id": "E1kIkHe2cBcY"
      }
    },
    {
      "cell_type": "markdown",
      "metadata": {
        "id": "h-FE2_FScLjo"
      },
      "source": [
        "### (1) 모델 설계"
      ]
    },
    {
      "cell_type": "code",
      "source": [
        "nfeatures = x_train.shape[1] #num of columns\n",
        "nfeatures"
      ],
      "metadata": {
        "id": "OhCckNYfcLjo",
        "colab": {
          "base_uri": "https://localhost:8080/"
        },
        "outputId": "1f3ae498-fae9-4491-b05e-d8f3d148efb6"
      },
      "execution_count": null,
      "outputs": [
        {
          "output_type": "execute_result",
          "data": {
            "text/plain": [
              "4"
            ]
          },
          "metadata": {},
          "execution_count": 126
        }
      ]
    },
    {
      "cell_type": "code",
      "metadata": {
        "id": "UbOyVdCDcLjp",
        "colab": {
          "base_uri": "https://localhost:8080/"
        },
        "outputId": "f655a115-d2cb-468a-cf60-25e07f0872b6"
      },
      "source": [
        "# 메모리 정리\n",
        "clear_session()\n",
        "\n",
        "# Sequential\n",
        "model = Sequential( Dense( 3 , input_shape = (nfeatures,), activation = 'softmax') )\n",
        "\n",
        "# 모델요약\n",
        "model.summary()"
      ],
      "execution_count": null,
      "outputs": [
        {
          "output_type": "stream",
          "name": "stdout",
          "text": [
            "Model: \"sequential\"\n",
            "_________________________________________________________________\n",
            " Layer (type)                Output Shape              Param #   \n",
            "=================================================================\n",
            " dense (Dense)               (None, 3)                 15        \n",
            "                                                                 \n",
            "=================================================================\n",
            "Total params: 15 (60.00 Byte)\n",
            "Trainable params: 15 (60.00 Byte)\n",
            "Non-trainable params: 0 (0.00 Byte)\n",
            "_________________________________________________________________\n"
          ]
        }
      ]
    },
    {
      "cell_type": "markdown",
      "metadata": {
        "id": "EQdh6V-_cLjp"
      },
      "source": [
        "### (2) compile + 학습"
      ]
    },
    {
      "cell_type": "code",
      "metadata": {
        "id": "6ieFhGLUcLjp"
      },
      "source": [
        "model.compile(optimizer=Adam(learning_rate=0.1), loss= 'sparse_categorical_crossentropy')\n",
        "\n",
        "history = model.fit(x_train, y_train, epochs = 50, validation_split=0.2, verbose = 0).history"
      ],
      "execution_count": null,
      "outputs": []
    },
    {
      "cell_type": "markdown",
      "source": [
        "* 학습결과 그래프"
      ],
      "metadata": {
        "id": "aqwLGdhQcLjp"
      }
    },
    {
      "cell_type": "code",
      "metadata": {
        "id": "ljY5TfgkcLjp",
        "colab": {
          "base_uri": "https://localhost:8080/",
          "height": 542
        },
        "outputId": "0f1f1019-42ac-4cde-863c-1218f6dba50a"
      },
      "source": [
        "dl_history_plot(history)"
      ],
      "execution_count": null,
      "outputs": [
        {
          "output_type": "display_data",
          "data": {
            "text/plain": [
              "<Figure size 1000x600 with 1 Axes>"
            ],
            "image/png": "[encoded data removed]"
          },
          "metadata": {}
        }
      ]
    },
    {
      "cell_type": "markdown",
      "source": [
        "### (3) 예측 및 검증\n",
        "* 예측 결과는 softmax로 변환된 값 입니다."
      ],
      "metadata": {
        "id": "DHm8hxw9-sJh"
      }
    },
    {
      "cell_type": "code",
      "source": [
        "pred = model.predict(x_val)\n",
        "pred[:5]"
      ],
      "metadata": {
        "id": "gk3p2_lG-sJi",
        "colab": {
          "base_uri": "https://localhost:8080/"
        },
        "outputId": "32eccd84-3cc5-4a67-cb19-5afced124973"
      },
      "execution_count": null,
      "outputs": [
        {
          "output_type": "stream",
          "name": "stdout",
          "text": [
            "2/2 [==============================] - 0s 5ms/step\n"
          ]
        },
        {
          "output_type": "execute_result",
          "data": {
            "text/plain": [
              "array([[9.9940836e-01, 5.9156289e-04, 2.6799356e-09],\n",
              "       [1.7063925e-04, 9.5219558e-01, 4.7633838e-02],\n",
              "       [2.0027399e-04, 9.4025934e-01, 5.9540294e-02],\n",
              "       [2.6611252e-07, 4.1607067e-01, 5.8392906e-01],\n",
              "       [1.5577257e-03, 9.8901737e-01, 9.4249742e-03]], dtype=float32)"
            ]
          },
          "metadata": {},
          "execution_count": 131
        }
      ]
    },
    {
      "cell_type": "markdown",
      "source": [
        "* 행 별로 제일 큰 값을 찾아서 그에 맞게 숫자(0,1,2)로 변환 합시다."
      ],
      "metadata": {
        "id": "filC4ez3-sJi"
      }
    },
    {
      "cell_type": "code",
      "source": [
        "# 5개 행만 살펴보면\n",
        "np.argmax(pred[:5], axis = 1)"
      ],
      "metadata": {
        "id": "KPSRBqQB-sJi",
        "colab": {
          "base_uri": "https://localhost:8080/"
        },
        "outputId": "b1d59242-d1fa-4c0c-ca37-db2830432117"
      },
      "execution_count": null,
      "outputs": [
        {
          "output_type": "execute_result",
          "data": {
            "text/plain": [
              "array([0, 1, 1, 2, 1])"
            ]
          },
          "metadata": {},
          "execution_count": 132
        }
      ]
    },
    {
      "cell_type": "code",
      "source": [
        "# 전체에 적용해서 변환합시다.\n",
        "pred_1 = pred.argmax(axis=1)\n",
        "pred_1"
      ],
      "metadata": {
        "id": "UUooGdNL-sJi",
        "colab": {
          "base_uri": "https://localhost:8080/"
        },
        "outputId": "9b5e8a5f-0388-4d70-d61c-157531e62d13"
      },
      "execution_count": null,
      "outputs": [
        {
          "output_type": "execute_result",
          "data": {
            "text/plain": [
              "array([0, 1, 1, 2, 1, 1, 2, 0, 2, 0, 2, 1, 1, 0, 0, 2, 0, 1, 2, 1, 1, 2,\n",
              "       2, 0, 1, 1, 1, 0, 2, 1, 1, 1, 0, 0, 0, 1, 1, 0, 1, 2, 1, 1, 0, 1,\n",
              "       1])"
            ]
          },
          "metadata": {},
          "execution_count": 133
        }
      ]
    },
    {
      "cell_type": "markdown",
      "source": [
        "* 실제값 y_val은 0,1,2 로 된 1차원 값입니다."
      ],
      "metadata": {
        "id": "_SgpmDAB-sJi"
      }
    },
    {
      "cell_type": "code",
      "source": [
        "y_val[:5]"
      ],
      "metadata": {
        "colab": {
          "base_uri": "https://localhost:8080/"
        },
        "id": "Rvg2ZWEpr_0c",
        "outputId": "37fc69e0-f7b6-4a49-8f85-7362bfede7bf"
      },
      "execution_count": null,
      "outputs": [
        {
          "output_type": "execute_result",
          "data": {
            "text/plain": [
              "47     0\n",
              "73     1\n",
              "74     1\n",
              "129    2\n",
              "67     1\n",
              "Name: Species, dtype: int64"
            ]
          },
          "metadata": {},
          "execution_count": 134
        }
      ]
    },
    {
      "cell_type": "code",
      "source": [
        "print(confusion_matrix(y_val, pred_1))\n",
        "print(classification_report(y_val, pred_1))"
      ],
      "metadata": {
        "id": "R6iKIqiY-sJj",
        "colab": {
          "base_uri": "https://localhost:8080/"
        },
        "outputId": "076fbd03-5916-4ea1-e455-0ba4eb77a545"
      },
      "execution_count": null,
      "outputs": [
        {
          "output_type": "stream",
          "name": "stdout",
          "text": [
            "[[13  0  0]\n",
            " [ 0 18  0]\n",
            " [ 0  4 10]]\n",
            "              precision    recall  f1-score   support\n",
            "\n",
            "           0       1.00      1.00      1.00        13\n",
            "           1       0.82      1.00      0.90        18\n",
            "           2       1.00      0.71      0.83        14\n",
            "\n",
            "    accuracy                           0.91        45\n",
            "   macro avg       0.94      0.90      0.91        45\n",
            "weighted avg       0.93      0.91      0.91        45\n",
            "\n"
          ]
        }
      ]
    },
    {
      "cell_type": "markdown",
      "source": [
        "----"
      ],
      "metadata": {
        "id": "0iYf_5H8g9mH"
      }
    },
    {
      "cell_type": "markdown",
      "source": [
        "## 4.모델링2 : hidden layer"
      ],
      "metadata": {
        "id": "gLvPsUij4PwK"
      }
    },
    {
      "cell_type": "markdown",
      "source": [
        "### (1) 모델1"
      ],
      "metadata": {
        "id": "qedQPW8Y5Akf"
      }
    },
    {
      "cell_type": "markdown",
      "source": [
        "* 다음의 summary를 보고 모델을 설계하시오.\n",
        "\n",
        "| Layer (type) | Output Shape | Param # | 옵션 |\n",
        "| ---- | ---- | ---- | ---- |\n",
        "| dense (Dense) | (None, 8) | 40 | node, input_shape, activation = 'relu' |\n",
        "| dense_1 (Dense) | (None, 3) | 27 | node, activation = 'softmax'  |"
      ],
      "metadata": {
        "id": "ziu8sULAwBR9"
      }
    },
    {
      "cell_type": "code",
      "source": [
        "# 메모리 정리\n",
        "clear_session()\n",
        "\n",
        "# Sequential 타입 모델 선언\n",
        "model = Sequential([Dense(8 , input_shape = (nfeatures,), activation = 'relu'),\n",
        "                    Dense(3 , activation = 'softmax') ])\n",
        "\n",
        "# 모델요약\n",
        "model.summary()"
      ],
      "metadata": {
        "id": "amoQ7ZWuwBR9",
        "colab": {
          "base_uri": "https://localhost:8080/"
        },
        "outputId": "4ac16713-c2ee-4c39-c3ef-05d3345806df"
      },
      "execution_count": null,
      "outputs": [
        {
          "output_type": "stream",
          "name": "stdout",
          "text": [
            "Model: \"sequential\"\n",
            "_________________________________________________________________\n",
            " Layer (type)                Output Shape              Param #   \n",
            "=================================================================\n",
            " dense (Dense)               (None, 8)                 40        \n",
            "                                                                 \n",
            " dense_1 (Dense)             (None, 3)                 27        \n",
            "                                                                 \n",
            "=================================================================\n",
            "Total params: 67 (268.00 Byte)\n",
            "Trainable params: 67 (268.00 Byte)\n",
            "Non-trainable params: 0 (0.00 Byte)\n",
            "_________________________________________________________________\n"
          ]
        }
      ]
    },
    {
      "cell_type": "markdown",
      "metadata": {
        "id": "Xo0zckS54PwN"
      },
      "source": [
        "* compile + 학습"
      ]
    },
    {
      "cell_type": "code",
      "metadata": {
        "id": "YhzjzFNY4PwN"
      },
      "source": [
        "model.compile(optimizer=Adam(learning_rate=0.01), loss= 'sparse_categorical_crossentropy')\n",
        "\n",
        "history = model.fit(x_train, y_train, epochs = 50, validation_split=0.2, verbose = 0).history"
      ],
      "execution_count": null,
      "outputs": []
    },
    {
      "cell_type": "markdown",
      "source": [
        "* 학습결과 그래프"
      ],
      "metadata": {
        "id": "Knm4cH9d4PwN"
      }
    },
    {
      "cell_type": "code",
      "metadata": {
        "id": "nORqMReL4PwO",
        "colab": {
          "base_uri": "https://localhost:8080/",
          "height": 542
        },
        "outputId": "7e7cd4de-8ca3-44b9-9587-3a62894f12d8"
      },
      "source": [
        "dl_history_plot(history)"
      ],
      "execution_count": null,
      "outputs": [
        {
          "output_type": "display_data",
          "data": {
            "text/plain": [
              "<Figure size 1000x600 with 1 Axes>"
            ],
            "image/png": "[encoded data removed]"
          },
          "metadata": {}
        }
      ]
    },
    {
      "cell_type": "markdown",
      "source": [
        "* 예측 및 검증\n",
        "    * 예측 결과는 softmax로 변환된 값 입니다."
      ],
      "metadata": {
        "id": "tP2dVQ0X4PwO"
      }
    },
    {
      "cell_type": "code",
      "source": [
        "pred = model.predict(x_val)\n",
        "pred_1 = pred.argmax(axis=1)"
      ],
      "metadata": {
        "id": "7BHDyAhn4PwO",
        "colab": {
          "base_uri": "https://localhost:8080/"
        },
        "outputId": "ed415d93-1afd-4048-8770-220a269eba1d"
      },
      "execution_count": null,
      "outputs": [
        {
          "output_type": "stream",
          "name": "stdout",
          "text": [
            "2/2 [==============================] - 0s 6ms/step\n"
          ]
        }
      ]
    },
    {
      "cell_type": "code",
      "source": [
        "print(confusion_matrix(y_val, pred_1))\n",
        "print(classification_report(y_val, pred_1))"
      ],
      "metadata": {
        "id": "_7AZv7qz4PwR",
        "colab": {
          "base_uri": "https://localhost:8080/"
        },
        "outputId": "a34af66a-c04d-4b7a-fdb5-acc36e2d32e1"
      },
      "execution_count": null,
      "outputs": [
        {
          "output_type": "stream",
          "name": "stdout",
          "text": [
            "[[13  0  0]\n",
            " [ 0 17  1]\n",
            " [ 0  2 12]]\n",
            "              precision    recall  f1-score   support\n",
            "\n",
            "           0       1.00      1.00      1.00        13\n",
            "           1       0.89      0.94      0.92        18\n",
            "           2       0.92      0.86      0.89        14\n",
            "\n",
            "    accuracy                           0.93        45\n",
            "   macro avg       0.94      0.93      0.94        45\n",
            "weighted avg       0.93      0.93      0.93        45\n",
            "\n"
          ]
        }
      ]
    },
    {
      "cell_type": "markdown",
      "source": [
        "### (2) 모델2"
      ],
      "metadata": {
        "id": "mwKFTOqt5yp7"
      }
    },
    {
      "cell_type": "markdown",
      "source": [
        "* 다음의 summary를 보고 모델을 설계하시오.\n",
        "\n",
        "| Layer (type) | Output Shape | Param # | 옵션 |\n",
        "| ---- | ---- | ---- | ---- |\n",
        "| dense (Dense) | (None, 8) | 40 | node, input_shape, activation = 'relu' |\n",
        "| dense_1 (Dense) | (None, 8) | 72 | node, activation = 'relu'  |\n",
        "| dense_2 (Dense) | (None, 3) | 27 | node, activation = 'softmax'  |"
      ],
      "metadata": {
        "id": "CCO2A9nK5yp8"
      }
    },
    {
      "cell_type": "code",
      "source": [
        "#메모리 정리\n",
        "clear_session()\n",
        "\n",
        "#모델 설정\n",
        "model2 = Sequential([Dense(8, input_shape = (nfeatures,), activation = 'relu'),\n",
        "                     Dense(8, activation = 'relu'),\n",
        "                     Dense(3, activation = 'softmax')]\n",
        "                    )\n",
        "\n",
        "#모델 요약\n",
        "model2.summary()"
      ],
      "metadata": {
        "id": "NzoP_Aot5yp8",
        "colab": {
          "base_uri": "https://localhost:8080/"
        },
        "outputId": "b427f734-1d4d-4e1d-e13f-62e0401c68ad"
      },
      "execution_count": null,
      "outputs": [
        {
          "output_type": "stream",
          "name": "stdout",
          "text": [
            "Model: \"sequential\"\n",
            "_________________________________________________________________\n",
            " Layer (type)                Output Shape              Param #   \n",
            "=================================================================\n",
            " dense (Dense)               (None, 8)                 40        \n",
            "                                                                 \n",
            " dense_1 (Dense)             (None, 8)                 72        \n",
            "                                                                 \n",
            " dense_2 (Dense)             (None, 3)                 27        \n",
            "                                                                 \n",
            "=================================================================\n",
            "Total params: 139 (556.00 Byte)\n",
            "Trainable params: 139 (556.00 Byte)\n",
            "Non-trainable params: 0 (0.00 Byte)\n",
            "_________________________________________________________________\n"
          ]
        }
      ]
    },
    {
      "cell_type": "markdown",
      "metadata": {
        "id": "KxqBZPBl5yp9"
      },
      "source": [
        "* compile + 학습"
      ]
    },
    {
      "cell_type": "code",
      "metadata": {
        "id": "mphRKTnZ5yp9"
      },
      "source": [
        "model2.compile(optimizer = Adam(learning_rate = 0.1), loss = 'sparse_categorical_crossentropy')\n",
        "history2 = model2.fit(x_train, y_train, epochs = 50, validation_split = .2, verbose = 0).history"
      ],
      "execution_count": null,
      "outputs": []
    },
    {
      "cell_type": "markdown",
      "source": [
        "* 학습결과 그래프"
      ],
      "metadata": {
        "id": "C97SZ1Fd5yp9"
      }
    },
    {
      "cell_type": "code",
      "metadata": {
        "id": "1IvOTRd35yp-",
        "colab": {
          "base_uri": "https://localhost:8080/",
          "height": 542
        },
        "outputId": "61ff9389-dd11-405a-82d5-b2f6a05ec97d"
      },
      "source": [
        "dl_history_plot(history2)"
      ],
      "execution_count": null,
      "outputs": [
        {
          "output_type": "display_data",
          "data": {
            "text/plain": [
              "<Figure size 1000x600 with 1 Axes>"
            ],
            "image/png": "[encoded data removed]"
          },
          "metadata": {}
        }
      ]
    },
    {
      "cell_type": "markdown",
      "source": [
        "* 예측 및 검증\n",
        "    * 예측 결과는 softmax로 변환된 값 입니다."
      ],
      "metadata": {
        "id": "ch2Rt9MU5yp-"
      }
    },
    {
      "cell_type": "code",
      "source": [
        "pred2 = model2.predict(x_val)\n",
        "pred_2 = pred2.argmax(axis=1)"
      ],
      "metadata": {
        "id": "tUZMK3ae5yp-",
        "colab": {
          "base_uri": "https://localhost:8080/"
        },
        "outputId": "1e01ce86-7f51-452d-aea4-587c252f2501"
      },
      "execution_count": null,
      "outputs": [
        {
          "output_type": "stream",
          "name": "stdout",
          "text": [
            "2/2 [==============================] - 0s 7ms/step\n"
          ]
        }
      ]
    },
    {
      "cell_type": "code",
      "source": [
        "print(confusion_matrix(y_val,pred_2))\n",
        "print(classification_report(y_val,pred_2))"
      ],
      "metadata": {
        "id": "XpKCoA8U5yp-",
        "colab": {
          "base_uri": "https://localhost:8080/"
        },
        "outputId": "5ccf56f3-558c-47e8-d25e-9c3ddb1efd72"
      },
      "execution_count": null,
      "outputs": [
        {
          "output_type": "stream",
          "name": "stdout",
          "text": [
            "[[13  0  0]\n",
            " [ 0 18  0]\n",
            " [ 0  4 10]]\n",
            "              precision    recall  f1-score   support\n",
            "\n",
            "           0       1.00      1.00      1.00        13\n",
            "           1       0.82      1.00      0.90        18\n",
            "           2       1.00      0.71      0.83        14\n",
            "\n",
            "    accuracy                           0.91        45\n",
            "   macro avg       0.94      0.90      0.91        45\n",
            "weighted avg       0.93      0.91      0.91        45\n",
            "\n"
          ]
        }
      ]
    },
    {
      "cell_type": "markdown",
      "source": [
        "### (3) 모델3"
      ],
      "metadata": {
        "id": "PTiPwLOt6EJc"
      }
    },
    {
      "cell_type": "markdown",
      "source": [
        "* 여러분이 원하는 형태로 설계를 해 봅시다."
      ],
      "metadata": {
        "id": "vY3EunAw6EJd"
      }
    },
    {
      "cell_type": "code",
      "source": [
        "#메모리 정리\n",
        "clear_session()\n",
        "\n",
        "#모델\n",
        "model3 = Sequential([Dense(8, input_shape = (nfeatures,), activation = 'relu'),\n",
        "                     Dense(16, activation = 'relu'),\n",
        "                     Dense(3, activation = 'softmax')]\n",
        "                    )\n",
        "\n",
        "#모델 요약\n",
        "model3.summary()"
      ],
      "metadata": {
        "id": "CuVmQ4uL6EJd",
        "colab": {
          "base_uri": "https://localhost:8080/"
        },
        "outputId": "e226a0a1-060c-4b81-e383-65368e011bf1"
      },
      "execution_count": null,
      "outputs": [
        {
          "output_type": "stream",
          "name": "stdout",
          "text": [
            "Model: \"sequential\"\n",
            "_________________________________________________________________\n",
            " Layer (type)                Output Shape              Param #   \n",
            "=================================================================\n",
            " dense (Dense)               (None, 8)                 40        \n",
            "                                                                 \n",
            " dense_1 (Dense)             (None, 16)                144       \n",
            "                                                                 \n",
            " dense_2 (Dense)             (None, 3)                 51        \n",
            "                                                                 \n",
            "=================================================================\n",
            "Total params: 235 (940.00 Byte)\n",
            "Trainable params: 235 (940.00 Byte)\n",
            "Non-trainable params: 0 (0.00 Byte)\n",
            "_________________________________________________________________\n"
          ]
        }
      ]
    },
    {
      "cell_type": "markdown",
      "metadata": {
        "id": "dkavGuo46EJd"
      },
      "source": [
        "* compile + 학습"
      ]
    },
    {
      "cell_type": "code",
      "metadata": {
        "id": "uKNp6rIr6EJe"
      },
      "source": [
        "model3.compile(optimizer = Adam(learning_rate = 0.01), loss = 'sparse_categorical_crossentropy')\n",
        "history3 = model.fit(x_train, y_train, epochs =100, validation_split = .2, verbose = 0).history"
      ],
      "execution_count": null,
      "outputs": []
    },
    {
      "cell_type": "markdown",
      "source": [
        "* 학습결과 그래프"
      ],
      "metadata": {
        "id": "cIo6Iw826EJe"
      }
    },
    {
      "cell_type": "code",
      "metadata": {
        "id": "NdqCDRkQ6EJe",
        "colab": {
          "base_uri": "https://localhost:8080/",
          "height": 542
        },
        "outputId": "593e9416-cd84-488a-8fc0-bb6379e62397"
      },
      "source": [
        "dl_history_plot(history3)"
      ],
      "execution_count": null,
      "outputs": [
        {
          "output_type": "display_data",
          "data": {
            "text/plain": [
              "<Figure size 1000x600 with 1 Axes>"
            ],
            "image/png": "[encoded data removed]"
          },
          "metadata": {}
        }
      ]
    },
    {
      "cell_type": "markdown",
      "source": [
        "* 예측 및 검증\n",
        "    * 예측 결과는 softmax로 변환된 값 입니다."
      ],
      "metadata": {
        "id": "SvdZzqXG6EJe"
      }
    },
    {
      "cell_type": "code",
      "source": [
        "pred3 = model3.predict(x_val)\n",
        "pred_3 = pred3.argmax(axis = 1)"
      ],
      "metadata": {
        "id": "PkA0pDUP6EJe",
        "colab": {
          "base_uri": "https://localhost:8080/"
        },
        "outputId": "bda93672-9e4b-46e4-eb46-af6d9ec674a8"
      },
      "execution_count": null,
      "outputs": [
        {
          "output_type": "stream",
          "name": "stdout",
          "text": [
            "2/2 [==============================] - 0s 11ms/step\n"
          ]
        }
      ]
    },
    {
      "cell_type": "code",
      "source": [
        "print(confusion_matrix(y_val,pred_3))\n",
        "print(classification_report(y_val,pred_3))"
      ],
      "metadata": {
        "id": "T4_jVJ2q6EJe",
        "colab": {
          "base_uri": "https://localhost:8080/"
        },
        "outputId": "9467df97-c9d5-40b2-838c-fedafe3a06de"
      },
      "execution_count": null,
      "outputs": [
        {
          "output_type": "stream",
          "name": "stdout",
          "text": [
            "[[ 0 13  0]\n",
            " [ 4 14  0]\n",
            " [ 0 14  0]]\n",
            "              precision    recall  f1-score   support\n",
            "\n",
            "           0       0.00      0.00      0.00        13\n",
            "           1       0.34      0.78      0.47        18\n",
            "           2       0.00      0.00      0.00        14\n",
            "\n",
            "    accuracy                           0.31        45\n",
            "   macro avg       0.11      0.26      0.16        45\n",
            "weighted avg       0.14      0.31      0.19        45\n",
            "\n"
          ]
        },
        {
          "output_type": "stream",
          "name": "stderr",
          "text": [
            "/usr/local/lib/python3.10/dist-packages/sklearn/metrics/_classification.py:1344: UndefinedMetricWarning: Precision and F-score are ill-defined and being set to 0.0 in labels with no predicted samples. Use `zero_division` parameter to control this behavior.\n",
            "  _warn_prf(average, modifier, msg_start, len(result))\n",
            "/usr/local/lib/python3.10/dist-packages/sklearn/metrics/_classification.py:1344: UndefinedMetricWarning: Precision and F-score are ill-defined and being set to 0.0 in labels with no predicted samples. Use `zero_division` parameter to control this behavior.\n",
            "  _warn_prf(average, modifier, msg_start, len(result))\n",
            "/usr/local/lib/python3.10/dist-packages/sklearn/metrics/_classification.py:1344: UndefinedMetricWarning: Precision and F-score are ill-defined and being set to 0.0 in labels with no predicted samples. Use `zero_division` parameter to control this behavior.\n",
            "  _warn_prf(average, modifier, msg_start, len(result))\n"
          ]
        }
      ]
    },
    {
      "cell_type": "markdown",
      "metadata": {
        "id": "bGYSCmURsm6y"
      },
      "source": [
        "## 5.참조 : y를 one-hot encoding 하여 모델링\n",
        "\n",
        "* y 가변수화 : to_categorical\n",
        "* 컴파일에서 loss = 'categorical_crossentropy'"
      ]
    },
    {
      "cell_type": "code",
      "source": [
        "from keras.utils import to_categorical"
      ],
      "metadata": {
        "id": "GWu5dC-6dTai"
      },
      "execution_count": null,
      "outputs": []
    },
    {
      "cell_type": "markdown",
      "source": [
        "### (1) y에 대한 가변수화"
      ],
      "metadata": {
        "id": "pcKlPlGYV5Qb"
      }
    },
    {
      "cell_type": "code",
      "source": [
        "y"
      ],
      "metadata": {
        "id": "aDeeizsAPH3p",
        "colab": {
          "base_uri": "https://localhost:8080/"
        },
        "outputId": "55b07c38-b4ea-442e-fc45-e8b5f6eb7a84"
      },
      "execution_count": null,
      "outputs": [
        {
          "output_type": "execute_result",
          "data": {
            "text/plain": [
              "0      0\n",
              "1      0\n",
              "2      0\n",
              "3      0\n",
              "4      0\n",
              "      ..\n",
              "145    2\n",
              "146    2\n",
              "147    2\n",
              "148    2\n",
              "149    2\n",
              "Name: Species, Length: 150, dtype: int64"
            ]
          },
          "metadata": {},
          "execution_count": 97
        }
      ]
    },
    {
      "cell_type": "code",
      "source": [
        "y_c = to_categorical(y.values, 3)"
      ],
      "metadata": {
        "id": "QnaeCCI_U9ro"
      },
      "execution_count": null,
      "outputs": []
    },
    {
      "cell_type": "code",
      "source": [
        "y_c[:5]"
      ],
      "metadata": {
        "id": "HiWM1IntqxbY",
        "colab": {
          "base_uri": "https://localhost:8080/"
        },
        "outputId": "1995c047-9766-4c89-b17c-bd94e7587df0"
      },
      "execution_count": null,
      "outputs": [
        {
          "output_type": "execute_result",
          "data": {
            "text/plain": [
              "array([[1., 0., 0.],\n",
              "       [1., 0., 0.],\n",
              "       [1., 0., 0.],\n",
              "       [1., 0., 0.],\n",
              "       [1., 0., 0.]], dtype=float32)"
            ]
          },
          "metadata": {},
          "execution_count": 99
        }
      ]
    },
    {
      "cell_type": "markdown",
      "source": [
        "### (2) 데이터 분할2 : train : val"
      ],
      "metadata": {
        "id": "ikolo0wEV_Xe"
      }
    },
    {
      "cell_type": "code",
      "source": [
        "x_train, x_val, y_train, y_val = train_test_split(x, y_c, test_size = .3, random_state = 2022)"
      ],
      "metadata": {
        "id": "kEeVFQteVnKB"
      },
      "execution_count": null,
      "outputs": []
    },
    {
      "cell_type": "code",
      "source": [
        "y_train.shape"
      ],
      "metadata": {
        "id": "QW5bT89Awy-B",
        "colab": {
          "base_uri": "https://localhost:8080/"
        },
        "outputId": "e4da469c-7813-409b-d700-1f4d18576dd4"
      },
      "execution_count": null,
      "outputs": [
        {
          "output_type": "execute_result",
          "data": {
            "text/plain": [
              "(105, 3)"
            ]
          },
          "metadata": {},
          "execution_count": 101
        }
      ]
    },
    {
      "cell_type": "markdown",
      "metadata": {
        "id": "MXUC5Yi3um81"
      },
      "source": [
        "### (3) Scaling"
      ]
    },
    {
      "cell_type": "code",
      "source": [
        "scaler = MinMaxScaler()\n",
        "x_train = scaler.fit_transform(x_train)\n",
        "x_val = scaler.transform(x_val)"
      ],
      "metadata": {
        "id": "9bly3GLif1eP"
      },
      "execution_count": null,
      "outputs": []
    },
    {
      "cell_type": "markdown",
      "metadata": {
        "id": "9xfSXhuJZvh0"
      },
      "source": [
        "### (4) 모델 설계"
      ]
    },
    {
      "cell_type": "code",
      "source": [
        "nfeatures = x_train.shape[1] #num of columns\n",
        "nfeatures"
      ],
      "metadata": {
        "id": "YONQQmSoWZ2K",
        "colab": {
          "base_uri": "https://localhost:8080/"
        },
        "outputId": "101df496-096b-4054-f2ec-e6cf9b2e2f1a"
      },
      "execution_count": null,
      "outputs": [
        {
          "output_type": "execute_result",
          "data": {
            "text/plain": [
              "4"
            ]
          },
          "metadata": {},
          "execution_count": 103
        }
      ]
    },
    {
      "cell_type": "code",
      "metadata": {
        "id": "gAvCb2L3WZ2K",
        "colab": {
          "base_uri": "https://localhost:8080/"
        },
        "outputId": "6745e86d-4291-4491-b177-4541ceb45f37"
      },
      "source": [
        "# 메모리 정리\n",
        "clear_session()\n",
        "\n",
        "# Sequential\n",
        "model = Sequential([Dense(3, input_shape = (nfeatures,), activation = 'softmax')])\n",
        "\n",
        "# 모델요약\n",
        "model.summary()"
      ],
      "execution_count": null,
      "outputs": [
        {
          "output_type": "stream",
          "name": "stdout",
          "text": [
            "Model: \"sequential\"\n",
            "_________________________________________________________________\n",
            " Layer (type)                Output Shape              Param #   \n",
            "=================================================================\n",
            " dense (Dense)               (None, 3)                 15        \n",
            "                                                                 \n",
            "=================================================================\n",
            "Total params: 15 (60.00 Byte)\n",
            "Trainable params: 15 (60.00 Byte)\n",
            "Non-trainable params: 0 (0.00 Byte)\n",
            "_________________________________________________________________\n"
          ]
        }
      ]
    },
    {
      "cell_type": "markdown",
      "metadata": {
        "id": "p9pnMdXE2Y93"
      },
      "source": [
        "### (5) compile + 학습\n",
        "\n",
        "* lr과 learning_rate은 같은 의미 입니다. 그러나 향후 버전에서는 lr이 제외될 예정이라고 합니다.\n",
        "* y를 one-hot encoding 했다면, loss fuction은 **categorical_crossentropy** 입니다."
      ]
    },
    {
      "cell_type": "code",
      "metadata": {
        "id": "DZhoXG0a2Y94",
        "colab": {
          "base_uri": "https://localhost:8080/"
        },
        "outputId": "59b44db9-abfc-4592-9b50-c55cce9bb897"
      },
      "source": [
        "model.compile(optimizer=Adam(learning_rate=0.1), loss='categorical_crossentropy')\n",
        "\n",
        "history = model.fit(x_train, y_train, epochs = 100,\n",
        "                    validation_split=0.2,).history"
      ],
      "execution_count": null,
      "outputs": [
        {
          "output_type": "stream",
          "name": "stdout",
          "text": [
            "Epoch 1/100\n",
            "3/3 [==============================] - 1s 91ms/step - loss: 1.0887 - val_loss: 0.9990\n",
            "Epoch 2/100\n",
            "3/3 [==============================] - 0s 16ms/step - loss: 0.9239 - val_loss: 0.8481\n",
            "Epoch 3/100\n",
            "3/3 [==============================] - 0s 17ms/step - loss: 0.8067 - val_loss: 0.7123\n",
            "Epoch 4/100\n",
            "3/3 [==============================] - 0s 18ms/step - loss: 0.6979 - val_loss: 0.6274\n",
            "Epoch 5/100\n",
            "3/3 [==============================] - 0s 16ms/step - loss: 0.6466 - val_loss: 0.5697\n",
            "Epoch 6/100\n",
            "3/3 [==============================] - 0s 17ms/step - loss: 0.5983 - val_loss: 0.5063\n",
            "Epoch 7/100\n",
            "3/3 [==============================] - 0s 16ms/step - loss: 0.5413 - val_loss: 0.4687\n",
            "Epoch 8/100\n",
            "3/3 [==============================] - 0s 16ms/step - loss: 0.5121 - val_loss: 0.4407\n",
            "Epoch 9/100\n",
            "3/3 [==============================] - 0s 17ms/step - loss: 0.4865 - val_loss: 0.4180\n",
            "Epoch 10/100\n",
            "3/3 [==============================] - 0s 18ms/step - loss: 0.4742 - val_loss: 0.4040\n",
            "Epoch 11/100\n",
            "3/3 [==============================] - 0s 20ms/step - loss: 0.4521 - val_loss: 0.3844\n",
            "Epoch 12/100\n",
            "3/3 [==============================] - 0s 19ms/step - loss: 0.4360 - val_loss: 0.3701\n",
            "Epoch 13/100\n",
            "3/3 [==============================] - 0s 16ms/step - loss: 0.4235 - val_loss: 0.3593\n",
            "Epoch 14/100\n",
            "3/3 [==============================] - 0s 16ms/step - loss: 0.4137 - val_loss: 0.3495\n",
            "Epoch 15/100\n",
            "3/3 [==============================] - 0s 18ms/step - loss: 0.4046 - val_loss: 0.3396\n",
            "Epoch 16/100\n",
            "3/3 [==============================] - 0s 16ms/step - loss: 0.3932 - val_loss: 0.3308\n",
            "Epoch 17/100\n",
            "3/3 [==============================] - 0s 18ms/step - loss: 0.3856 - val_loss: 0.3241\n",
            "Epoch 18/100\n",
            "3/3 [==============================] - 0s 27ms/step - loss: 0.3777 - val_loss: 0.3165\n",
            "Epoch 19/100\n",
            "3/3 [==============================] - 0s 17ms/step - loss: 0.3670 - val_loss: 0.3083\n",
            "Epoch 20/100\n",
            "3/3 [==============================] - 0s 16ms/step - loss: 0.3627 - val_loss: 0.3052\n",
            "Epoch 21/100\n",
            "3/3 [==============================] - 0s 16ms/step - loss: 0.3581 - val_loss: 0.2971\n",
            "Epoch 22/100\n",
            "3/3 [==============================] - 0s 22ms/step - loss: 0.3479 - val_loss: 0.2896\n",
            "Epoch 23/100\n",
            "3/3 [==============================] - 0s 16ms/step - loss: 0.3427 - val_loss: 0.2854\n",
            "Epoch 24/100\n",
            "3/3 [==============================] - 0s 19ms/step - loss: 0.3353 - val_loss: 0.2789\n",
            "Epoch 25/100\n",
            "3/3 [==============================] - 0s 16ms/step - loss: 0.3278 - val_loss: 0.2749\n",
            "Epoch 26/100\n",
            "3/3 [==============================] - 0s 17ms/step - loss: 0.3229 - val_loss: 0.2707\n",
            "Epoch 27/100\n",
            "3/3 [==============================] - 0s 16ms/step - loss: 0.3191 - val_loss: 0.2660\n",
            "Epoch 28/100\n",
            "3/3 [==============================] - 0s 18ms/step - loss: 0.3121 - val_loss: 0.2607\n",
            "Epoch 29/100\n",
            "3/3 [==============================] - 0s 17ms/step - loss: 0.3142 - val_loss: 0.2576\n",
            "Epoch 30/100\n",
            "3/3 [==============================] - 0s 17ms/step - loss: 0.3015 - val_loss: 0.2538\n",
            "Epoch 31/100\n",
            "3/3 [==============================] - 0s 18ms/step - loss: 0.2974 - val_loss: 0.2530\n",
            "Epoch 32/100\n",
            "3/3 [==============================] - 0s 16ms/step - loss: 0.2958 - val_loss: 0.2462\n",
            "Epoch 33/100\n",
            "3/3 [==============================] - 0s 17ms/step - loss: 0.2866 - val_loss: 0.2424\n",
            "Epoch 34/100\n",
            "3/3 [==============================] - 0s 17ms/step - loss: 0.2812 - val_loss: 0.2394\n",
            "Epoch 35/100\n",
            "3/3 [==============================] - 0s 18ms/step - loss: 0.2774 - val_loss: 0.2365\n",
            "Epoch 36/100\n",
            "3/3 [==============================] - 0s 18ms/step - loss: 0.2741 - val_loss: 0.2334\n",
            "Epoch 37/100\n",
            "3/3 [==============================] - 0s 17ms/step - loss: 0.2712 - val_loss: 0.2316\n",
            "Epoch 38/100\n",
            "3/3 [==============================] - 0s 16ms/step - loss: 0.2672 - val_loss: 0.2294\n",
            "Epoch 39/100\n",
            "3/3 [==============================] - 0s 17ms/step - loss: 0.2624 - val_loss: 0.2232\n",
            "Epoch 40/100\n",
            "3/3 [==============================] - 0s 16ms/step - loss: 0.2580 - val_loss: 0.2200\n",
            "Epoch 41/100\n",
            "3/3 [==============================] - 0s 16ms/step - loss: 0.2598 - val_loss: 0.2180\n",
            "Epoch 42/100\n",
            "3/3 [==============================] - 0s 18ms/step - loss: 0.2521 - val_loss: 0.2157\n",
            "Epoch 43/100\n",
            "3/3 [==============================] - 0s 16ms/step - loss: 0.2470 - val_loss: 0.2156\n",
            "Epoch 44/100\n",
            "3/3 [==============================] - 0s 16ms/step - loss: 0.2455 - val_loss: 0.2124\n",
            "Epoch 45/100\n",
            "3/3 [==============================] - 0s 18ms/step - loss: 0.2419 - val_loss: 0.2077\n",
            "Epoch 46/100\n",
            "3/3 [==============================] - 0s 16ms/step - loss: 0.2393 - val_loss: 0.2054\n",
            "Epoch 47/100\n",
            "3/3 [==============================] - 0s 17ms/step - loss: 0.2351 - val_loss: 0.2035\n",
            "Epoch 48/100\n",
            "3/3 [==============================] - 0s 16ms/step - loss: 0.2332 - val_loss: 0.2013\n",
            "Epoch 49/100\n",
            "3/3 [==============================] - 0s 18ms/step - loss: 0.2307 - val_loss: 0.1999\n",
            "Epoch 50/100\n",
            "3/3 [==============================] - 0s 16ms/step - loss: 0.2271 - val_loss: 0.1997\n",
            "Epoch 51/100\n",
            "3/3 [==============================] - 0s 22ms/step - loss: 0.2248 - val_loss: 0.1961\n",
            "Epoch 52/100\n",
            "3/3 [==============================] - 0s 32ms/step - loss: 0.2215 - val_loss: 0.1939\n",
            "Epoch 53/100\n",
            "3/3 [==============================] - 0s 34ms/step - loss: 0.2185 - val_loss: 0.1929\n",
            "Epoch 54/100\n",
            "3/3 [==============================] - 0s 34ms/step - loss: 0.2157 - val_loss: 0.1910\n",
            "Epoch 55/100\n",
            "3/3 [==============================] - 0s 31ms/step - loss: 0.2136 - val_loss: 0.1889\n",
            "Epoch 56/100\n",
            "3/3 [==============================] - 0s 23ms/step - loss: 0.2105 - val_loss: 0.1866\n",
            "Epoch 57/100\n",
            "3/3 [==============================] - 0s 23ms/step - loss: 0.2104 - val_loss: 0.1849\n",
            "Epoch 58/100\n",
            "3/3 [==============================] - 0s 23ms/step - loss: 0.2081 - val_loss: 0.1843\n",
            "Epoch 59/100\n",
            "3/3 [==============================] - 0s 22ms/step - loss: 0.2049 - val_loss: 0.1835\n",
            "Epoch 60/100\n",
            "3/3 [==============================] - 0s 23ms/step - loss: 0.2027 - val_loss: 0.1810\n",
            "Epoch 61/100\n",
            "3/3 [==============================] - 0s 21ms/step - loss: 0.2013 - val_loss: 0.1786\n",
            "Epoch 62/100\n",
            "3/3 [==============================] - 0s 21ms/step - loss: 0.1990 - val_loss: 0.1771\n",
            "Epoch 63/100\n",
            "3/3 [==============================] - 0s 20ms/step - loss: 0.1960 - val_loss: 0.1758\n",
            "Epoch 64/100\n",
            "3/3 [==============================] - 0s 31ms/step - loss: 0.1938 - val_loss: 0.1746\n",
            "Epoch 65/100\n",
            "3/3 [==============================] - 0s 21ms/step - loss: 0.1933 - val_loss: 0.1736\n",
            "Epoch 66/100\n",
            "3/3 [==============================] - 0s 21ms/step - loss: 0.1895 - val_loss: 0.1711\n",
            "Epoch 67/100\n",
            "3/3 [==============================] - 0s 22ms/step - loss: 0.1887 - val_loss: 0.1695\n",
            "Epoch 68/100\n",
            "3/3 [==============================] - 0s 34ms/step - loss: 0.1866 - val_loss: 0.1684\n",
            "Epoch 69/100\n",
            "3/3 [==============================] - 0s 32ms/step - loss: 0.1840 - val_loss: 0.1686\n",
            "Epoch 70/100\n",
            "3/3 [==============================] - 0s 32ms/step - loss: 0.1838 - val_loss: 0.1690\n",
            "Epoch 71/100\n",
            "3/3 [==============================] - 0s 23ms/step - loss: 0.1823 - val_loss: 0.1670\n",
            "Epoch 72/100\n",
            "3/3 [==============================] - 0s 21ms/step - loss: 0.1794 - val_loss: 0.1633\n",
            "Epoch 73/100\n",
            "3/3 [==============================] - 0s 21ms/step - loss: 0.1777 - val_loss: 0.1615\n",
            "Epoch 74/100\n",
            "3/3 [==============================] - 0s 31ms/step - loss: 0.1770 - val_loss: 0.1604\n",
            "Epoch 75/100\n",
            "3/3 [==============================] - 0s 24ms/step - loss: 0.1744 - val_loss: 0.1603\n",
            "Epoch 76/100\n",
            "3/3 [==============================] - 0s 22ms/step - loss: 0.1732 - val_loss: 0.1610\n",
            "Epoch 77/100\n",
            "3/3 [==============================] - 0s 32ms/step - loss: 0.1725 - val_loss: 0.1585\n",
            "Epoch 78/100\n",
            "3/3 [==============================] - 0s 30ms/step - loss: 0.1708 - val_loss: 0.1565\n",
            "Epoch 79/100\n",
            "3/3 [==============================] - 0s 36ms/step - loss: 0.1698 - val_loss: 0.1556\n",
            "Epoch 80/100\n",
            "3/3 [==============================] - 0s 30ms/step - loss: 0.1686 - val_loss: 0.1539\n",
            "Epoch 81/100\n",
            "3/3 [==============================] - 0s 37ms/step - loss: 0.1661 - val_loss: 0.1532\n",
            "Epoch 82/100\n",
            "3/3 [==============================] - 0s 31ms/step - loss: 0.1643 - val_loss: 0.1533\n",
            "Epoch 83/100\n",
            "3/3 [==============================] - 0s 23ms/step - loss: 0.1634 - val_loss: 0.1524\n",
            "Epoch 84/100\n",
            "3/3 [==============================] - 0s 23ms/step - loss: 0.1620 - val_loss: 0.1523\n",
            "Epoch 85/100\n",
            "3/3 [==============================] - 0s 24ms/step - loss: 0.1610 - val_loss: 0.1501\n",
            "Epoch 86/100\n",
            "3/3 [==============================] - 0s 28ms/step - loss: 0.1591 - val_loss: 0.1486\n",
            "Epoch 87/100\n",
            "3/3 [==============================] - 0s 23ms/step - loss: 0.1586 - val_loss: 0.1480\n",
            "Epoch 88/100\n",
            "3/3 [==============================] - 0s 26ms/step - loss: 0.1573 - val_loss: 0.1463\n",
            "Epoch 89/100\n",
            "3/3 [==============================] - 0s 29ms/step - loss: 0.1557 - val_loss: 0.1455\n",
            "Epoch 90/100\n",
            "3/3 [==============================] - 0s 33ms/step - loss: 0.1546 - val_loss: 0.1446\n",
            "Epoch 91/100\n",
            "3/3 [==============================] - 0s 32ms/step - loss: 0.1537 - val_loss: 0.1442\n",
            "Epoch 92/100\n",
            "3/3 [==============================] - 0s 24ms/step - loss: 0.1520 - val_loss: 0.1437\n",
            "Epoch 93/100\n",
            "3/3 [==============================] - 0s 22ms/step - loss: 0.1506 - val_loss: 0.1436\n",
            "Epoch 94/100\n",
            "3/3 [==============================] - 0s 26ms/step - loss: 0.1499 - val_loss: 0.1432\n",
            "Epoch 95/100\n",
            "3/3 [==============================] - 0s 36ms/step - loss: 0.1489 - val_loss: 0.1423\n",
            "Epoch 96/100\n",
            "3/3 [==============================] - 0s 24ms/step - loss: 0.1485 - val_loss: 0.1407\n",
            "Epoch 97/100\n",
            "3/3 [==============================] - 0s 44ms/step - loss: 0.1465 - val_loss: 0.1403\n",
            "Epoch 98/100\n",
            "3/3 [==============================] - 0s 28ms/step - loss: 0.1457 - val_loss: 0.1394\n",
            "Epoch 99/100\n",
            "3/3 [==============================] - 0s 24ms/step - loss: 0.1445 - val_loss: 0.1389\n",
            "Epoch 100/100\n",
            "3/3 [==============================] - 0s 27ms/step - loss: 0.1437 - val_loss: 0.1383\n"
          ]
        }
      ]
    },
    {
      "cell_type": "markdown",
      "source": [
        "* 학습결과 그래프"
      ],
      "metadata": {
        "id": "3N8dEQk0SKD9"
      }
    },
    {
      "cell_type": "code",
      "source": [
        "dl_history_plot(history)"
      ],
      "metadata": {
        "id": "KWaJzll1rhk3",
        "colab": {
          "base_uri": "https://localhost:8080/",
          "height": 542
        },
        "outputId": "e701f581-2697-4116-bd57-c5e83ef92bc5"
      },
      "execution_count": null,
      "outputs": [
        {
          "output_type": "display_data",
          "data": {
            "text/plain": [
              "<Figure size 1000x600 with 1 Axes>"
            ],
            "image/png": "[encoded data removed]"
          },
          "metadata": {}
        }
      ]
    },
    {
      "cell_type": "markdown",
      "source": [
        "### (6) 예측 및 평가\n",
        "* 예측 결과는 softmax로 변환된 값 입니다."
      ],
      "metadata": {
        "id": "en2tQIAurisU"
      }
    },
    {
      "cell_type": "code",
      "source": [
        "pred = model.predict(x_val)\n",
        "pred[:5]"
      ],
      "metadata": {
        "id": "iWpqKvt78PmD",
        "colab": {
          "base_uri": "https://localhost:8080/"
        },
        "outputId": "578ad3cc-ba46-4b97-d441-0e09389681c3"
      },
      "execution_count": null,
      "outputs": [
        {
          "output_type": "stream",
          "name": "stdout",
          "text": [
            "2/2 [==============================] - 0s 6ms/step\n"
          ]
        },
        {
          "output_type": "execute_result",
          "data": {
            "text/plain": [
              "array([[1.0433726e-05, 5.8769219e-02, 9.4122040e-01],\n",
              "       [7.1301685e-07, 6.9786362e-02, 9.3021291e-01],\n",
              "       [9.7155488e-01, 2.8443828e-02, 1.2065174e-06],\n",
              "       [2.8707655e-04, 3.5075229e-01, 6.4896047e-01],\n",
              "       [9.8416835e-01, 1.5831232e-02, 3.3947617e-07]], dtype=float32)"
            ]
          },
          "metadata": {},
          "execution_count": 107
        }
      ]
    },
    {
      "cell_type": "markdown",
      "source": [
        "* 행 별로 제일 큰 값을 찾아서 그에 맞게 숫자(0,1,2)로 변환 합시다."
      ],
      "metadata": {
        "id": "fSjrpyUN9U7K"
      }
    },
    {
      "cell_type": "code",
      "source": [
        "# 5개 행만 살펴보면\n",
        "np.argmax(pred[:5], axis = 1)"
      ],
      "metadata": {
        "id": "uBSae8aa9dmR",
        "colab": {
          "base_uri": "https://localhost:8080/"
        },
        "outputId": "d114392b-f761-488c-9018-6a2c3b114508"
      },
      "execution_count": null,
      "outputs": [
        {
          "output_type": "execute_result",
          "data": {
            "text/plain": [
              "array([2, 2, 0, 2, 0])"
            ]
          },
          "metadata": {},
          "execution_count": 108
        }
      ]
    },
    {
      "cell_type": "code",
      "source": [
        "# 전체에 적용해서 변환합시다.\n",
        "pred_1 = pred.argmax(axis=1)\n",
        "pred_1"
      ],
      "metadata": {
        "id": "NZrmAw4WXs0T",
        "colab": {
          "base_uri": "https://localhost:8080/"
        },
        "outputId": "735250fc-a3e1-413d-ba8d-2bc279909cdb"
      },
      "execution_count": null,
      "outputs": [
        {
          "output_type": "execute_result",
          "data": {
            "text/plain": [
              "array([2, 2, 0, 2, 0, 0, 1, 1, 0, 1, 1, 2, 1, 2, 2, 0, 1, 1, 2, 1, 0, 0,\n",
              "       2, 0, 2, 1, 2, 0, 2, 2, 0, 1, 1, 0, 1, 0, 0, 1, 0, 1, 2, 1, 1, 2,\n",
              "       2])"
            ]
          },
          "metadata": {},
          "execution_count": 110
        }
      ]
    },
    {
      "cell_type": "markdown",
      "source": [
        "* 실제값 y_val도 원래 대로 돌려 놓습니다."
      ],
      "metadata": {
        "id": "KlOA3LSx92cA"
      }
    },
    {
      "cell_type": "code",
      "source": [
        "y_val[:5]"
      ],
      "metadata": {
        "id": "NPfidur_98kl",
        "colab": {
          "base_uri": "https://localhost:8080/"
        },
        "outputId": "488d97c9-f34c-41dd-b039-c008ad68d095"
      },
      "execution_count": null,
      "outputs": [
        {
          "output_type": "execute_result",
          "data": {
            "text/plain": [
              "array([[0., 0., 1.],\n",
              "       [0., 0., 1.],\n",
              "       [1., 0., 0.],\n",
              "       [0., 0., 1.],\n",
              "       [1., 0., 0.]], dtype=float32)"
            ]
          },
          "metadata": {},
          "execution_count": 112
        }
      ]
    },
    {
      "cell_type": "code",
      "source": [
        "y_val_1 = y_val.argmax(axis=1)\n",
        "y_val_1"
      ],
      "metadata": {
        "id": "S8vc8Vpf-ALM",
        "colab": {
          "base_uri": "https://localhost:8080/"
        },
        "outputId": "081f4b2c-bae1-4f3e-cdcd-abd1e12f42db"
      },
      "execution_count": null,
      "outputs": [
        {
          "output_type": "execute_result",
          "data": {
            "text/plain": [
              "array([2, 2, 0, 2, 0, 0, 1, 1, 0, 1, 1, 2, 1, 2, 2, 0, 1, 2, 2, 1, 0, 0,\n",
              "       2, 0, 2, 2, 2, 0, 1, 2, 0, 1, 1, 0, 1, 0, 0, 1, 0, 1, 2, 1, 1, 2,\n",
              "       2])"
            ]
          },
          "metadata": {},
          "execution_count": 113
        }
      ]
    },
    {
      "cell_type": "code",
      "source": [
        "print(confusion_matrix(y_val_1, pred_1))\n",
        "print(classification_report(y_val_1, pred_1))"
      ],
      "metadata": {
        "id": "IONbKHSLX9PA",
        "colab": {
          "base_uri": "https://localhost:8080/"
        },
        "outputId": "172b40c6-bcb7-4828-f1cd-7a364c2e50d1"
      },
      "execution_count": null,
      "outputs": [
        {
          "output_type": "stream",
          "name": "stdout",
          "text": [
            "[[14  0  0]\n",
            " [ 0 14  1]\n",
            " [ 0  2 14]]\n",
            "              precision    recall  f1-score   support\n",
            "\n",
            "           0       1.00      1.00      1.00        14\n",
            "           1       0.88      0.93      0.90        15\n",
            "           2       0.93      0.88      0.90        16\n",
            "\n",
            "    accuracy                           0.93        45\n",
            "   macro avg       0.94      0.94      0.94        45\n",
            "weighted avg       0.93      0.93      0.93        45\n",
            "\n"
          ]
        }
      ]
    }
  ]
}