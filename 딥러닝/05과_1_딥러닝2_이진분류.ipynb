{
  "nbformat": 4,
  "nbformat_minor": 0,
  "metadata": {
    "colab": {
      "provenance": []
    },
    "kernelspec": {
      "name": "python3",
      "display_name": "Python 3"
    }
  },
  "cells": [
    {
      "cell_type": "markdown",
      "metadata": {
        "id": "cVB9pY-v8uv5"
      },
      "source": [
        "# Classification : 2 Class"
      ]
    },
    {
      "cell_type": "markdown",
      "metadata": {
        "id": "gIN5d51gtker"
      },
      "source": [
        "## 1.환경준비"
      ]
    },
    {
      "cell_type": "markdown",
      "source": [
        "### (1) 라이브러리 로딩"
      ],
      "metadata": {
        "id": "98K82DAxvX6I"
      }
    },
    {
      "cell_type": "code",
      "metadata": {
        "id": "GVvCef6A8uv6"
      },
      "source": [
        "import pandas as pd\n",
        "import numpy as np\n",
        "import matplotlib.pyplot as plt\n",
        "import seaborn as sns\n",
        "\n",
        "from sklearn.model_selection import train_test_split\n",
        "from sklearn.metrics import *\n",
        "from sklearn.preprocessing import MinMaxScaler\n",
        "\n",
        "from keras.models import Sequential\n",
        "from keras.layers import Dense\n",
        "from keras.backend import clear_session\n",
        "from keras.optimizers import Adam"
      ],
      "execution_count": null,
      "outputs": []
    },
    {
      "cell_type": "markdown",
      "source": [
        "* 학습곡선 함수"
      ],
      "metadata": {
        "id": "tS7bUqenW_0-"
      }
    },
    {
      "cell_type": "code",
      "metadata": {
        "id": "72l5YwHqniSS"
      },
      "source": [
        "def dl_history_plot(history):\n",
        "    plt.figure(figsize=(10,6))\n",
        "    plt.plot(history['loss'], label='train_err', marker = '.')\n",
        "    plt.plot(history['val_loss'], label='val_err', marker = '.')\n",
        "\n",
        "    plt.ylabel('Loss')\n",
        "    plt.xlabel('Epoch')\n",
        "    plt.legend()\n",
        "    plt.grid()\n",
        "    plt.show()"
      ],
      "execution_count": null,
      "outputs": []
    },
    {
      "cell_type": "markdown",
      "source": [
        "### (2) 데이터로딩"
      ],
      "metadata": {
        "id": "6wuqykgvviCc"
      }
    },
    {
      "cell_type": "code",
      "metadata": {
        "id": "Vqr7zY5r8uwC",
        "colab": {
          "base_uri": "https://localhost:8080/",
          "height": 206
        },
        "outputId": "c9c7e896-ae1c-4201-db02-cc2cca3b314b"
      },
      "source": [
        "path = \"https://raw.githubusercontent.com/DA4BAM/dataset/master/titanic.3.csv\"\n",
        "data = pd.read_csv(path)\n",
        "data.drop(['Age_scale1', 'AgeGroup', 'SibSp','Parch' ], axis = 1, inplace = True)\n",
        "data.head()"
      ],
      "execution_count": null,
      "outputs": [
        {
          "output_type": "execute_result",
          "data": {
            "text/plain": [
              "   Survived  Pclass     Sex   Age     Fare Embarked  Family\n",
              "0         0       3    male  22.0   7.2500        S       2\n",
              "1         1       1  female  38.0  71.2833        C       2\n",
              "2         1       3  female  26.0   7.9250        S       1\n",
              "3         1       1  female  35.0  53.1000        S       2\n",
              "4         0       3    male  35.0   8.0500        S       1"
            ],
            "text/html": [
              "\n",
              "  <div id=\"df-2c2849c8-cbdc-4fdc-90a8-5dbac384119e\" class=\"colab-df-container\">\n",
              "    <div>\n",
              "<style scoped>\n",
              "    .dataframe tbody tr th:only-of-type {\n",
              "        vertical-align: middle;\n",
              "    }\n",
              "\n",
              "    .dataframe tbody tr th {\n",
              "        vertical-align: top;\n",
              "    }\n",
              "\n",
              "    .dataframe thead th {\n",
              "        text-align: right;\n",
              "    }\n",
              "</style>\n",
              "<table border=\"1\" class=\"dataframe\">\n",
              "  <thead>\n",
              "    <tr style=\"text-align: right;\">\n",
              "      <th></th>\n",
              "      <th>Survived</th>\n",
              "      <th>Pclass</th>\n",
              "      <th>Sex</th>\n",
              "      <th>Age</th>\n",
              "      <th>Fare</th>\n",
              "      <th>Embarked</th>\n",
              "      <th>Family</th>\n",
              "    </tr>\n",
              "  </thead>\n",
              "  <tbody>\n",
              "    <tr>\n",
              "      <th>0</th>\n",
              "      <td>0</td>\n",
              "      <td>3</td>\n",
              "      <td>male</td>\n",
              "      <td>22.0</td>\n",
              "      <td>7.2500</td>\n",
              "      <td>S</td>\n",
              "      <td>2</td>\n",
              "    </tr>\n",
              "    <tr>\n",
              "      <th>1</th>\n",
              "      <td>1</td>\n",
              "      <td>1</td>\n",
              "      <td>female</td>\n",
              "      <td>38.0</td>\n",
              "      <td>71.2833</td>\n",
              "      <td>C</td>\n",
              "      <td>2</td>\n",
              "    </tr>\n",
              "    <tr>\n",
              "      <th>2</th>\n",
              "      <td>1</td>\n",
              "      <td>3</td>\n",
              "      <td>female</td>\n",
              "      <td>26.0</td>\n",
              "      <td>7.9250</td>\n",
              "      <td>S</td>\n",
              "      <td>1</td>\n",
              "    </tr>\n",
              "    <tr>\n",
              "      <th>3</th>\n",
              "      <td>1</td>\n",
              "      <td>1</td>\n",
              "      <td>female</td>\n",
              "      <td>35.0</td>\n",
              "      <td>53.1000</td>\n",
              "      <td>S</td>\n",
              "      <td>2</td>\n",
              "    </tr>\n",
              "    <tr>\n",
              "      <th>4</th>\n",
              "      <td>0</td>\n",
              "      <td>3</td>\n",
              "      <td>male</td>\n",
              "      <td>35.0</td>\n",
              "      <td>8.0500</td>\n",
              "      <td>S</td>\n",
              "      <td>1</td>\n",
              "    </tr>\n",
              "  </tbody>\n",
              "</table>\n",
              "</div>\n",
              "    <div class=\"colab-df-buttons\">\n",
              "\n",
              "  <div class=\"colab-df-container\">\n",
              "    <button class=\"colab-df-convert\" onclick=\"convertToInteractive('df-2c2849c8-cbdc-4fdc-90a8-5dbac384119e')\"\n",
              "            title=\"Convert this dataframe to an interactive table.\"\n",
              "            style=\"display:none;\">\n",
              "\n",
              "  <svg xmlns=\"http://www.w3.org/2000/svg\" height=\"24px\" viewBox=\"0 -960 960 960\">\n",
              "    <path d=\"M120-120v-720h720v720H120Zm60-500h600v-160H180v160Zm220 220h160v-160H400v160Zm0 220h160v-160H400v160ZM180-400h160v-160H180v160Zm440 0h160v-160H620v160ZM180-180h160v-160H180v160Zm440 0h160v-160H620v160Z\"/>\n",
              "  </svg>\n",
              "    </button>\n",
              "\n",
              "  <style>\n",
              "    .colab-df-container {\n",
              "      display:flex;\n",
              "      gap: 12px;\n",
              "    }\n",
              "\n",
              "    .colab-df-convert {\n",
              "      background-color: #E8F0FE;\n",
              "      border: none;\n",
              "      border-radius: 50%;\n",
              "      cursor: pointer;\n",
              "      display: none;\n",
              "      fill: #1967D2;\n",
              "      height: 32px;\n",
              "      padding: 0 0 0 0;\n",
              "      width: 32px;\n",
              "    }\n",
              "\n",
              "    .colab-df-convert:hover {\n",
              "      background-color: #E2EBFA;\n",
              "      box-shadow: 0px 1px 2px rgba(60, 64, 67, 0.3), 0px 1px 3px 1px rgba(60, 64, 67, 0.15);\n",
              "      fill: #174EA6;\n",
              "    }\n",
              "\n",
              "    .colab-df-buttons div {\n",
              "      margin-bottom: 4px;\n",
              "    }\n",
              "\n",
              "    [theme=dark] .colab-df-convert {\n",
              "      background-color: #3B4455;\n",
              "      fill: #D2E3FC;\n",
              "    }\n",
              "\n",
              "    [theme=dark] .colab-df-convert:hover {\n",
              "      background-color: #434B5C;\n",
              "      box-shadow: 0px 1px 3px 1px rgba(0, 0, 0, 0.15);\n",
              "      filter: drop-shadow(0px 1px 2px rgba(0, 0, 0, 0.3));\n",
              "      fill: #FFFFFF;\n",
              "    }\n",
              "  </style>\n",
              "\n",
              "    <script>\n",
              "      const buttonEl =\n",
              "        document.querySelector('#df-2c2849c8-cbdc-4fdc-90a8-5dbac384119e button.colab-df-convert');\n",
              "      buttonEl.style.display =\n",
              "        google.colab.kernel.accessAllowed ? 'block' : 'none';\n",
              "\n",
              "      async function convertToInteractive(key) {\n",
              "        const element = document.querySelector('#df-2c2849c8-cbdc-4fdc-90a8-5dbac384119e');\n",
              "        const dataTable =\n",
              "          await google.colab.kernel.invokeFunction('convertToInteractive',\n",
              "                                                    [key], {});\n",
              "        if (!dataTable) return;\n",
              "\n",
              "        const docLinkHtml = 'Like what you see? Visit the ' +\n",
              "          '<a target=\"_blank\" href=https://colab.research.google.com/notebooks/data_table.ipynb>data table notebook</a>'\n",
              "          + ' to learn more about interactive tables.';\n",
              "        element.innerHTML = '';\n",
              "        dataTable['output_type'] = 'display_data';\n",
              "        await google.colab.output.renderOutput(dataTable, element);\n",
              "        const docLink = document.createElement('div');\n",
              "        docLink.innerHTML = docLinkHtml;\n",
              "        element.appendChild(docLink);\n",
              "      }\n",
              "    </script>\n",
              "  </div>\n",
              "\n",
              "\n",
              "<div id=\"df-9c9144d1-de82-4679-8180-dec7f6066b02\">\n",
              "  <button class=\"colab-df-quickchart\" onclick=\"quickchart('df-9c9144d1-de82-4679-8180-dec7f6066b02')\"\n",
              "            title=\"Suggest charts\"\n",
              "            style=\"display:none;\">\n",
              "\n",
              "<svg xmlns=\"http://www.w3.org/2000/svg\" height=\"24px\"viewBox=\"0 0 24 24\"\n",
              "     width=\"24px\">\n",
              "    <g>\n",
              "        <path d=\"M19 3H5c-1.1 0-2 .9-2 2v14c0 1.1.9 2 2 2h14c1.1 0 2-.9 2-2V5c0-1.1-.9-2-2-2zM9 17H7v-7h2v7zm4 0h-2V7h2v10zm4 0h-2v-4h2v4z\"/>\n",
              "    </g>\n",
              "</svg>\n",
              "  </button>\n",
              "\n",
              "<style>\n",
              "  .colab-df-quickchart {\n",
              "      --bg-color: #E8F0FE;\n",
              "      --fill-color: #1967D2;\n",
              "      --hover-bg-color: #E2EBFA;\n",
              "      --hover-fill-color: #174EA6;\n",
              "      --disabled-fill-color: #AAA;\n",
              "      --disabled-bg-color: #DDD;\n",
              "  }\n",
              "\n",
              "  [theme=dark] .colab-df-quickchart {\n",
              "      --bg-color: #3B4455;\n",
              "      --fill-color: #D2E3FC;\n",
              "      --hover-bg-color: #434B5C;\n",
              "      --hover-fill-color: #FFFFFF;\n",
              "      --disabled-bg-color: #3B4455;\n",
              "      --disabled-fill-color: #666;\n",
              "  }\n",
              "\n",
              "  .colab-df-quickchart {\n",
              "    background-color: var(--bg-color);\n",
              "    border: none;\n",
              "    border-radius: 50%;\n",
              "    cursor: pointer;\n",
              "    display: none;\n",
              "    fill: var(--fill-color);\n",
              "    height: 32px;\n",
              "    padding: 0;\n",
              "    width: 32px;\n",
              "  }\n",
              "\n",
              "  .colab-df-quickchart:hover {\n",
              "    background-color: var(--hover-bg-color);\n",
              "    box-shadow: 0 1px 2px rgba(60, 64, 67, 0.3), 0 1px 3px 1px rgba(60, 64, 67, 0.15);\n",
              "    fill: var(--button-hover-fill-color);\n",
              "  }\n",
              "\n",
              "  .colab-df-quickchart-complete:disabled,\n",
              "  .colab-df-quickchart-complete:disabled:hover {\n",
              "    background-color: var(--disabled-bg-color);\n",
              "    fill: var(--disabled-fill-color);\n",
              "    box-shadow: none;\n",
              "  }\n",
              "\n",
              "  .colab-df-spinner {\n",
              "    border: 2px solid var(--fill-color);\n",
              "    border-color: transparent;\n",
              "    border-bottom-color: var(--fill-color);\n",
              "    animation:\n",
              "      spin 1s steps(1) infinite;\n",
              "  }\n",
              "\n",
              "  @keyframes spin {\n",
              "    0% {\n",
              "      border-color: transparent;\n",
              "      border-bottom-color: var(--fill-color);\n",
              "      border-left-color: var(--fill-color);\n",
              "    }\n",
              "    20% {\n",
              "      border-color: transparent;\n",
              "      border-left-color: var(--fill-color);\n",
              "      border-top-color: var(--fill-color);\n",
              "    }\n",
              "    30% {\n",
              "      border-color: transparent;\n",
              "      border-left-color: var(--fill-color);\n",
              "      border-top-color: var(--fill-color);\n",
              "      border-right-color: var(--fill-color);\n",
              "    }\n",
              "    40% {\n",
              "      border-color: transparent;\n",
              "      border-right-color: var(--fill-color);\n",
              "      border-top-color: var(--fill-color);\n",
              "    }\n",
              "    60% {\n",
              "      border-color: transparent;\n",
              "      border-right-color: var(--fill-color);\n",
              "    }\n",
              "    80% {\n",
              "      border-color: transparent;\n",
              "      border-right-color: var(--fill-color);\n",
              "      border-bottom-color: var(--fill-color);\n",
              "    }\n",
              "    90% {\n",
              "      border-color: transparent;\n",
              "      border-bottom-color: var(--fill-color);\n",
              "    }\n",
              "  }\n",
              "</style>\n",
              "\n",
              "  <script>\n",
              "    async function quickchart(key) {\n",
              "      const quickchartButtonEl =\n",
              "        document.querySelector('#' + key + ' button');\n",
              "      quickchartButtonEl.disabled = true;  // To prevent multiple clicks.\n",
              "      quickchartButtonEl.classList.add('colab-df-spinner');\n",
              "      try {\n",
              "        const charts = await google.colab.kernel.invokeFunction(\n",
              "            'suggestCharts', [key], {});\n",
              "      } catch (error) {\n",
              "        console.error('Error during call to suggestCharts:', error);\n",
              "      }\n",
              "      quickchartButtonEl.classList.remove('colab-df-spinner');\n",
              "      quickchartButtonEl.classList.add('colab-df-quickchart-complete');\n",
              "    }\n",
              "    (() => {\n",
              "      let quickchartButtonEl =\n",
              "        document.querySelector('#df-9c9144d1-de82-4679-8180-dec7f6066b02 button');\n",
              "      quickchartButtonEl.style.display =\n",
              "        google.colab.kernel.accessAllowed ? 'block' : 'none';\n",
              "    })();\n",
              "  </script>\n",
              "</div>\n",
              "\n",
              "    </div>\n",
              "  </div>\n"
            ],
            "application/vnd.google.colaboratory.intrinsic+json": {
              "type": "dataframe",
              "variable_name": "data",
              "summary": "{\n  \"name\": \"data\",\n  \"rows\": 891,\n  \"fields\": [\n    {\n      \"column\": \"Survived\",\n      \"properties\": {\n        \"dtype\": \"number\",\n        \"std\": 0,\n        \"min\": 0,\n        \"max\": 1,\n        \"num_unique_values\": 2,\n        \"samples\": [\n          1,\n          0\n        ],\n        \"semantic_type\": \"\",\n        \"description\": \"\"\n      }\n    },\n    {\n      \"column\": \"Pclass\",\n      \"properties\": {\n        \"dtype\": \"number\",\n        \"std\": 0,\n        \"min\": 1,\n        \"max\": 3,\n        \"num_unique_values\": 3,\n        \"samples\": [\n          3,\n          1\n        ],\n        \"semantic_type\": \"\",\n        \"description\": \"\"\n      }\n    },\n    {\n      \"column\": \"Sex\",\n      \"properties\": {\n        \"dtype\": \"category\",\n        \"num_unique_values\": 2,\n        \"samples\": [\n          \"female\",\n          \"male\"\n        ],\n        \"semantic_type\": \"\",\n        \"description\": \"\"\n      }\n    },\n    {\n      \"column\": \"Age\",\n      \"properties\": {\n        \"dtype\": \"number\",\n        \"std\": 13.277377771258609,\n        \"min\": 0.42,\n        \"max\": 80.0,\n        \"num_unique_values\": 92,\n        \"samples\": [\n          25.0,\n          40.0\n        ],\n        \"semantic_type\": \"\",\n        \"description\": \"\"\n      }\n    },\n    {\n      \"column\": \"Fare\",\n      \"properties\": {\n        \"dtype\": \"number\",\n        \"std\": 49.6934285971809,\n        \"min\": 0.0,\n        \"max\": 512.3292,\n        \"num_unique_values\": 248,\n        \"samples\": [\n          11.2417,\n          51.8625\n        ],\n        \"semantic_type\": \"\",\n        \"description\": \"\"\n      }\n    },\n    {\n      \"column\": \"Embarked\",\n      \"properties\": {\n        \"dtype\": \"category\",\n        \"num_unique_values\": 3,\n        \"samples\": [\n          \"S\",\n          \"C\"\n        ],\n        \"semantic_type\": \"\",\n        \"description\": \"\"\n      }\n    },\n    {\n      \"column\": \"Family\",\n      \"properties\": {\n        \"dtype\": \"number\",\n        \"std\": 1,\n        \"min\": 1,\n        \"max\": 11,\n        \"num_unique_values\": 9,\n        \"samples\": [\n          8,\n          1\n        ],\n        \"semantic_type\": \"\",\n        \"description\": \"\"\n      }\n    }\n  ]\n}"
            }
          },
          "metadata": {},
          "execution_count": 3
        }
      ]
    },
    {
      "cell_type": "markdown",
      "source": [
        "## 2.데이터 준비"
      ],
      "metadata": {
        "id": "_vRHWCJJooH1"
      }
    },
    {
      "cell_type": "markdown",
      "source": [
        "Sex, Age, Fare 만 이용하여 Survived 를 예측하는 모델을 만들어 봅시다."
      ],
      "metadata": {
        "id": "iM0QyWea1Mcz"
      }
    },
    {
      "cell_type": "markdown",
      "metadata": {
        "id": "rnC3UP6tooH8"
      },
      "source": [
        "### (1) 데이터 준비"
      ]
    },
    {
      "cell_type": "code",
      "metadata": {
        "id": "3Db08v8qooH8"
      },
      "source": [
        "target = 'Survived'\n",
        "features = ['Sex', 'Age', 'Fare']\n",
        "x = data.loc[:, features]\n",
        "y = data.loc[:, target]"
      ],
      "execution_count": null,
      "outputs": []
    },
    {
      "cell_type": "markdown",
      "metadata": {
        "id": "9Z8UDHYpooH9"
      },
      "source": [
        "### (2) 가변수화"
      ]
    },
    {
      "cell_type": "code",
      "source": [
        "x = pd.get_dummies(x, columns = ['Sex'], drop_first = True)\n",
        "x.head()"
      ],
      "metadata": {
        "id": "N6NdAXjXo_oe",
        "colab": {
          "base_uri": "https://localhost:8080/",
          "height": 206
        },
        "outputId": "c2828daa-439b-4f59-f57a-037cf9f2e399"
      },
      "execution_count": null,
      "outputs": [
        {
          "output_type": "execute_result",
          "data": {
            "text/plain": [
              "    Age     Fare  Sex_male\n",
              "0  22.0   7.2500      True\n",
              "1  38.0  71.2833     False\n",
              "2  26.0   7.9250     False\n",
              "3  35.0  53.1000     False\n",
              "4  35.0   8.0500      True"
            ],
            "text/html": [
              "\n",
              "  <div id=\"df-563cc5ec-2e25-4262-8809-7b7b7dac04fc\" class=\"colab-df-container\">\n",
              "    <div>\n",
              "<style scoped>\n",
              "    .dataframe tbody tr th:only-of-type {\n",
              "        vertical-align: middle;\n",
              "    }\n",
              "\n",
              "    .dataframe tbody tr th {\n",
              "        vertical-align: top;\n",
              "    }\n",
              "\n",
              "    .dataframe thead th {\n",
              "        text-align: right;\n",
              "    }\n",
              "</style>\n",
              "<table border=\"1\" class=\"dataframe\">\n",
              "  <thead>\n",
              "    <tr style=\"text-align: right;\">\n",
              "      <th></th>\n",
              "      <th>Age</th>\n",
              "      <th>Fare</th>\n",
              "      <th>Sex_male</th>\n",
              "    </tr>\n",
              "  </thead>\n",
              "  <tbody>\n",
              "    <tr>\n",
              "      <th>0</th>\n",
              "      <td>22.0</td>\n",
              "      <td>7.2500</td>\n",
              "      <td>True</td>\n",
              "    </tr>\n",
              "    <tr>\n",
              "      <th>1</th>\n",
              "      <td>38.0</td>\n",
              "      <td>71.2833</td>\n",
              "      <td>False</td>\n",
              "    </tr>\n",
              "    <tr>\n",
              "      <th>2</th>\n",
              "      <td>26.0</td>\n",
              "      <td>7.9250</td>\n",
              "      <td>False</td>\n",
              "    </tr>\n",
              "    <tr>\n",
              "      <th>3</th>\n",
              "      <td>35.0</td>\n",
              "      <td>53.1000</td>\n",
              "      <td>False</td>\n",
              "    </tr>\n",
              "    <tr>\n",
              "      <th>4</th>\n",
              "      <td>35.0</td>\n",
              "      <td>8.0500</td>\n",
              "      <td>True</td>\n",
              "    </tr>\n",
              "  </tbody>\n",
              "</table>\n",
              "</div>\n",
              "    <div class=\"colab-df-buttons\">\n",
              "\n",
              "  <div class=\"colab-df-container\">\n",
              "    <button class=\"colab-df-convert\" onclick=\"convertToInteractive('df-563cc5ec-2e25-4262-8809-7b7b7dac04fc')\"\n",
              "            title=\"Convert this dataframe to an interactive table.\"\n",
              "            style=\"display:none;\">\n",
              "\n",
              "  <svg xmlns=\"http://www.w3.org/2000/svg\" height=\"24px\" viewBox=\"0 -960 960 960\">\n",
              "    <path d=\"M120-120v-720h720v720H120Zm60-500h600v-160H180v160Zm220 220h160v-160H400v160Zm0 220h160v-160H400v160ZM180-400h160v-160H180v160Zm440 0h160v-160H620v160ZM180-180h160v-160H180v160Zm440 0h160v-160H620v160Z\"/>\n",
              "  </svg>\n",
              "    </button>\n",
              "\n",
              "  <style>\n",
              "    .colab-df-container {\n",
              "      display:flex;\n",
              "      gap: 12px;\n",
              "    }\n",
              "\n",
              "    .colab-df-convert {\n",
              "      background-color: #E8F0FE;\n",
              "      border: none;\n",
              "      border-radius: 50%;\n",
              "      cursor: pointer;\n",
              "      display: none;\n",
              "      fill: #1967D2;\n",
              "      height: 32px;\n",
              "      padding: 0 0 0 0;\n",
              "      width: 32px;\n",
              "    }\n",
              "\n",
              "    .colab-df-convert:hover {\n",
              "      background-color: #E2EBFA;\n",
              "      box-shadow: 0px 1px 2px rgba(60, 64, 67, 0.3), 0px 1px 3px 1px rgba(60, 64, 67, 0.15);\n",
              "      fill: #174EA6;\n",
              "    }\n",
              "\n",
              "    .colab-df-buttons div {\n",
              "      margin-bottom: 4px;\n",
              "    }\n",
              "\n",
              "    [theme=dark] .colab-df-convert {\n",
              "      background-color: #3B4455;\n",
              "      fill: #D2E3FC;\n",
              "    }\n",
              "\n",
              "    [theme=dark] .colab-df-convert:hover {\n",
              "      background-color: #434B5C;\n",
              "      box-shadow: 0px 1px 3px 1px rgba(0, 0, 0, 0.15);\n",
              "      filter: drop-shadow(0px 1px 2px rgba(0, 0, 0, 0.3));\n",
              "      fill: #FFFFFF;\n",
              "    }\n",
              "  </style>\n",
              "\n",
              "    <script>\n",
              "      const buttonEl =\n",
              "        document.querySelector('#df-563cc5ec-2e25-4262-8809-7b7b7dac04fc button.colab-df-convert');\n",
              "      buttonEl.style.display =\n",
              "        google.colab.kernel.accessAllowed ? 'block' : 'none';\n",
              "\n",
              "      async function convertToInteractive(key) {\n",
              "        const element = document.querySelector('#df-563cc5ec-2e25-4262-8809-7b7b7dac04fc');\n",
              "        const dataTable =\n",
              "          await google.colab.kernel.invokeFunction('convertToInteractive',\n",
              "                                                    [key], {});\n",
              "        if (!dataTable) return;\n",
              "\n",
              "        const docLinkHtml = 'Like what you see? Visit the ' +\n",
              "          '<a target=\"_blank\" href=https://colab.research.google.com/notebooks/data_table.ipynb>data table notebook</a>'\n",
              "          + ' to learn more about interactive tables.';\n",
              "        element.innerHTML = '';\n",
              "        dataTable['output_type'] = 'display_data';\n",
              "        await google.colab.output.renderOutput(dataTable, element);\n",
              "        const docLink = document.createElement('div');\n",
              "        docLink.innerHTML = docLinkHtml;\n",
              "        element.appendChild(docLink);\n",
              "      }\n",
              "    </script>\n",
              "  </div>\n",
              "\n",
              "\n",
              "<div id=\"df-a42404af-2629-4fd8-a973-dd6e0e537c63\">\n",
              "  <button class=\"colab-df-quickchart\" onclick=\"quickchart('df-a42404af-2629-4fd8-a973-dd6e0e537c63')\"\n",
              "            title=\"Suggest charts\"\n",
              "            style=\"display:none;\">\n",
              "\n",
              "<svg xmlns=\"http://www.w3.org/2000/svg\" height=\"24px\"viewBox=\"0 0 24 24\"\n",
              "     width=\"24px\">\n",
              "    <g>\n",
              "        <path d=\"M19 3H5c-1.1 0-2 .9-2 2v14c0 1.1.9 2 2 2h14c1.1 0 2-.9 2-2V5c0-1.1-.9-2-2-2zM9 17H7v-7h2v7zm4 0h-2V7h2v10zm4 0h-2v-4h2v4z\"/>\n",
              "    </g>\n",
              "</svg>\n",
              "  </button>\n",
              "\n",
              "<style>\n",
              "  .colab-df-quickchart {\n",
              "      --bg-color: #E8F0FE;\n",
              "      --fill-color: #1967D2;\n",
              "      --hover-bg-color: #E2EBFA;\n",
              "      --hover-fill-color: #174EA6;\n",
              "      --disabled-fill-color: #AAA;\n",
              "      --disabled-bg-color: #DDD;\n",
              "  }\n",
              "\n",
              "  [theme=dark] .colab-df-quickchart {\n",
              "      --bg-color: #3B4455;\n",
              "      --fill-color: #D2E3FC;\n",
              "      --hover-bg-color: #434B5C;\n",
              "      --hover-fill-color: #FFFFFF;\n",
              "      --disabled-bg-color: #3B4455;\n",
              "      --disabled-fill-color: #666;\n",
              "  }\n",
              "\n",
              "  .colab-df-quickchart {\n",
              "    background-color: var(--bg-color);\n",
              "    border: none;\n",
              "    border-radius: 50%;\n",
              "    cursor: pointer;\n",
              "    display: none;\n",
              "    fill: var(--fill-color);\n",
              "    height: 32px;\n",
              "    padding: 0;\n",
              "    width: 32px;\n",
              "  }\n",
              "\n",
              "  .colab-df-quickchart:hover {\n",
              "    background-color: var(--hover-bg-color);\n",
              "    box-shadow: 0 1px 2px rgba(60, 64, 67, 0.3), 0 1px 3px 1px rgba(60, 64, 67, 0.15);\n",
              "    fill: var(--button-hover-fill-color);\n",
              "  }\n",
              "\n",
              "  .colab-df-quickchart-complete:disabled,\n",
              "  .colab-df-quickchart-complete:disabled:hover {\n",
              "    background-color: var(--disabled-bg-color);\n",
              "    fill: var(--disabled-fill-color);\n",
              "    box-shadow: none;\n",
              "  }\n",
              "\n",
              "  .colab-df-spinner {\n",
              "    border: 2px solid var(--fill-color);\n",
              "    border-color: transparent;\n",
              "    border-bottom-color: var(--fill-color);\n",
              "    animation:\n",
              "      spin 1s steps(1) infinite;\n",
              "  }\n",
              "\n",
              "  @keyframes spin {\n",
              "    0% {\n",
              "      border-color: transparent;\n",
              "      border-bottom-color: var(--fill-color);\n",
              "      border-left-color: var(--fill-color);\n",
              "    }\n",
              "    20% {\n",
              "      border-color: transparent;\n",
              "      border-left-color: var(--fill-color);\n",
              "      border-top-color: var(--fill-color);\n",
              "    }\n",
              "    30% {\n",
              "      border-color: transparent;\n",
              "      border-left-color: var(--fill-color);\n",
              "      border-top-color: var(--fill-color);\n",
              "      border-right-color: var(--fill-color);\n",
              "    }\n",
              "    40% {\n",
              "      border-color: transparent;\n",
              "      border-right-color: var(--fill-color);\n",
              "      border-top-color: var(--fill-color);\n",
              "    }\n",
              "    60% {\n",
              "      border-color: transparent;\n",
              "      border-right-color: var(--fill-color);\n",
              "    }\n",
              "    80% {\n",
              "      border-color: transparent;\n",
              "      border-right-color: var(--fill-color);\n",
              "      border-bottom-color: var(--fill-color);\n",
              "    }\n",
              "    90% {\n",
              "      border-color: transparent;\n",
              "      border-bottom-color: var(--fill-color);\n",
              "    }\n",
              "  }\n",
              "</style>\n",
              "\n",
              "  <script>\n",
              "    async function quickchart(key) {\n",
              "      const quickchartButtonEl =\n",
              "        document.querySelector('#' + key + ' button');\n",
              "      quickchartButtonEl.disabled = true;  // To prevent multiple clicks.\n",
              "      quickchartButtonEl.classList.add('colab-df-spinner');\n",
              "      try {\n",
              "        const charts = await google.colab.kernel.invokeFunction(\n",
              "            'suggestCharts', [key], {});\n",
              "      } catch (error) {\n",
              "        console.error('Error during call to suggestCharts:', error);\n",
              "      }\n",
              "      quickchartButtonEl.classList.remove('colab-df-spinner');\n",
              "      quickchartButtonEl.classList.add('colab-df-quickchart-complete');\n",
              "    }\n",
              "    (() => {\n",
              "      let quickchartButtonEl =\n",
              "        document.querySelector('#df-a42404af-2629-4fd8-a973-dd6e0e537c63 button');\n",
              "      quickchartButtonEl.style.display =\n",
              "        google.colab.kernel.accessAllowed ? 'block' : 'none';\n",
              "    })();\n",
              "  </script>\n",
              "</div>\n",
              "\n",
              "    </div>\n",
              "  </div>\n"
            ],
            "application/vnd.google.colaboratory.intrinsic+json": {
              "type": "dataframe",
              "variable_name": "x",
              "summary": "{\n  \"name\": \"x\",\n  \"rows\": 891,\n  \"fields\": [\n    {\n      \"column\": \"Age\",\n      \"properties\": {\n        \"dtype\": \"number\",\n        \"std\": 13.277377771258609,\n        \"min\": 0.42,\n        \"max\": 80.0,\n        \"num_unique_values\": 92,\n        \"samples\": [\n          25.0,\n          40.0,\n          9.0\n        ],\n        \"semantic_type\": \"\",\n        \"description\": \"\"\n      }\n    },\n    {\n      \"column\": \"Fare\",\n      \"properties\": {\n        \"dtype\": \"number\",\n        \"std\": 49.6934285971809,\n        \"min\": 0.0,\n        \"max\": 512.3292,\n        \"num_unique_values\": 248,\n        \"samples\": [\n          11.2417,\n          51.8625,\n          7.725\n        ],\n        \"semantic_type\": \"\",\n        \"description\": \"\"\n      }\n    },\n    {\n      \"column\": \"Sex_male\",\n      \"properties\": {\n        \"dtype\": \"boolean\",\n        \"num_unique_values\": 2,\n        \"samples\": [\n          false,\n          true\n        ],\n        \"semantic_type\": \"\",\n        \"description\": \"\"\n      }\n    }\n  ]\n}"
            }
          },
          "metadata": {},
          "execution_count": 5
        }
      ]
    },
    {
      "cell_type": "markdown",
      "source": [
        "### (3) 데이터분할"
      ],
      "metadata": {
        "id": "KsGGC-a4vpar"
      }
    },
    {
      "cell_type": "code",
      "source": [
        "x_train, x_val, y_train, y_val = train_test_split(x, y, test_size=.3, random_state = 20)"
      ],
      "metadata": {
        "id": "7ilUcIlvvrqR"
      },
      "execution_count": null,
      "outputs": []
    },
    {
      "cell_type": "markdown",
      "metadata": {
        "id": "ktpEGtEBooH9"
      },
      "source": [
        "### (4) Scaling"
      ]
    },
    {
      "cell_type": "code",
      "source": [
        "scaler = MinMaxScaler()\n",
        "x_train = scaler.fit_transform(x_train)\n",
        "x_val = scaler.transform(x_val)"
      ],
      "metadata": {
        "id": "UWQUSWh6ooH9"
      },
      "execution_count": null,
      "outputs": []
    },
    {
      "cell_type": "markdown",
      "metadata": {
        "id": "BYr1vtpd8uw4"
      },
      "source": [
        "## 3.딥러닝1: 3개 feature"
      ]
    },
    {
      "cell_type": "markdown",
      "source": [
        "### (1) 모델설계"
      ],
      "metadata": {
        "id": "w-4v_7vcSAZk"
      }
    },
    {
      "cell_type": "code",
      "source": [
        "nfeatures = x_train.shape[1]\n",
        "nfeatures"
      ],
      "metadata": {
        "id": "BQRCR2cCfl4n",
        "colab": {
          "base_uri": "https://localhost:8080/"
        },
        "outputId": "279b69eb-67be-4712-be71-814279d443ae"
      },
      "execution_count": null,
      "outputs": [
        {
          "output_type": "execute_result",
          "data": {
            "text/plain": [
              "3"
            ]
          },
          "metadata": {},
          "execution_count": 8
        }
      ]
    },
    {
      "cell_type": "code",
      "metadata": {
        "id": "3oxyCQiW2Y93",
        "colab": {
          "base_uri": "https://localhost:8080/"
        },
        "outputId": "3628944c-40e2-4fec-9c56-68614d850081"
      },
      "source": [
        "# 메모리 정리\n",
        "clear_session()\n",
        "\n",
        "# Sequential 모델 만들기\n",
        "model = Sequential( Dense( 1 , input_shape = (nfeatures ,), activation= 'sigmoid') )\n",
        "\n",
        "# 모델요약\n",
        "model.summary()"
      ],
      "execution_count": null,
      "outputs": [
        {
          "output_type": "stream",
          "name": "stdout",
          "text": [
            "Model: \"sequential\"\n",
            "_________________________________________________________________\n",
            " Layer (type)                Output Shape              Param #   \n",
            "=================================================================\n",
            " dense (Dense)               (None, 1)                 4         \n",
            "                                                                 \n",
            "=================================================================\n",
            "Total params: 4 (16.00 Byte)\n",
            "Trainable params: 4 (16.00 Byte)\n",
            "Non-trainable params: 0 (0.00 Byte)\n",
            "_________________________________________________________________\n"
          ]
        }
      ]
    },
    {
      "cell_type": "markdown",
      "metadata": {
        "id": "p9pnMdXE2Y93"
      },
      "source": [
        "### (2) compile + 학습"
      ]
    },
    {
      "cell_type": "code",
      "metadata": {
        "id": "DZhoXG0a2Y94",
        "colab": {
          "base_uri": "https://localhost:8080/"
        },
        "outputId": "d10b8598-50ba-42b7-f4fa-93e47d97c48c"
      },
      "source": [
        "model.compile(optimizer = Adam(learning_rate=0.01), loss = 'binary_crossentropy')\n",
        "\n",
        "history = model.fit(x_train, y_train, epochs = 50, validation_split=0.2).history"
      ],
      "execution_count": null,
      "outputs": [
        {
          "output_type": "stream",
          "name": "stdout",
          "text": [
            "Epoch 1/50\n",
            "16/16 [==============================] - 1s 38ms/step - loss: 0.7095 - val_loss: 0.6840\n",
            "Epoch 2/50\n",
            "16/16 [==============================] - 0s 9ms/step - loss: 0.6798 - val_loss: 0.6608\n",
            "Epoch 3/50\n",
            "16/16 [==============================] - 0s 8ms/step - loss: 0.6627 - val_loss: 0.6433\n",
            "Epoch 4/50\n",
            "16/16 [==============================] - 0s 8ms/step - loss: 0.6474 - val_loss: 0.6297\n",
            "Epoch 5/50\n",
            "16/16 [==============================] - 0s 11ms/step - loss: 0.6347 - val_loss: 0.6168\n",
            "Epoch 6/50\n",
            "16/16 [==============================] - 0s 16ms/step - loss: 0.6226 - val_loss: 0.6052\n",
            "Epoch 7/50\n",
            "16/16 [==============================] - 0s 14ms/step - loss: 0.6114 - val_loss: 0.5946\n",
            "Epoch 8/50\n",
            "16/16 [==============================] - 0s 6ms/step - loss: 0.6013 - val_loss: 0.5842\n",
            "Epoch 9/50\n",
            "16/16 [==============================] - 0s 16ms/step - loss: 0.5912 - val_loss: 0.5756\n",
            "Epoch 10/50\n",
            "16/16 [==============================] - 0s 10ms/step - loss: 0.5828 - val_loss: 0.5678\n",
            "Epoch 11/50\n",
            "16/16 [==============================] - 0s 20ms/step - loss: 0.5747 - val_loss: 0.5592\n",
            "Epoch 12/50\n",
            "16/16 [==============================] - 0s 8ms/step - loss: 0.5670 - val_loss: 0.5522\n",
            "Epoch 13/50\n",
            "16/16 [==============================] - 0s 5ms/step - loss: 0.5605 - val_loss: 0.5456\n",
            "Epoch 14/50\n",
            "16/16 [==============================] - 0s 4ms/step - loss: 0.5544 - val_loss: 0.5399\n",
            "Epoch 15/50\n",
            "16/16 [==============================] - 0s 5ms/step - loss: 0.5490 - val_loss: 0.5347\n",
            "Epoch 16/50\n",
            "16/16 [==============================] - 0s 4ms/step - loss: 0.5442 - val_loss: 0.5301\n",
            "Epoch 17/50\n",
            "16/16 [==============================] - 0s 4ms/step - loss: 0.5395 - val_loss: 0.5261\n",
            "Epoch 18/50\n",
            "16/16 [==============================] - 0s 4ms/step - loss: 0.5358 - val_loss: 0.5222\n",
            "Epoch 19/50\n",
            "16/16 [==============================] - 0s 4ms/step - loss: 0.5321 - val_loss: 0.5187\n",
            "Epoch 20/50\n",
            "16/16 [==============================] - 0s 4ms/step - loss: 0.5293 - val_loss: 0.5168\n",
            "Epoch 21/50\n",
            "16/16 [==============================] - 0s 4ms/step - loss: 0.5261 - val_loss: 0.5136\n",
            "Epoch 22/50\n",
            "16/16 [==============================] - 0s 5ms/step - loss: 0.5235 - val_loss: 0.5109\n",
            "Epoch 23/50\n",
            "16/16 [==============================] - 0s 5ms/step - loss: 0.5211 - val_loss: 0.5090\n",
            "Epoch 24/50\n",
            "16/16 [==============================] - 0s 5ms/step - loss: 0.5192 - val_loss: 0.5071\n",
            "Epoch 25/50\n",
            "16/16 [==============================] - 0s 5ms/step - loss: 0.5175 - val_loss: 0.5057\n",
            "Epoch 26/50\n",
            "16/16 [==============================] - 0s 4ms/step - loss: 0.5155 - val_loss: 0.5040\n",
            "Epoch 27/50\n",
            "16/16 [==============================] - 0s 4ms/step - loss: 0.5140 - val_loss: 0.5024\n",
            "Epoch 28/50\n",
            "16/16 [==============================] - 0s 4ms/step - loss: 0.5128 - val_loss: 0.5008\n",
            "Epoch 29/50\n",
            "16/16 [==============================] - 0s 4ms/step - loss: 0.5117 - val_loss: 0.5001\n",
            "Epoch 30/50\n",
            "16/16 [==============================] - 0s 4ms/step - loss: 0.5100 - val_loss: 0.4987\n",
            "Epoch 31/50\n",
            "16/16 [==============================] - 0s 5ms/step - loss: 0.5091 - val_loss: 0.4974\n",
            "Epoch 32/50\n",
            "16/16 [==============================] - 0s 5ms/step - loss: 0.5084 - val_loss: 0.4968\n",
            "Epoch 33/50\n",
            "16/16 [==============================] - 0s 4ms/step - loss: 0.5074 - val_loss: 0.4960\n",
            "Epoch 34/50\n",
            "16/16 [==============================] - 0s 4ms/step - loss: 0.5069 - val_loss: 0.4963\n",
            "Epoch 35/50\n",
            "16/16 [==============================] - 0s 4ms/step - loss: 0.5058 - val_loss: 0.4953\n",
            "Epoch 36/50\n",
            "16/16 [==============================] - 0s 5ms/step - loss: 0.5051 - val_loss: 0.4950\n",
            "Epoch 37/50\n",
            "16/16 [==============================] - 0s 5ms/step - loss: 0.5044 - val_loss: 0.4944\n",
            "Epoch 38/50\n",
            "16/16 [==============================] - 0s 6ms/step - loss: 0.5040 - val_loss: 0.4943\n",
            "Epoch 39/50\n",
            "16/16 [==============================] - 0s 5ms/step - loss: 0.5032 - val_loss: 0.4933\n",
            "Epoch 40/50\n",
            "16/16 [==============================] - 0s 5ms/step - loss: 0.5027 - val_loss: 0.4928\n",
            "Epoch 41/50\n",
            "16/16 [==============================] - 0s 5ms/step - loss: 0.5022 - val_loss: 0.4930\n",
            "Epoch 42/50\n",
            "16/16 [==============================] - 0s 5ms/step - loss: 0.5020 - val_loss: 0.4920\n",
            "Epoch 43/50\n",
            "16/16 [==============================] - 0s 4ms/step - loss: 0.5014 - val_loss: 0.4921\n",
            "Epoch 44/50\n",
            "16/16 [==============================] - 0s 5ms/step - loss: 0.5014 - val_loss: 0.4927\n",
            "Epoch 45/50\n",
            "16/16 [==============================] - 0s 5ms/step - loss: 0.5006 - val_loss: 0.4911\n",
            "Epoch 46/50\n",
            "16/16 [==============================] - 0s 4ms/step - loss: 0.5001 - val_loss: 0.4912\n",
            "Epoch 47/50\n",
            "16/16 [==============================] - 0s 5ms/step - loss: 0.4996 - val_loss: 0.4911\n",
            "Epoch 48/50\n",
            "16/16 [==============================] - 0s 4ms/step - loss: 0.4992 - val_loss: 0.4911\n",
            "Epoch 49/50\n",
            "16/16 [==============================] - 0s 6ms/step - loss: 0.4988 - val_loss: 0.4908\n",
            "Epoch 50/50\n",
            "16/16 [==============================] - 0s 6ms/step - loss: 0.4987 - val_loss: 0.4908\n"
          ]
        }
      ]
    },
    {
      "cell_type": "markdown",
      "source": [
        "* 학습결과 그래프"
      ],
      "metadata": {
        "id": "3N8dEQk0SKD9"
      }
    },
    {
      "cell_type": "code",
      "source": [
        "dl_history_plot(history)"
      ],
      "metadata": {
        "id": "03Y0s6_Ug8dR",
        "colab": {
          "base_uri": "https://localhost:8080/",
          "height": 542
        },
        "outputId": "0f8b6402-bf8f-404a-b73f-0ea82a4015c2"
      },
      "execution_count": null,
      "outputs": [
        {
          "output_type": "display_data",
          "data": {
            "text/plain": [
              "<Figure size 1000x600 with 1 Axes>"
            ],
            "image/png": "[encoded data removed]"
          },
          "metadata": {}
        }
      ]
    },
    {
      "cell_type": "markdown",
      "source": [
        "### (3) 예측 및 검증"
      ],
      "metadata": {
        "id": "cnuOhiHUSP8w"
      }
    },
    {
      "cell_type": "code",
      "source": [
        "pred = model.predict(x_val)\n",
        "# pred[:5]\n",
        "# activation이 sigmoid --> 0 ~ 1 사이의 확률값.\n",
        "# 그러므로 cut-off value(보통 0.5)를 기준으로 잘라서 0과 1로 만들어 준다.\n",
        "pred = np.where(pred >= .5, 1, 0)"
      ],
      "metadata": {
        "id": "iWpqKvt78PmD",
        "colab": {
          "base_uri": "https://localhost:8080/"
        },
        "outputId": "ffb0dcca-77b0-4c1e-8273-fd1a1c98d2b6"
      },
      "execution_count": null,
      "outputs": [
        {
          "output_type": "stream",
          "name": "stdout",
          "text": [
            "9/9 [==============================] - 0s 3ms/step\n"
          ]
        }
      ]
    },
    {
      "cell_type": "code",
      "source": [
        "print(classification_report(y_val, pred))"
      ],
      "metadata": {
        "id": "pjkdc0il8_8-",
        "colab": {
          "base_uri": "https://localhost:8080/"
        },
        "outputId": "4bf01337-f101-465d-ad22-de82cb7d9ad7"
      },
      "execution_count": null,
      "outputs": [
        {
          "output_type": "stream",
          "name": "stdout",
          "text": [
            "              precision    recall  f1-score   support\n",
            "\n",
            "           0       0.82      0.85      0.84       170\n",
            "           1       0.73      0.68      0.71        98\n",
            "\n",
            "    accuracy                           0.79       268\n",
            "   macro avg       0.78      0.77      0.77       268\n",
            "weighted avg       0.79      0.79      0.79       268\n",
            "\n"
          ]
        }
      ]
    },
    {
      "cell_type": "markdown",
      "source": [
        "## 4.딥러닝2 : 전체 feature\n",
        "* 이제 전체 데이터를 가지고 모델링을 시도해 보겠습니다.\n"
      ],
      "metadata": {
        "id": "SL2L1RrNTA5g"
      }
    },
    {
      "cell_type": "markdown",
      "source": [
        "### (1) 데이터 전처리"
      ],
      "metadata": {
        "id": "bWL9ssqWTxCF"
      }
    },
    {
      "cell_type": "markdown",
      "source": [
        "* 데이터 준비"
      ],
      "metadata": {
        "id": "Q8-uL-ebT5SQ"
      }
    },
    {
      "cell_type": "code",
      "source": [
        "target = 'Survived'\n",
        "x = data.drop(target, axis = 1)\n",
        "y = data.loc[:, target]"
      ],
      "metadata": {
        "id": "korryJ9cTFTo"
      },
      "execution_count": null,
      "outputs": []
    },
    {
      "cell_type": "markdown",
      "source": [
        "* 가변수화"
      ],
      "metadata": {
        "id": "HmqQjbZ5IhWk"
      }
    },
    {
      "cell_type": "code",
      "source": [
        "cat_cols = ['Pclass','Sex', 'Embarked']\n",
        "x = pd.get_dummies(x, columns = cat_cols, drop_first = True)"
      ],
      "metadata": {
        "id": "D6YS1uQ3fNGQ"
      },
      "execution_count": null,
      "outputs": []
    },
    {
      "cell_type": "markdown",
      "source": [
        "* 데이터분할"
      ],
      "metadata": {
        "id": "2AfNQnlFsaCk"
      }
    },
    {
      "cell_type": "code",
      "source": [
        "x_train, x_val, y_train, y_val = train_test_split(x, y, test_size=.3, random_state = 20)"
      ],
      "metadata": {
        "id": "e_EewQ3Fscdt"
      },
      "execution_count": null,
      "outputs": []
    },
    {
      "cell_type": "markdown",
      "source": [
        "* 스케일링"
      ],
      "metadata": {
        "id": "s_huFosGT7en"
      }
    },
    {
      "cell_type": "code",
      "source": [
        "scaler = MinMaxScaler()\n",
        "x_train = scaler.fit_transform(x_train)\n",
        "x_val = scaler.transform(x_val)"
      ],
      "metadata": {
        "id": "IV5Hu5WvTFQn"
      },
      "execution_count": null,
      "outputs": []
    },
    {
      "cell_type": "markdown",
      "source": [
        "### (2) 모델링"
      ],
      "metadata": {
        "id": "xDS0688JUBsF"
      }
    },
    {
      "cell_type": "markdown",
      "metadata": {
        "id": "nTA-Yr4SUGxg"
      },
      "source": [
        "* 모델 설계"
      ]
    },
    {
      "cell_type": "code",
      "source": [
        "nfeatures = x_train.shape[1]\n",
        "nfeatures"
      ],
      "metadata": {
        "id": "X3T44fmwfjQC",
        "colab": {
          "base_uri": "https://localhost:8080/"
        },
        "outputId": "ca8801a0-ce02-4090-fae3-60e2ed6a9454"
      },
      "execution_count": null,
      "outputs": [
        {
          "output_type": "execute_result",
          "data": {
            "text/plain": [
              "8"
            ]
          },
          "metadata": {},
          "execution_count": 30
        }
      ]
    },
    {
      "cell_type": "code",
      "metadata": {
        "id": "j85sSnzHUGxg",
        "colab": {
          "base_uri": "https://localhost:8080/"
        },
        "outputId": "becd1e10-9e13-4d63-892e-e57db17a7147"
      },
      "source": [
        "# 메모리 정리\n",
        "clear_session()\n",
        "\n",
        "# Sequential 모델\n",
        "model2 =  Sequential( Dense(1 ,input_shape = (nfeatures,), activation = 'sigmoid'))\n",
        "\n",
        "# 모델요약\n",
        "model2.summary()"
      ],
      "execution_count": null,
      "outputs": [
        {
          "output_type": "stream",
          "name": "stdout",
          "text": [
            "Model: \"sequential\"\n",
            "_________________________________________________________________\n",
            " Layer (type)                Output Shape              Param #   \n",
            "=================================================================\n",
            " dense (Dense)               (None, 1)                 9         \n",
            "                                                                 \n",
            "=================================================================\n",
            "Total params: 9 (36.00 Byte)\n",
            "Trainable params: 9 (36.00 Byte)\n",
            "Non-trainable params: 0 (0.00 Byte)\n",
            "_________________________________________________________________\n"
          ]
        }
      ]
    },
    {
      "cell_type": "markdown",
      "metadata": {
        "id": "FtEZ2O6mUGxg"
      },
      "source": [
        "* compile + 학습"
      ]
    },
    {
      "cell_type": "code",
      "metadata": {
        "id": "101t-cHUUGxg",
        "colab": {
          "base_uri": "https://localhost:8080/"
        },
        "outputId": "8ecfb718-7d32-4f41-c07e-a49ff534f176"
      },
      "source": [
        "model2.compile(optimizer = Adam(learning_rate=0.01), loss = 'binary_crossentropy')\n",
        "history = model2.fit(x_train,y_train,epochs=50,validation_split=0.2).history"
      ],
      "execution_count": null,
      "outputs": [
        {
          "output_type": "stream",
          "name": "stdout",
          "text": [
            "Epoch 1/50\n",
            "16/16 [==============================] - 2s 35ms/step - loss: 0.6460 - val_loss: 0.6237\n",
            "Epoch 2/50\n",
            "16/16 [==============================] - 0s 6ms/step - loss: 0.6198 - val_loss: 0.5994\n",
            "Epoch 3/50\n",
            "16/16 [==============================] - 0s 7ms/step - loss: 0.5991 - val_loss: 0.5805\n",
            "Epoch 4/50\n",
            "16/16 [==============================] - 0s 6ms/step - loss: 0.5814 - val_loss: 0.5639\n",
            "Epoch 5/50\n",
            "16/16 [==============================] - 0s 8ms/step - loss: 0.5662 - val_loss: 0.5491\n",
            "Epoch 6/50\n",
            "16/16 [==============================] - 0s 9ms/step - loss: 0.5531 - val_loss: 0.5371\n",
            "Epoch 7/50\n",
            "16/16 [==============================] - 0s 7ms/step - loss: 0.5426 - val_loss: 0.5268\n",
            "Epoch 8/50\n",
            "16/16 [==============================] - 0s 6ms/step - loss: 0.5318 - val_loss: 0.5170\n",
            "Epoch 9/50\n",
            "16/16 [==============================] - 0s 7ms/step - loss: 0.5234 - val_loss: 0.5092\n",
            "Epoch 10/50\n",
            "16/16 [==============================] - 0s 7ms/step - loss: 0.5164 - val_loss: 0.5028\n",
            "Epoch 11/50\n",
            "16/16 [==============================] - 0s 7ms/step - loss: 0.5101 - val_loss: 0.4968\n",
            "Epoch 12/50\n",
            "16/16 [==============================] - 0s 7ms/step - loss: 0.5043 - val_loss: 0.4918\n",
            "Epoch 13/50\n",
            "16/16 [==============================] - 0s 10ms/step - loss: 0.4987 - val_loss: 0.4874\n",
            "Epoch 14/50\n",
            "16/16 [==============================] - 0s 12ms/step - loss: 0.4945 - val_loss: 0.4829\n",
            "Epoch 15/50\n",
            "16/16 [==============================] - 0s 21ms/step - loss: 0.4910 - val_loss: 0.4797\n",
            "Epoch 16/50\n",
            "16/16 [==============================] - 0s 12ms/step - loss: 0.4872 - val_loss: 0.4762\n",
            "Epoch 17/50\n",
            "16/16 [==============================] - 0s 10ms/step - loss: 0.4853 - val_loss: 0.4753\n",
            "Epoch 18/50\n",
            "16/16 [==============================] - 0s 8ms/step - loss: 0.4814 - val_loss: 0.4711\n",
            "Epoch 19/50\n",
            "16/16 [==============================] - 0s 5ms/step - loss: 0.4790 - val_loss: 0.4687\n",
            "Epoch 20/50\n",
            "16/16 [==============================] - 0s 5ms/step - loss: 0.4769 - val_loss: 0.4666\n",
            "Epoch 21/50\n",
            "16/16 [==============================] - 0s 4ms/step - loss: 0.4749 - val_loss: 0.4653\n",
            "Epoch 22/50\n",
            "16/16 [==============================] - 0s 4ms/step - loss: 0.4730 - val_loss: 0.4628\n",
            "Epoch 23/50\n",
            "16/16 [==============================] - 0s 5ms/step - loss: 0.4717 - val_loss: 0.4617\n",
            "Epoch 24/50\n",
            "16/16 [==============================] - 0s 4ms/step - loss: 0.4699 - val_loss: 0.4601\n",
            "Epoch 25/50\n",
            "16/16 [==============================] - 0s 5ms/step - loss: 0.4686 - val_loss: 0.4583\n",
            "Epoch 26/50\n",
            "16/16 [==============================] - 0s 5ms/step - loss: 0.4675 - val_loss: 0.4578\n",
            "Epoch 27/50\n",
            "16/16 [==============================] - 0s 5ms/step - loss: 0.4661 - val_loss: 0.4568\n",
            "Epoch 28/50\n",
            "16/16 [==============================] - 0s 5ms/step - loss: 0.4652 - val_loss: 0.4572\n",
            "Epoch 29/50\n",
            "16/16 [==============================] - 0s 5ms/step - loss: 0.4639 - val_loss: 0.4554\n",
            "Epoch 30/50\n",
            "16/16 [==============================] - 0s 4ms/step - loss: 0.4628 - val_loss: 0.4541\n",
            "Epoch 31/50\n",
            "16/16 [==============================] - 0s 4ms/step - loss: 0.4620 - val_loss: 0.4533\n",
            "Epoch 32/50\n",
            "16/16 [==============================] - 0s 4ms/step - loss: 0.4617 - val_loss: 0.4525\n",
            "Epoch 33/50\n",
            "16/16 [==============================] - 0s 5ms/step - loss: 0.4615 - val_loss: 0.4512\n",
            "Epoch 34/50\n",
            "16/16 [==============================] - 0s 5ms/step - loss: 0.4594 - val_loss: 0.4511\n",
            "Epoch 35/50\n",
            "16/16 [==============================] - 0s 4ms/step - loss: 0.4586 - val_loss: 0.4512\n",
            "Epoch 36/50\n",
            "16/16 [==============================] - 0s 5ms/step - loss: 0.4589 - val_loss: 0.4504\n",
            "Epoch 37/50\n",
            "16/16 [==============================] - 0s 5ms/step - loss: 0.4582 - val_loss: 0.4508\n",
            "Epoch 38/50\n",
            "16/16 [==============================] - 0s 5ms/step - loss: 0.4567 - val_loss: 0.4487\n",
            "Epoch 39/50\n",
            "16/16 [==============================] - 0s 5ms/step - loss: 0.4561 - val_loss: 0.4481\n",
            "Epoch 40/50\n",
            "16/16 [==============================] - 0s 5ms/step - loss: 0.4554 - val_loss: 0.4489\n",
            "Epoch 41/50\n",
            "16/16 [==============================] - 0s 6ms/step - loss: 0.4554 - val_loss: 0.4479\n",
            "Epoch 42/50\n",
            "16/16 [==============================] - 0s 5ms/step - loss: 0.4549 - val_loss: 0.4484\n",
            "Epoch 43/50\n",
            "16/16 [==============================] - 0s 4ms/step - loss: 0.4540 - val_loss: 0.4473\n",
            "Epoch 44/50\n",
            "16/16 [==============================] - 0s 5ms/step - loss: 0.4532 - val_loss: 0.4467\n",
            "Epoch 45/50\n",
            "16/16 [==============================] - 0s 5ms/step - loss: 0.4533 - val_loss: 0.4461\n",
            "Epoch 46/50\n",
            "16/16 [==============================] - 0s 4ms/step - loss: 0.4521 - val_loss: 0.4456\n",
            "Epoch 47/50\n",
            "16/16 [==============================] - 0s 5ms/step - loss: 0.4517 - val_loss: 0.4454\n",
            "Epoch 48/50\n",
            "16/16 [==============================] - 0s 4ms/step - loss: 0.4514 - val_loss: 0.4458\n",
            "Epoch 49/50\n",
            "16/16 [==============================] - 0s 4ms/step - loss: 0.4509 - val_loss: 0.4451\n",
            "Epoch 50/50\n",
            "16/16 [==============================] - 0s 5ms/step - loss: 0.4503 - val_loss: 0.4449\n"
          ]
        }
      ]
    },
    {
      "cell_type": "markdown",
      "source": [
        "* 학습결과 그래프"
      ],
      "metadata": {
        "id": "jfTJKyP4UGxh"
      }
    },
    {
      "cell_type": "code",
      "metadata": {
        "id": "Gbs-nZuzUGxh",
        "colab": {
          "base_uri": "https://localhost:8080/",
          "height": 542
        },
        "outputId": "041da245-ab45-4598-8de5-adb7c27c4254"
      },
      "source": [
        "dl_history_plot(history)"
      ],
      "execution_count": null,
      "outputs": [
        {
          "output_type": "display_data",
          "data": {
            "text/plain": [
              "<Figure size 1000x600 with 1 Axes>"
            ],
            "image/png": "[encoded data removed]"
          },
          "metadata": {}
        }
      ]
    },
    {
      "cell_type": "markdown",
      "source": [
        "* 예측 및 검증"
      ],
      "metadata": {
        "id": "HDfZe0msoFov"
      }
    },
    {
      "cell_type": "code",
      "source": [
        "pred2 = model2.predict(x_val)\n",
        "pred2 = np.where(pred2 >= .5, 1, 0)\n",
        "\n",
        "print(classification_report(y_val, pred2))"
      ],
      "metadata": {
        "id": "IW2yYuBRUGxh",
        "colab": {
          "base_uri": "https://localhost:8080/"
        },
        "outputId": "08912c76-33f1-40b6-a0be-64db765b87d1"
      },
      "execution_count": null,
      "outputs": [
        {
          "output_type": "stream",
          "name": "stdout",
          "text": [
            "9/9 [==============================] - 0s 3ms/step\n",
            "              precision    recall  f1-score   support\n",
            "\n",
            "           0       0.80      0.82      0.81       170\n",
            "           1       0.68      0.65      0.67        98\n",
            "\n",
            "    accuracy                           0.76       268\n",
            "   macro avg       0.74      0.74      0.74       268\n",
            "weighted avg       0.76      0.76      0.76       268\n",
            "\n"
          ]
        }
      ]
    },
    {
      "cell_type": "markdown",
      "source": [
        "----"
      ],
      "metadata": {
        "id": "MEjPndyVf5dG"
      }
    },
    {
      "cell_type": "markdown",
      "source": [
        "## 5.딥러닝3 : hidden layer\n",
        "* 이제 레이어를 추가해 보겠습니다.\n"
      ],
      "metadata": {
        "id": "4tozU06ermAJ"
      }
    },
    {
      "cell_type": "markdown",
      "metadata": {
        "id": "YBGf6ESprmAL"
      },
      "source": [
        "### (1) 모델 설계"
      ]
    },
    {
      "cell_type": "code",
      "source": [
        "n = x_train.shape[1]\n",
        "n"
      ],
      "metadata": {
        "id": "tY1Qjd_hrmAL",
        "colab": {
          "base_uri": "https://localhost:8080/"
        },
        "outputId": "04aaf95b-53da-467a-af3b-cef8e53399b3"
      },
      "execution_count": null,
      "outputs": [
        {
          "output_type": "execute_result",
          "data": {
            "text/plain": [
              "8"
            ]
          },
          "metadata": {},
          "execution_count": 39
        }
      ]
    },
    {
      "cell_type": "code",
      "metadata": {
        "id": "fG4gBuGlrmAL",
        "colab": {
          "base_uri": "https://localhost:8080/"
        },
        "outputId": "5f7be4cf-53b3-4f3f-8480-851e8c091745"
      },
      "source": [
        "# 메모리 정리\n",
        "clear_session()\n",
        "\n",
        "# Sequential 모델\n",
        "model3 = Sequential([ Dense( 4, input_shape = (n ,), activation = 'relu'),\n",
        "                      Dense( 1, activation = 'sigmoid')])\n",
        "\n",
        "# 모델요약\n",
        "model3.summary()"
      ],
      "execution_count": null,
      "outputs": [
        {
          "output_type": "stream",
          "name": "stdout",
          "text": [
            "Model: \"sequential\"\n",
            "_________________________________________________________________\n",
            " Layer (type)                Output Shape              Param #   \n",
            "=================================================================\n",
            " dense (Dense)               (None, 4)                 36        \n",
            "                                                                 \n",
            " dense_1 (Dense)             (None, 1)                 5         \n",
            "                                                                 \n",
            "=================================================================\n",
            "Total params: 41 (164.00 Byte)\n",
            "Trainable params: 41 (164.00 Byte)\n",
            "Non-trainable params: 0 (0.00 Byte)\n",
            "_________________________________________________________________\n"
          ]
        }
      ]
    },
    {
      "cell_type": "markdown",
      "metadata": {
        "id": "uO3Lf9u1rmAM"
      },
      "source": [
        "### (2) compile + 학습"
      ]
    },
    {
      "cell_type": "code",
      "metadata": {
        "id": "rrc9XvzRrmAM",
        "colab": {
          "base_uri": "https://localhost:8080/"
        },
        "outputId": "83fb209b-82a7-49d4-a727-bfdeb081f121"
      },
      "source": [
        "model3.compile( optimizer=Adam(learning_rate= 0.01), loss ='binary_crossentropy')\n",
        "hist = model3.fit(x_train, y_train, epochs = 50, validation_split=.2 ).history"
      ],
      "execution_count": null,
      "outputs": [
        {
          "output_type": "stream",
          "name": "stdout",
          "text": [
            "Epoch 1/50\n",
            "16/16 [==============================] - 2s 35ms/step - loss: 0.5883 - val_loss: 0.5487\n",
            "Epoch 2/50\n",
            "16/16 [==============================] - 0s 20ms/step - loss: 0.5619 - val_loss: 0.5272\n",
            "Epoch 3/50\n",
            "16/16 [==============================] - 0s 13ms/step - loss: 0.5405 - val_loss: 0.5099\n",
            "Epoch 4/50\n",
            "16/16 [==============================] - 0s 12ms/step - loss: 0.5192 - val_loss: 0.4948\n",
            "Epoch 5/50\n",
            "16/16 [==============================] - 0s 9ms/step - loss: 0.5003 - val_loss: 0.4812\n",
            "Epoch 6/50\n",
            "16/16 [==============================] - 0s 12ms/step - loss: 0.4871 - val_loss: 0.4690\n",
            "Epoch 7/50\n",
            "16/16 [==============================] - 0s 14ms/step - loss: 0.4743 - val_loss: 0.4606\n",
            "Epoch 8/50\n",
            "16/16 [==============================] - 0s 10ms/step - loss: 0.4634 - val_loss: 0.4521\n",
            "Epoch 9/50\n",
            "16/16 [==============================] - 0s 11ms/step - loss: 0.4553 - val_loss: 0.4451\n",
            "Epoch 10/50\n",
            "16/16 [==============================] - 0s 11ms/step - loss: 0.4490 - val_loss: 0.4427\n",
            "Epoch 11/50\n",
            "16/16 [==============================] - 0s 9ms/step - loss: 0.4415 - val_loss: 0.4348\n",
            "Epoch 12/50\n",
            "16/16 [==============================] - 0s 15ms/step - loss: 0.4398 - val_loss: 0.4326\n",
            "Epoch 13/50\n",
            "16/16 [==============================] - 0s 12ms/step - loss: 0.4348 - val_loss: 0.4266\n",
            "Epoch 14/50\n",
            "16/16 [==============================] - 0s 15ms/step - loss: 0.4327 - val_loss: 0.4246\n",
            "Epoch 15/50\n",
            "16/16 [==============================] - 0s 17ms/step - loss: 0.4303 - val_loss: 0.4245\n",
            "Epoch 16/50\n",
            "16/16 [==============================] - 0s 13ms/step - loss: 0.4297 - val_loss: 0.4227\n",
            "Epoch 17/50\n",
            "16/16 [==============================] - 0s 14ms/step - loss: 0.4273 - val_loss: 0.4211\n",
            "Epoch 18/50\n",
            "16/16 [==============================] - 0s 15ms/step - loss: 0.4257 - val_loss: 0.4180\n",
            "Epoch 19/50\n",
            "16/16 [==============================] - 0s 15ms/step - loss: 0.4248 - val_loss: 0.4195\n",
            "Epoch 20/50\n",
            "16/16 [==============================] - 0s 11ms/step - loss: 0.4233 - val_loss: 0.4183\n",
            "Epoch 21/50\n",
            "16/16 [==============================] - 0s 8ms/step - loss: 0.4227 - val_loss: 0.4193\n",
            "Epoch 22/50\n",
            "16/16 [==============================] - 0s 8ms/step - loss: 0.4224 - val_loss: 0.4136\n",
            "Epoch 23/50\n",
            "16/16 [==============================] - 0s 8ms/step - loss: 0.4207 - val_loss: 0.4200\n",
            "Epoch 24/50\n",
            "16/16 [==============================] - 0s 8ms/step - loss: 0.4205 - val_loss: 0.4122\n",
            "Epoch 25/50\n",
            "16/16 [==============================] - 0s 9ms/step - loss: 0.4213 - val_loss: 0.4131\n",
            "Epoch 26/50\n",
            "16/16 [==============================] - 0s 9ms/step - loss: 0.4201 - val_loss: 0.4125\n",
            "Epoch 27/50\n",
            "16/16 [==============================] - 0s 11ms/step - loss: 0.4190 - val_loss: 0.4120\n",
            "Epoch 28/50\n",
            "16/16 [==============================] - 0s 8ms/step - loss: 0.4163 - val_loss: 0.4098\n",
            "Epoch 29/50\n",
            "16/16 [==============================] - 0s 13ms/step - loss: 0.4153 - val_loss: 0.4131\n",
            "Epoch 30/50\n",
            "16/16 [==============================] - 0s 12ms/step - loss: 0.4140 - val_loss: 0.4124\n",
            "Epoch 31/50\n",
            "16/16 [==============================] - 0s 12ms/step - loss: 0.4135 - val_loss: 0.4167\n",
            "Epoch 32/50\n",
            "16/16 [==============================] - 0s 23ms/step - loss: 0.4120 - val_loss: 0.4101\n",
            "Epoch 33/50\n",
            "16/16 [==============================] - 0s 10ms/step - loss: 0.4124 - val_loss: 0.4100\n",
            "Epoch 34/50\n",
            "16/16 [==============================] - 0s 7ms/step - loss: 0.4121 - val_loss: 0.4128\n",
            "Epoch 35/50\n",
            "16/16 [==============================] - 0s 8ms/step - loss: 0.4124 - val_loss: 0.4092\n",
            "Epoch 36/50\n",
            "16/16 [==============================] - 0s 4ms/step - loss: 0.4102 - val_loss: 0.4137\n",
            "Epoch 37/50\n",
            "16/16 [==============================] - 0s 4ms/step - loss: 0.4099 - val_loss: 0.4083\n",
            "Epoch 38/50\n",
            "16/16 [==============================] - 0s 6ms/step - loss: 0.4108 - val_loss: 0.4111\n",
            "Epoch 39/50\n",
            "16/16 [==============================] - 0s 5ms/step - loss: 0.4104 - val_loss: 0.4135\n",
            "Epoch 40/50\n",
            "16/16 [==============================] - 0s 4ms/step - loss: 0.4069 - val_loss: 0.4105\n",
            "Epoch 41/50\n",
            "16/16 [==============================] - 0s 5ms/step - loss: 0.4062 - val_loss: 0.4119\n",
            "Epoch 42/50\n",
            "16/16 [==============================] - 0s 5ms/step - loss: 0.4084 - val_loss: 0.4090\n",
            "Epoch 43/50\n",
            "16/16 [==============================] - 0s 5ms/step - loss: 0.4090 - val_loss: 0.4102\n",
            "Epoch 44/50\n",
            "16/16 [==============================] - 0s 5ms/step - loss: 0.4057 - val_loss: 0.4110\n",
            "Epoch 45/50\n",
            "16/16 [==============================] - 0s 4ms/step - loss: 0.4064 - val_loss: 0.4111\n",
            "Epoch 46/50\n",
            "16/16 [==============================] - 0s 4ms/step - loss: 0.4051 - val_loss: 0.4097\n",
            "Epoch 47/50\n",
            "16/16 [==============================] - 0s 5ms/step - loss: 0.4108 - val_loss: 0.4131\n",
            "Epoch 48/50\n",
            "16/16 [==============================] - 0s 4ms/step - loss: 0.4069 - val_loss: 0.4103\n",
            "Epoch 49/50\n",
            "16/16 [==============================] - 0s 5ms/step - loss: 0.4054 - val_loss: 0.4077\n",
            "Epoch 50/50\n",
            "16/16 [==============================] - 0s 6ms/step - loss: 0.4056 - val_loss: 0.4132\n"
          ]
        }
      ]
    },
    {
      "cell_type": "markdown",
      "source": [
        "* 학습결과 그래프"
      ],
      "metadata": {
        "id": "zEHTIzCFrmAM"
      }
    },
    {
      "cell_type": "code",
      "metadata": {
        "id": "tlFZWZizrmAM",
        "colab": {
          "base_uri": "https://localhost:8080/",
          "height": 542
        },
        "outputId": "2dd58b7c-ab25-4251-8a3c-818266038e23"
      },
      "source": [
        "dl_history_plot(hist)"
      ],
      "execution_count": null,
      "outputs": [
        {
          "output_type": "display_data",
          "data": {
            "text/plain": [
              "<Figure size 1000x600 with 1 Axes>"
            ],
            "image/png": "[encoded data removed]"
          },
          "metadata": {}
        }
      ]
    },
    {
      "cell_type": "markdown",
      "source": [
        "* 예측 및 검증"
      ],
      "metadata": {
        "id": "5ReWtFYNo0EK"
      }
    },
    {
      "cell_type": "code",
      "source": [
        "pred3 = model3.predict(x_val)\n",
        "pred3 = np.where(pred3 >= 0.5, 1, 0)"
      ],
      "metadata": {
        "id": "xboRa-t1rmAM",
        "colab": {
          "base_uri": "https://localhost:8080/"
        },
        "outputId": "979a771c-c10a-4d95-e649-3d4a54bc0260"
      },
      "execution_count": null,
      "outputs": [
        {
          "output_type": "stream",
          "name": "stdout",
          "text": [
            "9/9 [==============================] - 0s 2ms/step\n"
          ]
        }
      ]
    },
    {
      "cell_type": "code",
      "source": [
        "print(classification_report(y_val, pred3))"
      ],
      "metadata": {
        "id": "7yOcS6e68Mze",
        "colab": {
          "base_uri": "https://localhost:8080/"
        },
        "outputId": "d417b204-5f05-49cf-a7ef-d408c5770a7c"
      },
      "execution_count": null,
      "outputs": [
        {
          "output_type": "stream",
          "name": "stdout",
          "text": [
            "              precision    recall  f1-score   support\n",
            "\n",
            "           0       0.80      0.89      0.85       170\n",
            "           1       0.77      0.62      0.69        98\n",
            "\n",
            "    accuracy                           0.79       268\n",
            "   macro avg       0.79      0.76      0.77       268\n",
            "weighted avg       0.79      0.79      0.79       268\n",
            "\n"
          ]
        }
      ]
    },
    {
      "cell_type": "markdown",
      "source": [
        "### (3) 실습1"
      ],
      "metadata": {
        "id": "xMGgnz9TvDSr"
      }
    },
    {
      "cell_type": "markdown",
      "source": [
        "* 다음의 summary를 보고 모델을 설계하시오.\n",
        "\n",
        "| Layer (type) | Output Shape | 옵션 |\n",
        "| ---- | ---- | ---- |\n",
        "| dense (Dense) | (None, 16)  | node, input_shape, activation = 'relu' |\n",
        "| dense_1 (Dense) | (None, 1) | node, activation = 'sigmoid' |     "
      ],
      "metadata": {
        "id": "MZQ1GyB7vONX"
      }
    },
    {
      "cell_type": "code",
      "source": [
        "nfeatures = x_train.shape[1]\n",
        "nfeatures"
      ],
      "metadata": {
        "id": "siwyHvr1rmAM",
        "colab": {
          "base_uri": "https://localhost:8080/"
        },
        "outputId": "07a1f819-5c73-4841-d25f-551c3eb0630e"
      },
      "execution_count": null,
      "outputs": [
        {
          "output_type": "execute_result",
          "data": {
            "text/plain": [
              "8"
            ]
          },
          "metadata": {},
          "execution_count": 45
        }
      ]
    },
    {
      "cell_type": "code",
      "source": [
        "#메모리 초기화\n",
        "clear_session()\n",
        "\n",
        "#모델\n",
        "model4 = Sequential([Dense(16,input_shape = (nfeatures,), activation='relu'),\n",
        "                   Dense(1,activation='sigmoid')])\n",
        "\n",
        "#모델 요약\n",
        "model4.summary()"
      ],
      "metadata": {
        "id": "iEZWr_jNwCpr",
        "colab": {
          "base_uri": "https://localhost:8080/"
        },
        "outputId": "7d8962e7-4b82-4cd5-b327-395abae6a049"
      },
      "execution_count": null,
      "outputs": [
        {
          "output_type": "stream",
          "name": "stdout",
          "text": [
            "Model: \"sequential\"\n",
            "_________________________________________________________________\n",
            " Layer (type)                Output Shape              Param #   \n",
            "=================================================================\n",
            " dense (Dense)               (None, 16)                144       \n",
            "                                                                 \n",
            " dense_1 (Dense)             (None, 1)                 17        \n",
            "                                                                 \n",
            "=================================================================\n",
            "Total params: 161 (644.00 Byte)\n",
            "Trainable params: 161 (644.00 Byte)\n",
            "Non-trainable params: 0 (0.00 Byte)\n",
            "_________________________________________________________________\n"
          ]
        }
      ]
    },
    {
      "cell_type": "code",
      "source": [
        "model4.compile(optimizer = Adam(learning_rate=0.01), loss = 'binary_crossentropy')\n",
        "history = model4.fit(x_train, y_train, epochs = 50, validation_split = 0.2).history"
      ],
      "metadata": {
        "id": "T9plSoBwwCh8",
        "colab": {
          "base_uri": "https://localhost:8080/"
        },
        "outputId": "cb36723e-92fd-4ace-da98-26cb7b05cab6"
      },
      "execution_count": null,
      "outputs": [
        {
          "output_type": "stream",
          "name": "stdout",
          "text": [
            "Epoch 1/50\n",
            "16/16 [==============================] - 2s 25ms/step - loss: 0.6405 - val_loss: 0.5645\n",
            "Epoch 2/50\n",
            "16/16 [==============================] - 0s 8ms/step - loss: 0.5577 - val_loss: 0.5238\n",
            "Epoch 3/50\n",
            "16/16 [==============================] - 0s 9ms/step - loss: 0.5130 - val_loss: 0.4805\n",
            "Epoch 4/50\n",
            "16/16 [==============================] - 0s 7ms/step - loss: 0.4769 - val_loss: 0.4605\n",
            "Epoch 5/50\n",
            "16/16 [==============================] - 0s 8ms/step - loss: 0.4627 - val_loss: 0.4515\n",
            "Epoch 6/50\n",
            "16/16 [==============================] - 0s 8ms/step - loss: 0.4527 - val_loss: 0.4411\n",
            "Epoch 7/50\n",
            "16/16 [==============================] - 0s 6ms/step - loss: 0.4430 - val_loss: 0.4398\n",
            "Epoch 8/50\n",
            "16/16 [==============================] - 0s 9ms/step - loss: 0.4376 - val_loss: 0.4290\n",
            "Epoch 9/50\n",
            "16/16 [==============================] - 0s 10ms/step - loss: 0.4339 - val_loss: 0.4227\n",
            "Epoch 10/50\n",
            "16/16 [==============================] - 0s 8ms/step - loss: 0.4319 - val_loss: 0.4214\n",
            "Epoch 11/50\n",
            "16/16 [==============================] - 0s 8ms/step - loss: 0.4292 - val_loss: 0.4242\n",
            "Epoch 12/50\n",
            "16/16 [==============================] - 0s 12ms/step - loss: 0.4263 - val_loss: 0.4156\n",
            "Epoch 13/50\n",
            "16/16 [==============================] - 0s 17ms/step - loss: 0.4230 - val_loss: 0.4145\n",
            "Epoch 14/50\n",
            "16/16 [==============================] - 0s 17ms/step - loss: 0.4219 - val_loss: 0.4100\n",
            "Epoch 15/50\n",
            "16/16 [==============================] - 0s 19ms/step - loss: 0.4204 - val_loss: 0.4104\n",
            "Epoch 16/50\n",
            "16/16 [==============================] - 0s 12ms/step - loss: 0.4182 - val_loss: 0.4082\n",
            "Epoch 17/50\n",
            "16/16 [==============================] - 0s 8ms/step - loss: 0.4134 - val_loss: 0.4064\n",
            "Epoch 18/50\n",
            "16/16 [==============================] - 0s 9ms/step - loss: 0.4153 - val_loss: 0.4055\n",
            "Epoch 19/50\n",
            "16/16 [==============================] - 0s 9ms/step - loss: 0.4107 - val_loss: 0.4103\n",
            "Epoch 20/50\n",
            "16/16 [==============================] - 0s 8ms/step - loss: 0.4091 - val_loss: 0.4033\n",
            "Epoch 21/50\n",
            "16/16 [==============================] - 0s 7ms/step - loss: 0.4107 - val_loss: 0.4012\n",
            "Epoch 22/50\n",
            "16/16 [==============================] - 0s 8ms/step - loss: 0.4112 - val_loss: 0.4105\n",
            "Epoch 23/50\n",
            "16/16 [==============================] - 0s 8ms/step - loss: 0.4070 - val_loss: 0.3997\n",
            "Epoch 24/50\n",
            "16/16 [==============================] - 0s 8ms/step - loss: 0.4073 - val_loss: 0.4005\n",
            "Epoch 25/50\n",
            "16/16 [==============================] - 0s 8ms/step - loss: 0.4017 - val_loss: 0.3992\n",
            "Epoch 26/50\n",
            "16/16 [==============================] - 0s 5ms/step - loss: 0.4030 - val_loss: 0.3969\n",
            "Epoch 27/50\n",
            "16/16 [==============================] - 0s 5ms/step - loss: 0.4008 - val_loss: 0.4052\n",
            "Epoch 28/50\n",
            "16/16 [==============================] - 0s 6ms/step - loss: 0.3979 - val_loss: 0.4012\n",
            "Epoch 29/50\n",
            "16/16 [==============================] - 0s 6ms/step - loss: 0.3979 - val_loss: 0.4027\n",
            "Epoch 30/50\n",
            "16/16 [==============================] - 0s 5ms/step - loss: 0.3970 - val_loss: 0.3956\n",
            "Epoch 31/50\n",
            "16/16 [==============================] - 0s 5ms/step - loss: 0.4001 - val_loss: 0.3983\n",
            "Epoch 32/50\n",
            "16/16 [==============================] - 0s 5ms/step - loss: 0.3980 - val_loss: 0.3964\n",
            "Epoch 33/50\n",
            "16/16 [==============================] - 0s 5ms/step - loss: 0.3943 - val_loss: 0.3931\n",
            "Epoch 34/50\n",
            "16/16 [==============================] - 0s 6ms/step - loss: 0.3958 - val_loss: 0.3979\n",
            "Epoch 35/50\n",
            "16/16 [==============================] - 0s 6ms/step - loss: 0.3911 - val_loss: 0.3955\n",
            "Epoch 36/50\n",
            "16/16 [==============================] - 0s 5ms/step - loss: 0.3930 - val_loss: 0.4029\n",
            "Epoch 37/50\n",
            "16/16 [==============================] - 0s 6ms/step - loss: 0.3912 - val_loss: 0.3923\n",
            "Epoch 38/50\n",
            "16/16 [==============================] - 0s 6ms/step - loss: 0.3910 - val_loss: 0.3951\n",
            "Epoch 39/50\n",
            "16/16 [==============================] - 0s 7ms/step - loss: 0.3920 - val_loss: 0.3940\n",
            "Epoch 40/50\n",
            "16/16 [==============================] - 0s 5ms/step - loss: 0.3876 - val_loss: 0.3971\n",
            "Epoch 41/50\n",
            "16/16 [==============================] - 0s 5ms/step - loss: 0.3874 - val_loss: 0.3920\n",
            "Epoch 42/50\n",
            "16/16 [==============================] - 0s 5ms/step - loss: 0.3874 - val_loss: 0.3931\n",
            "Epoch 43/50\n",
            "16/16 [==============================] - 0s 4ms/step - loss: 0.3866 - val_loss: 0.3993\n",
            "Epoch 44/50\n",
            "16/16 [==============================] - 0s 6ms/step - loss: 0.3847 - val_loss: 0.3939\n",
            "Epoch 45/50\n",
            "16/16 [==============================] - 0s 5ms/step - loss: 0.3833 - val_loss: 0.3924\n",
            "Epoch 46/50\n",
            "16/16 [==============================] - 0s 6ms/step - loss: 0.3818 - val_loss: 0.3963\n",
            "Epoch 47/50\n",
            "16/16 [==============================] - 0s 5ms/step - loss: 0.3869 - val_loss: 0.4023\n",
            "Epoch 48/50\n",
            "16/16 [==============================] - 0s 5ms/step - loss: 0.3825 - val_loss: 0.3900\n",
            "Epoch 49/50\n",
            "16/16 [==============================] - 0s 6ms/step - loss: 0.3866 - val_loss: 0.4044\n",
            "Epoch 50/50\n",
            "16/16 [==============================] - 0s 6ms/step - loss: 0.3841 - val_loss: 0.3881\n"
          ]
        }
      ]
    },
    {
      "cell_type": "code",
      "source": [
        "dl_history_plot(history)"
      ],
      "metadata": {
        "id": "PTzZV-_DwCY3",
        "colab": {
          "base_uri": "https://localhost:8080/",
          "height": 542
        },
        "outputId": "4c938e86-4158-4707-cab3-6c73e61f1f12"
      },
      "execution_count": null,
      "outputs": [
        {
          "output_type": "display_data",
          "data": {
            "text/plain": [
              "<Figure size 1000x600 with 1 Axes>"
            ],
            "image/png": "[encoded data removed]"
          },
          "metadata": {}
        }
      ]
    },
    {
      "cell_type": "code",
      "source": [
        "pred4 = model4.predict(x_val)\n",
        "pred4 = np.where(pred4 >= 0.5, 1, 0)\n",
        "print(classification_report(y_val, pred4))"
      ],
      "metadata": {
        "colab": {
          "base_uri": "https://localhost:8080/"
        },
        "id": "i3q7GxJvsgT4",
        "outputId": "936e0375-eae0-41fb-e616-7990e82e5336"
      },
      "execution_count": null,
      "outputs": [
        {
          "output_type": "stream",
          "name": "stdout",
          "text": [
            "9/9 [==============================] - 0s 3ms/step\n",
            "              precision    recall  f1-score   support\n",
            "\n",
            "           0       0.79      0.91      0.85       170\n",
            "           1       0.78      0.59      0.67        98\n",
            "\n",
            "    accuracy                           0.79       268\n",
            "   macro avg       0.79      0.75      0.76       268\n",
            "weighted avg       0.79      0.79      0.78       268\n",
            "\n"
          ]
        }
      ]
    },
    {
      "cell_type": "markdown",
      "source": [
        "### (4) 실습2"
      ],
      "metadata": {
        "id": "6vx5D3lewBR8"
      }
    },
    {
      "cell_type": "markdown",
      "source": [
        "* 다음의 summary를 보고 모델을 설계하시오.\n",
        "\n",
        "| Layer (type) | Output Shape |  옵션 |\n",
        "| ---- | ---- | ---- |\n",
        "| dense (Dense) | (None, 16) |  node, input_shape, activation = 'relu' |\n",
        "| dense_1 (Dense) | (None, 8) |  node, activation = 'relu'  |\n",
        "| dense_2 (Dense) | (None, 1) |  node, activation = 'sigmoid'  |"
      ],
      "metadata": {
        "id": "ziu8sULAwBR9"
      }
    },
    {
      "cell_type": "code",
      "source": [
        "nfeatures = x_train.shape[1]\n",
        "nfeatures"
      ],
      "metadata": {
        "id": "amoQ7ZWuwBR9",
        "colab": {
          "base_uri": "https://localhost:8080/"
        },
        "outputId": "db63493c-bbf9-4424-bca7-5c855379c259"
      },
      "execution_count": null,
      "outputs": [
        {
          "output_type": "execute_result",
          "data": {
            "text/plain": [
              "8"
            ]
          },
          "metadata": {},
          "execution_count": 56
        }
      ]
    },
    {
      "cell_type": "code",
      "source": [
        "#메모리 정리\n",
        "clear_session()\n",
        "\n",
        "#모델\n",
        "model5 = Sequential([Dense(16, input_shape = (nfeatures,), activation = 'relu'),\n",
        "                    Dense(8, activation = 'relu'),\n",
        "                    Dense(1, activation = 'sigmoid')]\n",
        "                   )\n",
        "\n",
        "#모델 요약\n",
        "model5.summary()"
      ],
      "metadata": {
        "id": "CvZp_H7ew6UW",
        "colab": {
          "base_uri": "https://localhost:8080/"
        },
        "outputId": "a349e3ea-1909-4bcc-b93c-d2d95a0d285c"
      },
      "execution_count": null,
      "outputs": [
        {
          "output_type": "stream",
          "name": "stdout",
          "text": [
            "Model: \"sequential\"\n",
            "_________________________________________________________________\n",
            " Layer (type)                Output Shape              Param #   \n",
            "=================================================================\n",
            " dense (Dense)               (None, 16)                144       \n",
            "                                                                 \n",
            " dense_1 (Dense)             (None, 8)                 136       \n",
            "                                                                 \n",
            " dense_2 (Dense)             (None, 1)                 9         \n",
            "                                                                 \n",
            "=================================================================\n",
            "Total params: 289 (1.13 KB)\n",
            "Trainable params: 289 (1.13 KB)\n",
            "Non-trainable params: 0 (0.00 Byte)\n",
            "_________________________________________________________________\n"
          ]
        }
      ]
    },
    {
      "cell_type": "code",
      "source": [
        "model5.compile(optimizer = Adam(learning_rate=0.01), loss = 'binary_crossentropy')\n",
        "history = model5.fit(x_train, y_train, epochs = 50, validation_split = 0.2).history"
      ],
      "metadata": {
        "id": "mmEb6I1Xw6UX",
        "colab": {
          "base_uri": "https://localhost:8080/"
        },
        "outputId": "f30895a4-3d3b-4b68-b440-ba9184b39712"
      },
      "execution_count": null,
      "outputs": [
        {
          "output_type": "stream",
          "name": "stdout",
          "text": [
            "Epoch 1/50\n",
            "16/16 [==============================] - 1s 17ms/step - loss: 0.6772 - val_loss: 0.6540\n",
            "Epoch 2/50\n",
            "16/16 [==============================] - 0s 4ms/step - loss: 0.6087 - val_loss: 0.5398\n",
            "Epoch 3/50\n",
            "16/16 [==============================] - 0s 6ms/step - loss: 0.5011 - val_loss: 0.4548\n",
            "Epoch 4/50\n",
            "16/16 [==============================] - 0s 5ms/step - loss: 0.4526 - val_loss: 0.4480\n",
            "Epoch 5/50\n",
            "16/16 [==============================] - 0s 5ms/step - loss: 0.4436 - val_loss: 0.4325\n",
            "Epoch 6/50\n",
            "16/16 [==============================] - 0s 4ms/step - loss: 0.4381 - val_loss: 0.4294\n",
            "Epoch 7/50\n",
            "16/16 [==============================] - 0s 5ms/step - loss: 0.4362 - val_loss: 0.4256\n",
            "Epoch 8/50\n",
            "16/16 [==============================] - 0s 6ms/step - loss: 0.4339 - val_loss: 0.4210\n",
            "Epoch 9/50\n",
            "16/16 [==============================] - 0s 4ms/step - loss: 0.4283 - val_loss: 0.4159\n",
            "Epoch 10/50\n",
            "16/16 [==============================] - 0s 5ms/step - loss: 0.4243 - val_loss: 0.4180\n",
            "Epoch 11/50\n",
            "16/16 [==============================] - 0s 4ms/step - loss: 0.4232 - val_loss: 0.4131\n",
            "Epoch 12/50\n",
            "16/16 [==============================] - 0s 5ms/step - loss: 0.4225 - val_loss: 0.4193\n",
            "Epoch 13/50\n",
            "16/16 [==============================] - 0s 4ms/step - loss: 0.4236 - val_loss: 0.4127\n",
            "Epoch 14/50\n",
            "16/16 [==============================] - 0s 6ms/step - loss: 0.4161 - val_loss: 0.4093\n",
            "Epoch 15/50\n",
            "16/16 [==============================] - 0s 5ms/step - loss: 0.4144 - val_loss: 0.4037\n",
            "Epoch 16/50\n",
            "16/16 [==============================] - 0s 4ms/step - loss: 0.4104 - val_loss: 0.4095\n",
            "Epoch 17/50\n",
            "16/16 [==============================] - 0s 7ms/step - loss: 0.4126 - val_loss: 0.4031\n",
            "Epoch 18/50\n",
            "16/16 [==============================] - 0s 9ms/step - loss: 0.4074 - val_loss: 0.4140\n",
            "Epoch 19/50\n",
            "16/16 [==============================] - 0s 4ms/step - loss: 0.4092 - val_loss: 0.4032\n",
            "Epoch 20/50\n",
            "16/16 [==============================] - 0s 5ms/step - loss: 0.4038 - val_loss: 0.3984\n",
            "Epoch 21/50\n",
            "16/16 [==============================] - 0s 5ms/step - loss: 0.4026 - val_loss: 0.4045\n",
            "Epoch 22/50\n",
            "16/16 [==============================] - 0s 8ms/step - loss: 0.4050 - val_loss: 0.4108\n",
            "Epoch 23/50\n",
            "16/16 [==============================] - 0s 8ms/step - loss: 0.4046 - val_loss: 0.4049\n",
            "Epoch 24/50\n",
            "16/16 [==============================] - 0s 13ms/step - loss: 0.4027 - val_loss: 0.4205\n",
            "Epoch 25/50\n",
            "16/16 [==============================] - 0s 6ms/step - loss: 0.4008 - val_loss: 0.4066\n",
            "Epoch 26/50\n",
            "16/16 [==============================] - 0s 7ms/step - loss: 0.4019 - val_loss: 0.4001\n",
            "Epoch 27/50\n",
            "16/16 [==============================] - 0s 7ms/step - loss: 0.3972 - val_loss: 0.4035\n",
            "Epoch 28/50\n",
            "16/16 [==============================] - 0s 7ms/step - loss: 0.3940 - val_loss: 0.4055\n",
            "Epoch 29/50\n",
            "16/16 [==============================] - 0s 10ms/step - loss: 0.3967 - val_loss: 0.4102\n",
            "Epoch 30/50\n",
            "16/16 [==============================] - 0s 8ms/step - loss: 0.3959 - val_loss: 0.4043\n",
            "Epoch 31/50\n",
            "16/16 [==============================] - 0s 18ms/step - loss: 0.4001 - val_loss: 0.4245\n",
            "Epoch 32/50\n",
            "16/16 [==============================] - 0s 12ms/step - loss: 0.4005 - val_loss: 0.4166\n",
            "Epoch 33/50\n",
            "16/16 [==============================] - 0s 13ms/step - loss: 0.3986 - val_loss: 0.3985\n",
            "Epoch 34/50\n",
            "16/16 [==============================] - 0s 15ms/step - loss: 0.3945 - val_loss: 0.4040\n",
            "Epoch 35/50\n",
            "16/16 [==============================] - 0s 13ms/step - loss: 0.3900 - val_loss: 0.3984\n",
            "Epoch 36/50\n",
            "16/16 [==============================] - 0s 17ms/step - loss: 0.3904 - val_loss: 0.3988\n",
            "Epoch 37/50\n",
            "16/16 [==============================] - 0s 12ms/step - loss: 0.3871 - val_loss: 0.3966\n",
            "Epoch 38/50\n",
            "16/16 [==============================] - 0s 11ms/step - loss: 0.3848 - val_loss: 0.4005\n",
            "Epoch 39/50\n",
            "16/16 [==============================] - 0s 15ms/step - loss: 0.3881 - val_loss: 0.3973\n",
            "Epoch 40/50\n",
            "16/16 [==============================] - 0s 18ms/step - loss: 0.3884 - val_loss: 0.4041\n",
            "Epoch 41/50\n",
            "16/16 [==============================] - 0s 8ms/step - loss: 0.3836 - val_loss: 0.4028\n",
            "Epoch 42/50\n",
            "16/16 [==============================] - 0s 9ms/step - loss: 0.3815 - val_loss: 0.3957\n",
            "Epoch 43/50\n",
            "16/16 [==============================] - 0s 7ms/step - loss: 0.3867 - val_loss: 0.3983\n",
            "Epoch 44/50\n",
            "16/16 [==============================] - 0s 8ms/step - loss: 0.3818 - val_loss: 0.3970\n",
            "Epoch 45/50\n",
            "16/16 [==============================] - 0s 7ms/step - loss: 0.3807 - val_loss: 0.3915\n",
            "Epoch 46/50\n",
            "16/16 [==============================] - 0s 8ms/step - loss: 0.3809 - val_loss: 0.4068\n",
            "Epoch 47/50\n",
            "16/16 [==============================] - 0s 7ms/step - loss: 0.3837 - val_loss: 0.3983\n",
            "Epoch 48/50\n",
            "16/16 [==============================] - 0s 8ms/step - loss: 0.3780 - val_loss: 0.4009\n",
            "Epoch 49/50\n",
            "16/16 [==============================] - 0s 7ms/step - loss: 0.3791 - val_loss: 0.3979\n",
            "Epoch 50/50\n",
            "16/16 [==============================] - 0s 8ms/step - loss: 0.3766 - val_loss: 0.3993\n"
          ]
        }
      ]
    },
    {
      "cell_type": "code",
      "source": [
        "dl_history_plot(history)"
      ],
      "metadata": {
        "id": "fnV1biM0w6UX",
        "colab": {
          "base_uri": "https://localhost:8080/",
          "height": 542
        },
        "outputId": "ebc1e66f-cd10-4ee7-d7ec-067d0b0f29e8"
      },
      "execution_count": null,
      "outputs": [
        {
          "output_type": "display_data",
          "data": {
            "text/plain": [
              "<Figure size 1000x600 with 1 Axes>"
            ],
            "image/png": "[encoded data removed]"
          },
          "metadata": {}
        }
      ]
    },
    {
      "cell_type": "code",
      "source": [
        "pred5 = model5.predict(x_val)\n",
        "pred5 = np.where(pred5 >= 0.5, 1,0)\n",
        "print(classification_report(y_val,pred5))"
      ],
      "metadata": {
        "colab": {
          "base_uri": "https://localhost:8080/"
        },
        "id": "9p2VByUwtvCy",
        "outputId": "e2eebb64-cc8a-4025-a31c-29e8d0f3d605"
      },
      "execution_count": null,
      "outputs": [
        {
          "output_type": "stream",
          "name": "stdout",
          "text": [
            "9/9 [==============================] - 0s 5ms/step\n",
            "              precision    recall  f1-score   support\n",
            "\n",
            "           0       0.81      0.89      0.85       170\n",
            "           1       0.77      0.63      0.69        98\n",
            "\n",
            "    accuracy                           0.79       268\n",
            "   macro avg       0.79      0.76      0.77       268\n",
            "weighted avg       0.79      0.79      0.79       268\n",
            "\n"
          ]
        }
      ]
    },
    {
      "cell_type": "markdown",
      "source": [
        "### (5) 실습3"
      ],
      "metadata": {
        "id": "YC5zRh2BxHgb"
      }
    },
    {
      "cell_type": "markdown",
      "source": [
        "* 이번에는 여러분이 원하는 대로 설계하고, 학습해 봅시다.\n"
      ],
      "metadata": {
        "id": "9RFDZgfMxHgb"
      }
    },
    {
      "cell_type": "code",
      "source": [
        "nfeatures = x_train.shape[1]\n",
        "nfeatures"
      ],
      "metadata": {
        "colab": {
          "base_uri": "https://localhost:8080/"
        },
        "outputId": "372df514-7b45-42a5-8cb4-28b533102184",
        "id": "d07hxoNvub25"
      },
      "execution_count": null,
      "outputs": [
        {
          "output_type": "execute_result",
          "data": {
            "text/plain": [
              "8"
            ]
          },
          "metadata": {},
          "execution_count": 63
        }
      ]
    },
    {
      "cell_type": "code",
      "source": [
        "#메모리 정리\n",
        "clear_session()\n",
        "\n",
        "#모델\n",
        "model6 = Sequential([Dense(4, input_shape = (nfeatures,), activation = 'relu'),\n",
        "                    Dense(2, activation = 'relu'),\n",
        "                    Dense(1, activation = 'sigmoid')]\n",
        "                   )\n",
        "\n",
        "#모델 요약\n",
        "model6.summary()"
      ],
      "metadata": {
        "colab": {
          "base_uri": "https://localhost:8080/"
        },
        "outputId": "84a93cce-e3a7-4fb6-b234-fc15c2587416",
        "id": "5X1i1OhZub26"
      },
      "execution_count": null,
      "outputs": [
        {
          "output_type": "stream",
          "name": "stdout",
          "text": [
            "Model: \"sequential\"\n",
            "_________________________________________________________________\n",
            " Layer (type)                Output Shape              Param #   \n",
            "=================================================================\n",
            " dense (Dense)               (None, 4)                 36        \n",
            "                                                                 \n",
            " dense_1 (Dense)             (None, 2)                 10        \n",
            "                                                                 \n",
            " dense_2 (Dense)             (None, 1)                 3         \n",
            "                                                                 \n",
            "=================================================================\n",
            "Total params: 49 (196.00 Byte)\n",
            "Trainable params: 49 (196.00 Byte)\n",
            "Non-trainable params: 0 (0.00 Byte)\n",
            "_________________________________________________________________\n"
          ]
        }
      ]
    },
    {
      "cell_type": "code",
      "source": [
        "model6.compile(optimizer = Adam(learning_rate=0.01), loss = 'binary_crossentropy')\n",
        "history = model6.fit(x_train, y_train, epochs = 50, validation_split = 0.2).history"
      ],
      "metadata": {
        "colab": {
          "base_uri": "https://localhost:8080/"
        },
        "outputId": "4b84f1e4-b375-4e6b-fe1a-bffdb3d82aab",
        "id": "4skJFFL_ub26"
      },
      "execution_count": null,
      "outputs": [
        {
          "output_type": "stream",
          "name": "stdout",
          "text": [
            "Epoch 1/50\n",
            "16/16 [==============================] - 3s 84ms/step - loss: 0.6029 - val_loss: 0.5889\n",
            "Epoch 2/50\n",
            "16/16 [==============================] - 0s 12ms/step - loss: 0.5825 - val_loss: 0.5720\n",
            "Epoch 3/50\n",
            "16/16 [==============================] - 0s 17ms/step - loss: 0.5683 - val_loss: 0.5585\n",
            "Epoch 4/50\n",
            "16/16 [==============================] - 0s 14ms/step - loss: 0.5541 - val_loss: 0.5391\n",
            "Epoch 5/50\n",
            "16/16 [==============================] - 0s 14ms/step - loss: 0.5339 - val_loss: 0.5186\n",
            "Epoch 6/50\n",
            "16/16 [==============================] - 0s 14ms/step - loss: 0.5144 - val_loss: 0.5020\n",
            "Epoch 7/50\n",
            "16/16 [==============================] - 0s 10ms/step - loss: 0.5005 - val_loss: 0.4868\n",
            "Epoch 8/50\n",
            "16/16 [==============================] - 0s 15ms/step - loss: 0.4864 - val_loss: 0.4773\n",
            "Epoch 9/50\n",
            "16/16 [==============================] - 0s 17ms/step - loss: 0.4789 - val_loss: 0.4653\n",
            "Epoch 10/50\n",
            "16/16 [==============================] - 0s 10ms/step - loss: 0.4675 - val_loss: 0.4586\n",
            "Epoch 11/50\n",
            "16/16 [==============================] - 0s 13ms/step - loss: 0.4606 - val_loss: 0.4514\n",
            "Epoch 12/50\n",
            "16/16 [==============================] - 0s 9ms/step - loss: 0.4570 - val_loss: 0.4454\n",
            "Epoch 13/50\n",
            "16/16 [==============================] - 0s 8ms/step - loss: 0.4573 - val_loss: 0.4477\n",
            "Epoch 14/50\n",
            "16/16 [==============================] - 0s 8ms/step - loss: 0.4487 - val_loss: 0.4348\n",
            "Epoch 15/50\n",
            "16/16 [==============================] - 0s 8ms/step - loss: 0.4426 - val_loss: 0.4345\n",
            "Epoch 16/50\n",
            "16/16 [==============================] - 0s 9ms/step - loss: 0.4386 - val_loss: 0.4309\n",
            "Epoch 17/50\n",
            "16/16 [==============================] - 0s 7ms/step - loss: 0.4399 - val_loss: 0.4308\n",
            "Epoch 18/50\n",
            "16/16 [==============================] - 0s 7ms/step - loss: 0.4372 - val_loss: 0.4260\n",
            "Epoch 19/50\n",
            "16/16 [==============================] - 0s 8ms/step - loss: 0.4291 - val_loss: 0.4221\n",
            "Epoch 20/50\n",
            "16/16 [==============================] - 0s 8ms/step - loss: 0.4275 - val_loss: 0.4214\n",
            "Epoch 21/50\n",
            "16/16 [==============================] - 0s 7ms/step - loss: 0.4255 - val_loss: 0.4145\n",
            "Epoch 22/50\n",
            "16/16 [==============================] - 0s 9ms/step - loss: 0.4227 - val_loss: 0.4175\n",
            "Epoch 23/50\n",
            "16/16 [==============================] - 0s 4ms/step - loss: 0.4198 - val_loss: 0.4175\n",
            "Epoch 24/50\n",
            "16/16 [==============================] - 0s 5ms/step - loss: 0.4227 - val_loss: 0.4181\n",
            "Epoch 25/50\n",
            "16/16 [==============================] - 0s 5ms/step - loss: 0.4168 - val_loss: 0.4115\n",
            "Epoch 26/50\n",
            "16/16 [==============================] - 0s 5ms/step - loss: 0.4171 - val_loss: 0.4088\n",
            "Epoch 27/50\n",
            "16/16 [==============================] - 0s 5ms/step - loss: 0.4282 - val_loss: 0.4210\n",
            "Epoch 28/50\n",
            "16/16 [==============================] - 0s 5ms/step - loss: 0.4223 - val_loss: 0.4105\n",
            "Epoch 29/50\n",
            "16/16 [==============================] - 0s 6ms/step - loss: 0.4102 - val_loss: 0.4143\n",
            "Epoch 30/50\n",
            "16/16 [==============================] - 0s 5ms/step - loss: 0.4132 - val_loss: 0.4103\n",
            "Epoch 31/50\n",
            "16/16 [==============================] - 0s 6ms/step - loss: 0.4123 - val_loss: 0.4105\n",
            "Epoch 32/50\n",
            "16/16 [==============================] - 0s 5ms/step - loss: 0.4112 - val_loss: 0.4039\n",
            "Epoch 33/50\n",
            "16/16 [==============================] - 0s 5ms/step - loss: 0.4082 - val_loss: 0.4037\n",
            "Epoch 34/50\n",
            "16/16 [==============================] - 0s 5ms/step - loss: 0.4088 - val_loss: 0.4089\n",
            "Epoch 35/50\n",
            "16/16 [==============================] - 0s 5ms/step - loss: 0.4065 - val_loss: 0.4022\n",
            "Epoch 36/50\n",
            "16/16 [==============================] - 0s 5ms/step - loss: 0.4087 - val_loss: 0.4029\n",
            "Epoch 37/50\n",
            "16/16 [==============================] - 0s 5ms/step - loss: 0.4109 - val_loss: 0.4047\n",
            "Epoch 38/50\n",
            "16/16 [==============================] - 0s 6ms/step - loss: 0.4084 - val_loss: 0.4016\n",
            "Epoch 39/50\n",
            "16/16 [==============================] - 0s 5ms/step - loss: 0.4022 - val_loss: 0.3983\n",
            "Epoch 40/50\n",
            "16/16 [==============================] - 0s 5ms/step - loss: 0.4048 - val_loss: 0.3997\n",
            "Epoch 41/50\n",
            "16/16 [==============================] - 0s 6ms/step - loss: 0.4041 - val_loss: 0.4035\n",
            "Epoch 42/50\n",
            "16/16 [==============================] - 0s 5ms/step - loss: 0.4024 - val_loss: 0.3956\n",
            "Epoch 43/50\n",
            "16/16 [==============================] - 0s 4ms/step - loss: 0.4011 - val_loss: 0.4031\n",
            "Epoch 44/50\n",
            "16/16 [==============================] - 0s 5ms/step - loss: 0.3997 - val_loss: 0.3984\n",
            "Epoch 45/50\n",
            "16/16 [==============================] - 0s 6ms/step - loss: 0.4009 - val_loss: 0.3980\n",
            "Epoch 46/50\n",
            "16/16 [==============================] - 0s 4ms/step - loss: 0.4011 - val_loss: 0.4003\n",
            "Epoch 47/50\n",
            "16/16 [==============================] - 0s 5ms/step - loss: 0.4009 - val_loss: 0.4041\n",
            "Epoch 48/50\n",
            "16/16 [==============================] - 0s 5ms/step - loss: 0.4033 - val_loss: 0.3999\n",
            "Epoch 49/50\n",
            "16/16 [==============================] - 0s 5ms/step - loss: 0.3982 - val_loss: 0.4035\n",
            "Epoch 50/50\n",
            "16/16 [==============================] - 0s 5ms/step - loss: 0.3998 - val_loss: 0.3944\n"
          ]
        }
      ]
    },
    {
      "cell_type": "code",
      "source": [
        "dl_history_plot(history)"
      ],
      "metadata": {
        "colab": {
          "base_uri": "https://localhost:8080/",
          "height": 542
        },
        "outputId": "d71972cf-8cb0-454b-af36-aa8a3632f07a",
        "id": "MNtv9FiRub27"
      },
      "execution_count": null,
      "outputs": [
        {
          "output_type": "display_data",
          "data": {
            "text/plain": [
              "<Figure size 1000x600 with 1 Axes>"
            ],
            "image/png": "[encoded data removed]"
          },
          "metadata": {}
        }
      ]
    },
    {
      "cell_type": "code",
      "source": [
        "pred6 = model6.predict(x_val)\n",
        "pred6 = np.where(pred6 >= 0.5, 1,0)\n",
        "print(classification_report(y_val,pred6))"
      ],
      "metadata": {
        "colab": {
          "base_uri": "https://localhost:8080/"
        },
        "outputId": "6d93899c-0581-47c5-bdca-33f01169197a",
        "id": "eWC0fGXoub27"
      },
      "execution_count": null,
      "outputs": [
        {
          "output_type": "stream",
          "name": "stdout",
          "text": [
            "9/9 [==============================] - 0s 2ms/step\n",
            "              precision    recall  f1-score   support\n",
            "\n",
            "           0       0.81      0.90      0.85       170\n",
            "           1       0.78      0.62      0.69        98\n",
            "\n",
            "    accuracy                           0.80       268\n",
            "   macro avg       0.79      0.76      0.77       268\n",
            "weighted avg       0.80      0.80      0.79       268\n",
            "\n"
          ]
        }
      ]
    }
  ]
}