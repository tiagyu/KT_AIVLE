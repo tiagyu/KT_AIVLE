{
  "nbformat": 4,
  "nbformat_minor": 0,
  "metadata": {
    "colab": {
      "provenance": [],
      "gpuType": "T4"
    },
    "kernelspec": {
      "name": "python3",
      "display_name": "Python 3"
    },
    "accelerator": "GPU"
  },
  "cells": [
    {
      "cell_type": "markdown",
      "metadata": {
        "id": "cVB9pY-v8uv5"
      },
      "source": [
        "# 회귀_종합실습1_carseat"
      ]
    },
    {
      "cell_type": "markdown",
      "metadata": {
        "id": "BSFMLw3YI-gh"
      },
      "source": [
        "## 1.환경준비"
      ]
    },
    {
      "cell_type": "markdown",
      "source": [
        "### (1) 라이브러리 로딩"
      ],
      "metadata": {
        "id": "98K82DAxvX6I"
      }
    },
    {
      "cell_type": "code",
      "metadata": {
        "id": "g8Y5OJ-II-gu"
      },
      "source": [
        "import pandas as pd\n",
        "import numpy as np\n",
        "import matplotlib.pyplot as plt\n",
        "import seaborn as sns\n",
        "\n",
        "from sklearn.model_selection import train_test_split\n",
        "from sklearn.metrics import *\n",
        "from sklearn.preprocessing import MinMaxScaler\n",
        "\n",
        "from keras.models import Sequential\n",
        "from keras.layers import Dense\n",
        "from keras.backend import clear_session\n",
        "from keras.optimizers import Adam"
      ],
      "execution_count": 52,
      "outputs": []
    },
    {
      "cell_type": "markdown",
      "source": [
        "* 학습곡선 그래프 함수 만들기"
      ],
      "metadata": {
        "id": "wdhjxFBs1jck"
      }
    },
    {
      "cell_type": "code",
      "source": [
        "def dl_history_plot(history):\n",
        "    plt.figure(figsize=(10,6))\n",
        "    plt.plot(history['loss'], label='train_err', marker = '.')\n",
        "    plt.plot(history['val_loss'], label='val_err', marker = '.')\n",
        "\n",
        "    plt.ylabel('Loss')\n",
        "    plt.xlabel('Epoch')\n",
        "    plt.legend()\n",
        "    plt.grid()\n",
        "    plt.show()"
      ],
      "metadata": {
        "id": "td3NsznP1lka"
      },
      "execution_count": 53,
      "outputs": []
    },
    {
      "cell_type": "markdown",
      "source": [
        "### (2) 데이터로딩"
      ],
      "metadata": {
        "id": "6wuqykgvviCc"
      }
    },
    {
      "cell_type": "code",
      "metadata": {
        "id": "wbN2b33xcYvv",
        "colab": {
          "base_uri": "https://localhost:8080/",
          "height": 206
        },
        "outputId": "97e08c83-52ab-480b-bbeb-9032c4347a50"
      },
      "source": [
        "path = 'https://raw.githubusercontent.com/DA4BAM/dataset/master/Carseats.csv'\n",
        "data = pd.read_csv(path)\n",
        "data.head()"
      ],
      "execution_count": 54,
      "outputs": [
        {
          "output_type": "execute_result",
          "data": {
            "text/plain": [
              "   Sales  CompPrice  Income  Advertising  Population  Price ShelveLoc  Age  \\\n",
              "0   9.50        138      73           11         276    120       Bad   42   \n",
              "1  11.22        111      48           16         260     83      Good   65   \n",
              "2  10.06        113      35           10         269     80    Medium   59   \n",
              "3   7.40        117     100            4         466     97    Medium   55   \n",
              "4   4.15        141      64            3         340    128       Bad   38   \n",
              "\n",
              "   Education Urban   US  \n",
              "0         17   Yes  Yes  \n",
              "1         10   Yes  Yes  \n",
              "2         12   Yes  Yes  \n",
              "3         14   Yes  Yes  \n",
              "4         13   Yes   No  "
            ],
            "text/html": [
              "\n",
              "  <div id=\"df-672e2300-dd66-4944-81f3-bfd55fd1e2af\" class=\"colab-df-container\">\n",
              "    <div>\n",
              "<style scoped>\n",
              "    .dataframe tbody tr th:only-of-type {\n",
              "        vertical-align: middle;\n",
              "    }\n",
              "\n",
              "    .dataframe tbody tr th {\n",
              "        vertical-align: top;\n",
              "    }\n",
              "\n",
              "    .dataframe thead th {\n",
              "        text-align: right;\n",
              "    }\n",
              "</style>\n",
              "<table border=\"1\" class=\"dataframe\">\n",
              "  <thead>\n",
              "    <tr style=\"text-align: right;\">\n",
              "      <th></th>\n",
              "      <th>Sales</th>\n",
              "      <th>CompPrice</th>\n",
              "      <th>Income</th>\n",
              "      <th>Advertising</th>\n",
              "      <th>Population</th>\n",
              "      <th>Price</th>\n",
              "      <th>ShelveLoc</th>\n",
              "      <th>Age</th>\n",
              "      <th>Education</th>\n",
              "      <th>Urban</th>\n",
              "      <th>US</th>\n",
              "    </tr>\n",
              "  </thead>\n",
              "  <tbody>\n",
              "    <tr>\n",
              "      <th>0</th>\n",
              "      <td>9.50</td>\n",
              "      <td>138</td>\n",
              "      <td>73</td>\n",
              "      <td>11</td>\n",
              "      <td>276</td>\n",
              "      <td>120</td>\n",
              "      <td>Bad</td>\n",
              "      <td>42</td>\n",
              "      <td>17</td>\n",
              "      <td>Yes</td>\n",
              "      <td>Yes</td>\n",
              "    </tr>\n",
              "    <tr>\n",
              "      <th>1</th>\n",
              "      <td>11.22</td>\n",
              "      <td>111</td>\n",
              "      <td>48</td>\n",
              "      <td>16</td>\n",
              "      <td>260</td>\n",
              "      <td>83</td>\n",
              "      <td>Good</td>\n",
              "      <td>65</td>\n",
              "      <td>10</td>\n",
              "      <td>Yes</td>\n",
              "      <td>Yes</td>\n",
              "    </tr>\n",
              "    <tr>\n",
              "      <th>2</th>\n",
              "      <td>10.06</td>\n",
              "      <td>113</td>\n",
              "      <td>35</td>\n",
              "      <td>10</td>\n",
              "      <td>269</td>\n",
              "      <td>80</td>\n",
              "      <td>Medium</td>\n",
              "      <td>59</td>\n",
              "      <td>12</td>\n",
              "      <td>Yes</td>\n",
              "      <td>Yes</td>\n",
              "    </tr>\n",
              "    <tr>\n",
              "      <th>3</th>\n",
              "      <td>7.40</td>\n",
              "      <td>117</td>\n",
              "      <td>100</td>\n",
              "      <td>4</td>\n",
              "      <td>466</td>\n",
              "      <td>97</td>\n",
              "      <td>Medium</td>\n",
              "      <td>55</td>\n",
              "      <td>14</td>\n",
              "      <td>Yes</td>\n",
              "      <td>Yes</td>\n",
              "    </tr>\n",
              "    <tr>\n",
              "      <th>4</th>\n",
              "      <td>4.15</td>\n",
              "      <td>141</td>\n",
              "      <td>64</td>\n",
              "      <td>3</td>\n",
              "      <td>340</td>\n",
              "      <td>128</td>\n",
              "      <td>Bad</td>\n",
              "      <td>38</td>\n",
              "      <td>13</td>\n",
              "      <td>Yes</td>\n",
              "      <td>No</td>\n",
              "    </tr>\n",
              "  </tbody>\n",
              "</table>\n",
              "</div>\n",
              "    <div class=\"colab-df-buttons\">\n",
              "\n",
              "  <div class=\"colab-df-container\">\n",
              "    <button class=\"colab-df-convert\" onclick=\"convertToInteractive('df-672e2300-dd66-4944-81f3-bfd55fd1e2af')\"\n",
              "            title=\"Convert this dataframe to an interactive table.\"\n",
              "            style=\"display:none;\">\n",
              "\n",
              "  <svg xmlns=\"http://www.w3.org/2000/svg\" height=\"24px\" viewBox=\"0 -960 960 960\">\n",
              "    <path d=\"M120-120v-720h720v720H120Zm60-500h600v-160H180v160Zm220 220h160v-160H400v160Zm0 220h160v-160H400v160ZM180-400h160v-160H180v160Zm440 0h160v-160H620v160ZM180-180h160v-160H180v160Zm440 0h160v-160H620v160Z\"/>\n",
              "  </svg>\n",
              "    </button>\n",
              "\n",
              "  <style>\n",
              "    .colab-df-container {\n",
              "      display:flex;\n",
              "      gap: 12px;\n",
              "    }\n",
              "\n",
              "    .colab-df-convert {\n",
              "      background-color: #E8F0FE;\n",
              "      border: none;\n",
              "      border-radius: 50%;\n",
              "      cursor: pointer;\n",
              "      display: none;\n",
              "      fill: #1967D2;\n",
              "      height: 32px;\n",
              "      padding: 0 0 0 0;\n",
              "      width: 32px;\n",
              "    }\n",
              "\n",
              "    .colab-df-convert:hover {\n",
              "      background-color: #E2EBFA;\n",
              "      box-shadow: 0px 1px 2px rgba(60, 64, 67, 0.3), 0px 1px 3px 1px rgba(60, 64, 67, 0.15);\n",
              "      fill: #174EA6;\n",
              "    }\n",
              "\n",
              "    .colab-df-buttons div {\n",
              "      margin-bottom: 4px;\n",
              "    }\n",
              "\n",
              "    [theme=dark] .colab-df-convert {\n",
              "      background-color: #3B4455;\n",
              "      fill: #D2E3FC;\n",
              "    }\n",
              "\n",
              "    [theme=dark] .colab-df-convert:hover {\n",
              "      background-color: #434B5C;\n",
              "      box-shadow: 0px 1px 3px 1px rgba(0, 0, 0, 0.15);\n",
              "      filter: drop-shadow(0px 1px 2px rgba(0, 0, 0, 0.3));\n",
              "      fill: #FFFFFF;\n",
              "    }\n",
              "  </style>\n",
              "\n",
              "    <script>\n",
              "      const buttonEl =\n",
              "        document.querySelector('#df-672e2300-dd66-4944-81f3-bfd55fd1e2af button.colab-df-convert');\n",
              "      buttonEl.style.display =\n",
              "        google.colab.kernel.accessAllowed ? 'block' : 'none';\n",
              "\n",
              "      async function convertToInteractive(key) {\n",
              "        const element = document.querySelector('#df-672e2300-dd66-4944-81f3-bfd55fd1e2af');\n",
              "        const dataTable =\n",
              "          await google.colab.kernel.invokeFunction('convertToInteractive',\n",
              "                                                    [key], {});\n",
              "        if (!dataTable) return;\n",
              "\n",
              "        const docLinkHtml = 'Like what you see? Visit the ' +\n",
              "          '<a target=\"_blank\" href=https://colab.research.google.com/notebooks/data_table.ipynb>data table notebook</a>'\n",
              "          + ' to learn more about interactive tables.';\n",
              "        element.innerHTML = '';\n",
              "        dataTable['output_type'] = 'display_data';\n",
              "        await google.colab.output.renderOutput(dataTable, element);\n",
              "        const docLink = document.createElement('div');\n",
              "        docLink.innerHTML = docLinkHtml;\n",
              "        element.appendChild(docLink);\n",
              "      }\n",
              "    </script>\n",
              "  </div>\n",
              "\n",
              "\n",
              "<div id=\"df-2d276756-1c2e-459a-96c5-67efe0e244fb\">\n",
              "  <button class=\"colab-df-quickchart\" onclick=\"quickchart('df-2d276756-1c2e-459a-96c5-67efe0e244fb')\"\n",
              "            title=\"Suggest charts\"\n",
              "            style=\"display:none;\">\n",
              "\n",
              "<svg xmlns=\"http://www.w3.org/2000/svg\" height=\"24px\"viewBox=\"0 0 24 24\"\n",
              "     width=\"24px\">\n",
              "    <g>\n",
              "        <path d=\"M19 3H5c-1.1 0-2 .9-2 2v14c0 1.1.9 2 2 2h14c1.1 0 2-.9 2-2V5c0-1.1-.9-2-2-2zM9 17H7v-7h2v7zm4 0h-2V7h2v10zm4 0h-2v-4h2v4z\"/>\n",
              "    </g>\n",
              "</svg>\n",
              "  </button>\n",
              "\n",
              "<style>\n",
              "  .colab-df-quickchart {\n",
              "      --bg-color: #E8F0FE;\n",
              "      --fill-color: #1967D2;\n",
              "      --hover-bg-color: #E2EBFA;\n",
              "      --hover-fill-color: #174EA6;\n",
              "      --disabled-fill-color: #AAA;\n",
              "      --disabled-bg-color: #DDD;\n",
              "  }\n",
              "\n",
              "  [theme=dark] .colab-df-quickchart {\n",
              "      --bg-color: #3B4455;\n",
              "      --fill-color: #D2E3FC;\n",
              "      --hover-bg-color: #434B5C;\n",
              "      --hover-fill-color: #FFFFFF;\n",
              "      --disabled-bg-color: #3B4455;\n",
              "      --disabled-fill-color: #666;\n",
              "  }\n",
              "\n",
              "  .colab-df-quickchart {\n",
              "    background-color: var(--bg-color);\n",
              "    border: none;\n",
              "    border-radius: 50%;\n",
              "    cursor: pointer;\n",
              "    display: none;\n",
              "    fill: var(--fill-color);\n",
              "    height: 32px;\n",
              "    padding: 0;\n",
              "    width: 32px;\n",
              "  }\n",
              "\n",
              "  .colab-df-quickchart:hover {\n",
              "    background-color: var(--hover-bg-color);\n",
              "    box-shadow: 0 1px 2px rgba(60, 64, 67, 0.3), 0 1px 3px 1px rgba(60, 64, 67, 0.15);\n",
              "    fill: var(--button-hover-fill-color);\n",
              "  }\n",
              "\n",
              "  .colab-df-quickchart-complete:disabled,\n",
              "  .colab-df-quickchart-complete:disabled:hover {\n",
              "    background-color: var(--disabled-bg-color);\n",
              "    fill: var(--disabled-fill-color);\n",
              "    box-shadow: none;\n",
              "  }\n",
              "\n",
              "  .colab-df-spinner {\n",
              "    border: 2px solid var(--fill-color);\n",
              "    border-color: transparent;\n",
              "    border-bottom-color: var(--fill-color);\n",
              "    animation:\n",
              "      spin 1s steps(1) infinite;\n",
              "  }\n",
              "\n",
              "  @keyframes spin {\n",
              "    0% {\n",
              "      border-color: transparent;\n",
              "      border-bottom-color: var(--fill-color);\n",
              "      border-left-color: var(--fill-color);\n",
              "    }\n",
              "    20% {\n",
              "      border-color: transparent;\n",
              "      border-left-color: var(--fill-color);\n",
              "      border-top-color: var(--fill-color);\n",
              "    }\n",
              "    30% {\n",
              "      border-color: transparent;\n",
              "      border-left-color: var(--fill-color);\n",
              "      border-top-color: var(--fill-color);\n",
              "      border-right-color: var(--fill-color);\n",
              "    }\n",
              "    40% {\n",
              "      border-color: transparent;\n",
              "      border-right-color: var(--fill-color);\n",
              "      border-top-color: var(--fill-color);\n",
              "    }\n",
              "    60% {\n",
              "      border-color: transparent;\n",
              "      border-right-color: var(--fill-color);\n",
              "    }\n",
              "    80% {\n",
              "      border-color: transparent;\n",
              "      border-right-color: var(--fill-color);\n",
              "      border-bottom-color: var(--fill-color);\n",
              "    }\n",
              "    90% {\n",
              "      border-color: transparent;\n",
              "      border-bottom-color: var(--fill-color);\n",
              "    }\n",
              "  }\n",
              "</style>\n",
              "\n",
              "  <script>\n",
              "    async function quickchart(key) {\n",
              "      const quickchartButtonEl =\n",
              "        document.querySelector('#' + key + ' button');\n",
              "      quickchartButtonEl.disabled = true;  // To prevent multiple clicks.\n",
              "      quickchartButtonEl.classList.add('colab-df-spinner');\n",
              "      try {\n",
              "        const charts = await google.colab.kernel.invokeFunction(\n",
              "            'suggestCharts', [key], {});\n",
              "      } catch (error) {\n",
              "        console.error('Error during call to suggestCharts:', error);\n",
              "      }\n",
              "      quickchartButtonEl.classList.remove('colab-df-spinner');\n",
              "      quickchartButtonEl.classList.add('colab-df-quickchart-complete');\n",
              "    }\n",
              "    (() => {\n",
              "      let quickchartButtonEl =\n",
              "        document.querySelector('#df-2d276756-1c2e-459a-96c5-67efe0e244fb button');\n",
              "      quickchartButtonEl.style.display =\n",
              "        google.colab.kernel.accessAllowed ? 'block' : 'none';\n",
              "    })();\n",
              "  </script>\n",
              "</div>\n",
              "\n",
              "    </div>\n",
              "  </div>\n"
            ],
            "application/vnd.google.colaboratory.intrinsic+json": {
              "type": "dataframe",
              "variable_name": "data",
              "summary": "{\n  \"name\": \"data\",\n  \"rows\": 400,\n  \"fields\": [\n    {\n      \"column\": \"Sales\",\n      \"properties\": {\n        \"dtype\": \"number\",\n        \"std\": 2.824115048806837,\n        \"min\": 0.0,\n        \"max\": 16.27,\n        \"num_unique_values\": 336,\n        \"samples\": [\n          8.55,\n          7.57,\n          5.99\n        ],\n        \"semantic_type\": \"\",\n        \"description\": \"\"\n      }\n    },\n    {\n      \"column\": \"CompPrice\",\n      \"properties\": {\n        \"dtype\": \"number\",\n        \"std\": 15,\n        \"min\": 77,\n        \"max\": 175,\n        \"num_unique_values\": 73,\n        \"samples\": [\n          141,\n          120,\n          134\n        ],\n        \"semantic_type\": \"\",\n        \"description\": \"\"\n      }\n    },\n    {\n      \"column\": \"Income\",\n      \"properties\": {\n        \"dtype\": \"number\",\n        \"std\": 27,\n        \"min\": 21,\n        \"max\": 120,\n        \"num_unique_values\": 98,\n        \"samples\": [\n          30,\n          103,\n          55\n        ],\n        \"semantic_type\": \"\",\n        \"description\": \"\"\n      }\n    },\n    {\n      \"column\": \"Advertising\",\n      \"properties\": {\n        \"dtype\": \"number\",\n        \"std\": 6,\n        \"min\": 0,\n        \"max\": 29,\n        \"num_unique_values\": 28,\n        \"samples\": [\n          2,\n          29,\n          9\n        ],\n        \"semantic_type\": \"\",\n        \"description\": \"\"\n      }\n    },\n    {\n      \"column\": \"Population\",\n      \"properties\": {\n        \"dtype\": \"number\",\n        \"std\": 147,\n        \"min\": 10,\n        \"max\": 509,\n        \"num_unique_values\": 275,\n        \"samples\": [\n          447,\n          492,\n          467\n        ],\n        \"semantic_type\": \"\",\n        \"description\": \"\"\n      }\n    },\n    {\n      \"column\": \"Price\",\n      \"properties\": {\n        \"dtype\": \"number\",\n        \"std\": 23,\n        \"min\": 24,\n        \"max\": 191,\n        \"num_unique_values\": 101,\n        \"samples\": [\n          64,\n          139,\n          49\n        ],\n        \"semantic_type\": \"\",\n        \"description\": \"\"\n      }\n    },\n    {\n      \"column\": \"ShelveLoc\",\n      \"properties\": {\n        \"dtype\": \"category\",\n        \"num_unique_values\": 3,\n        \"samples\": [\n          \"Bad\",\n          \"Good\",\n          \"Medium\"\n        ],\n        \"semantic_type\": \"\",\n        \"description\": \"\"\n      }\n    },\n    {\n      \"column\": \"Age\",\n      \"properties\": {\n        \"dtype\": \"number\",\n        \"std\": 16,\n        \"min\": 25,\n        \"max\": 80,\n        \"num_unique_values\": 56,\n        \"samples\": [\n          42,\n          78,\n          29\n        ],\n        \"semantic_type\": \"\",\n        \"description\": \"\"\n      }\n    },\n    {\n      \"column\": \"Education\",\n      \"properties\": {\n        \"dtype\": \"number\",\n        \"std\": 2,\n        \"min\": 10,\n        \"max\": 18,\n        \"num_unique_values\": 9,\n        \"samples\": [\n          18,\n          10,\n          16\n        ],\n        \"semantic_type\": \"\",\n        \"description\": \"\"\n      }\n    },\n    {\n      \"column\": \"Urban\",\n      \"properties\": {\n        \"dtype\": \"category\",\n        \"num_unique_values\": 2,\n        \"samples\": [\n          \"No\",\n          \"Yes\"\n        ],\n        \"semantic_type\": \"\",\n        \"description\": \"\"\n      }\n    },\n    {\n      \"column\": \"US\",\n      \"properties\": {\n        \"dtype\": \"category\",\n        \"num_unique_values\": 2,\n        \"samples\": [\n          \"No\",\n          \"Yes\"\n        ],\n        \"semantic_type\": \"\",\n        \"description\": \"\"\n      }\n    }\n  ]\n}"
            }
          },
          "metadata": {},
          "execution_count": 54
        }
      ]
    },
    {
      "cell_type": "markdown",
      "source": [
        "|\t변수명\t|\t설명\t|\t구분\t|\n",
        "|\t----\t|\t----\t|\t----\t|\n",
        "|\tSales \t|\t 각 지역 판매량(단위 : 1000개)\t|\tTarget\t|\n",
        "|\tCompPrice \t|\t지역별 경쟁사 판매가격(달러)\t|\tfeature\t|\n",
        "|\tIncome \t|\t가구당 평균 소득액(1000달러)\t|\tfeature\t|\n",
        "|\tAdvertising \t|\t 각 지역, 회사의 광고 예산(1000달러)\t|\tfeature\t|\n",
        "|\tPopulation \t|\t 지역 인구수(단위 : 1000명)\t|\tfeature\t|\n",
        "|\tPrice \t|\t 자사 지역별 판매가격(달러)\t|\tfeature\t|\n",
        "|\tShelveLoc \t|\t 진열상태(범주 : Bad, Medium, Good)\t|\tfeature\t|\n",
        "|\tAge \t|\t 지역 인구의 평균 연령\t|\tfeature\t|\n",
        "|\tEducation \t|\t 교육수준(범주 : 10~18)\t|\tfeature\t|\n",
        "|\tUrban \t|\t 매장이 도심에 있는지 여부(범주 : Yes, No)\t|\tfeature\t|\n",
        "|\tUS \t|\t 매장이 미국에 있는지 여부(범주 : Yes, No)\t|\tfeature\t|\n"
      ],
      "metadata": {
        "id": "zYKHwYHatC4k"
      }
    },
    {
      "cell_type": "markdown",
      "source": [
        "## 2.데이터 준비"
      ],
      "metadata": {
        "id": "oICMvjzJJKbn"
      }
    },
    {
      "cell_type": "markdown",
      "metadata": {
        "id": "y9Q6jR6OZjUk"
      },
      "source": [
        "### (1) 데이터 준비"
      ]
    },
    {
      "cell_type": "code",
      "metadata": {
        "id": "FA-PnUpcLqXN"
      },
      "source": [
        "target = 'Sales'\n",
        "x = data.drop(target, axis=1)\n",
        "y = data.loc[:, target]"
      ],
      "execution_count": 55,
      "outputs": []
    },
    {
      "cell_type": "markdown",
      "metadata": {
        "id": "nOF9fSLQugGf"
      },
      "source": [
        "### (2) 가변수화"
      ]
    },
    {
      "cell_type": "code",
      "source": [
        "cat_cols = ['ShelveLoc', 'Education', 'US', 'Urban']\n",
        "x = pd.get_dummies(x, columns = cat_cols, drop_first = True)"
      ],
      "metadata": {
        "id": "JXG5cAFRyqjU"
      },
      "execution_count": 56,
      "outputs": []
    },
    {
      "cell_type": "markdown",
      "source": [
        "### (3) 데이터분할"
      ],
      "metadata": {
        "id": "KsGGC-a4vpar"
      }
    },
    {
      "cell_type": "code",
      "source": [
        "x_train, x_val, y_train, y_val = train_test_split(x, y, test_size=.2, random_state = 20)"
      ],
      "metadata": {
        "id": "7ilUcIlvvrqR"
      },
      "execution_count": 57,
      "outputs": []
    },
    {
      "cell_type": "markdown",
      "metadata": {
        "id": "MXUC5Yi3um81"
      },
      "source": [
        "### (4) Scaling"
      ]
    },
    {
      "cell_type": "code",
      "source": [
        "scaler = MinMaxScaler()\n",
        "x_train = scaler.fit_transform(x_train)\n",
        "x_val = scaler.transform(x_val)"
      ],
      "metadata": {
        "id": "9bly3GLif1eP"
      },
      "execution_count": 58,
      "outputs": []
    },
    {
      "cell_type": "markdown",
      "metadata": {
        "id": "or87og8ocYvw"
      },
      "source": [
        "## 3.모델링\n",
        "\n",
        "* 히든레이어를 추가한 모델 두 개 이상을 생성한 후\n",
        "* 성능을 비교하시오.\n",
        "* 성능을 높이기 위해서 조절할 것들\n",
        "    * 히든레이어 수\n",
        "    * 히든레이어 노드수\n",
        "    * epochs 수\n",
        "    * learning_rate : 0.1 ~ 0.0001 사이에서 조정(예 Adam(learning_rate = 0.01))\n"
      ]
    },
    {
      "cell_type": "markdown",
      "source": [
        "### (1) 모델1"
      ],
      "metadata": {
        "id": "0C3BHe_d1suj"
      }
    },
    {
      "cell_type": "markdown",
      "source": [
        "* 모델 설계\n",
        "    * 일단 먼저 손으로 구조를 그려본 후\n",
        "    * 코드로 옮겨 봅시다."
      ],
      "metadata": {
        "id": "MZQ1GyB7vONX"
      }
    },
    {
      "cell_type": "code",
      "source": [
        "nfeatures = x_train.shape[1]\n",
        "nfeatures"
      ],
      "metadata": {
        "id": "fRAnQdBEDrCM",
        "colab": {
          "base_uri": "https://localhost:8080/"
        },
        "outputId": "02c8dd5f-5466-45ec-9708-ee77556f94f6"
      },
      "execution_count": 59,
      "outputs": [
        {
          "output_type": "execute_result",
          "data": {
            "text/plain": [
              "18"
            ]
          },
          "metadata": {},
          "execution_count": 59
        }
      ]
    },
    {
      "cell_type": "code",
      "source": [
        "clear_session()\n",
        "\n",
        "model1 = Sequential([Dense(12,input_shape=(nfeatures,),activation='relu'),\n",
        "                    Dense(6,activation='relu'),\n",
        "                    Dense(1)])\n",
        "\n",
        "model1.summary()"
      ],
      "metadata": {
        "id": "siwyHvr1rmAM",
        "colab": {
          "base_uri": "https://localhost:8080/"
        },
        "outputId": "b3ab24cf-c518-498e-8cc8-1741b57d5b41"
      },
      "execution_count": 60,
      "outputs": [
        {
          "output_type": "stream",
          "name": "stdout",
          "text": [
            "Model: \"sequential\"\n",
            "_________________________________________________________________\n",
            " Layer (type)                Output Shape              Param #   \n",
            "=================================================================\n",
            " dense (Dense)               (None, 12)                228       \n",
            "                                                                 \n",
            " dense_1 (Dense)             (None, 6)                 78        \n",
            "                                                                 \n",
            " dense_2 (Dense)             (None, 1)                 7         \n",
            "                                                                 \n",
            "=================================================================\n",
            "Total params: 313 (1.22 KB)\n",
            "Trainable params: 313 (1.22 KB)\n",
            "Non-trainable params: 0 (0.00 Byte)\n",
            "_________________________________________________________________\n"
          ]
        }
      ]
    },
    {
      "cell_type": "markdown",
      "source": [
        "* 컴파일 + 학습"
      ],
      "metadata": {
        "id": "Sg5XlbcW0w2y"
      }
    },
    {
      "cell_type": "code",
      "source": [
        "model1.compile(optimizer=Adam(learning_rate=0.01),loss='mse')\n",
        "history = model1.fit(x_train,y_train,epochs=50,validation_split=0.2).history"
      ],
      "metadata": {
        "id": "iEZWr_jNwCpr",
        "colab": {
          "base_uri": "https://localhost:8080/"
        },
        "outputId": "86ac0d94-3725-4149-b6f9-b791ba967198"
      },
      "execution_count": 61,
      "outputs": [
        {
          "output_type": "stream",
          "name": "stdout",
          "text": [
            "Epoch 1/50\n",
            "8/8 [==============================] - 1s 29ms/step - loss: 65.5877 - val_loss: 54.2495\n",
            "Epoch 2/50\n",
            "8/8 [==============================] - 0s 10ms/step - loss: 50.2873 - val_loss: 39.4618\n",
            "Epoch 3/50\n",
            "8/8 [==============================] - 0s 10ms/step - loss: 31.8120 - val_loss: 20.1181\n",
            "Epoch 4/50\n",
            "8/8 [==============================] - 0s 11ms/step - loss: 11.6915 - val_loss: 10.9187\n",
            "Epoch 5/50\n",
            "8/8 [==============================] - 0s 9ms/step - loss: 10.5140 - val_loss: 14.1391\n",
            "Epoch 6/50\n",
            "8/8 [==============================] - 0s 10ms/step - loss: 8.6770 - val_loss: 9.6849\n",
            "Epoch 7/50\n",
            "8/8 [==============================] - 0s 9ms/step - loss: 7.3174 - val_loss: 9.1975\n",
            "Epoch 8/50\n",
            "8/8 [==============================] - 0s 10ms/step - loss: 6.8190 - val_loss: 8.8363\n",
            "Epoch 9/50\n",
            "8/8 [==============================] - 0s 9ms/step - loss: 6.1909 - val_loss: 8.9477\n",
            "Epoch 10/50\n",
            "8/8 [==============================] - 0s 11ms/step - loss: 5.9089 - val_loss: 8.4873\n",
            "Epoch 11/50\n",
            "8/8 [==============================] - 0s 12ms/step - loss: 5.4853 - val_loss: 7.9352\n",
            "Epoch 12/50\n",
            "8/8 [==============================] - 0s 11ms/step - loss: 5.2421 - val_loss: 7.6943\n",
            "Epoch 13/50\n",
            "8/8 [==============================] - 0s 11ms/step - loss: 4.9600 - val_loss: 7.7489\n",
            "Epoch 14/50\n",
            "8/8 [==============================] - 0s 11ms/step - loss: 4.7644 - val_loss: 7.3305\n",
            "Epoch 15/50\n",
            "8/8 [==============================] - 0s 10ms/step - loss: 4.5544 - val_loss: 7.0128\n",
            "Epoch 16/50\n",
            "8/8 [==============================] - 0s 8ms/step - loss: 4.2829 - val_loss: 7.0554\n",
            "Epoch 17/50\n",
            "8/8 [==============================] - 0s 5ms/step - loss: 4.1326 - val_loss: 6.7287\n",
            "Epoch 18/50\n",
            "8/8 [==============================] - 0s 6ms/step - loss: 3.9225 - val_loss: 6.1828\n",
            "Epoch 19/50\n",
            "8/8 [==============================] - 0s 6ms/step - loss: 3.6944 - val_loss: 6.0765\n",
            "Epoch 20/50\n",
            "8/8 [==============================] - 0s 5ms/step - loss: 3.5286 - val_loss: 5.8936\n",
            "Epoch 21/50\n",
            "8/8 [==============================] - 0s 6ms/step - loss: 3.3520 - val_loss: 5.3768\n",
            "Epoch 22/50\n",
            "8/8 [==============================] - 0s 6ms/step - loss: 3.1495 - val_loss: 5.4926\n",
            "Epoch 23/50\n",
            "8/8 [==============================] - 0s 8ms/step - loss: 2.9820 - val_loss: 4.8601\n",
            "Epoch 24/50\n",
            "8/8 [==============================] - 0s 6ms/step - loss: 2.8666 - val_loss: 5.1362\n",
            "Epoch 25/50\n",
            "8/8 [==============================] - 0s 6ms/step - loss: 2.6638 - val_loss: 4.5010\n",
            "Epoch 26/50\n",
            "8/8 [==============================] - 0s 7ms/step - loss: 2.5526 - val_loss: 4.5902\n",
            "Epoch 27/50\n",
            "8/8 [==============================] - 0s 6ms/step - loss: 2.3818 - val_loss: 4.1728\n",
            "Epoch 28/50\n",
            "8/8 [==============================] - 0s 6ms/step - loss: 2.3028 - val_loss: 4.0584\n",
            "Epoch 29/50\n",
            "8/8 [==============================] - 0s 5ms/step - loss: 2.1511 - val_loss: 3.8827\n",
            "Epoch 30/50\n",
            "8/8 [==============================] - 0s 5ms/step - loss: 2.0229 - val_loss: 3.6908\n",
            "Epoch 31/50\n",
            "8/8 [==============================] - 0s 5ms/step - loss: 1.9567 - val_loss: 3.5682\n",
            "Epoch 32/50\n",
            "8/8 [==============================] - 0s 6ms/step - loss: 1.8121 - val_loss: 3.5059\n",
            "Epoch 33/50\n",
            "8/8 [==============================] - 0s 6ms/step - loss: 1.7029 - val_loss: 3.3698\n",
            "Epoch 34/50\n",
            "8/8 [==============================] - 0s 5ms/step - loss: 1.6107 - val_loss: 3.2055\n",
            "Epoch 35/50\n",
            "8/8 [==============================] - 0s 5ms/step - loss: 1.5335 - val_loss: 2.9994\n",
            "Epoch 36/50\n",
            "8/8 [==============================] - 0s 5ms/step - loss: 1.4514 - val_loss: 2.9600\n",
            "Epoch 37/50\n",
            "8/8 [==============================] - 0s 5ms/step - loss: 1.3667 - val_loss: 2.8785\n",
            "Epoch 38/50\n",
            "8/8 [==============================] - 0s 6ms/step - loss: 1.3779 - val_loss: 2.6026\n",
            "Epoch 39/50\n",
            "8/8 [==============================] - 0s 5ms/step - loss: 1.2121 - val_loss: 2.8094\n",
            "Epoch 40/50\n",
            "8/8 [==============================] - 0s 6ms/step - loss: 1.2007 - val_loss: 2.4705\n",
            "Epoch 41/50\n",
            "8/8 [==============================] - 0s 5ms/step - loss: 1.1331 - val_loss: 2.3587\n",
            "Epoch 42/50\n",
            "8/8 [==============================] - 0s 6ms/step - loss: 1.0782 - val_loss: 2.2669\n",
            "Epoch 43/50\n",
            "8/8 [==============================] - 0s 5ms/step - loss: 1.0256 - val_loss: 2.2009\n",
            "Epoch 44/50\n",
            "8/8 [==============================] - 0s 6ms/step - loss: 1.0058 - val_loss: 2.1305\n",
            "Epoch 45/50\n",
            "8/8 [==============================] - 0s 6ms/step - loss: 1.0074 - val_loss: 1.9772\n",
            "Epoch 46/50\n",
            "8/8 [==============================] - 0s 5ms/step - loss: 0.9095 - val_loss: 2.0575\n",
            "Epoch 47/50\n",
            "8/8 [==============================] - 0s 7ms/step - loss: 0.8917 - val_loss: 1.9027\n",
            "Epoch 48/50\n",
            "8/8 [==============================] - 0s 6ms/step - loss: 0.9199 - val_loss: 2.1178\n",
            "Epoch 49/50\n",
            "8/8 [==============================] - 0s 6ms/step - loss: 0.8883 - val_loss: 1.8825\n",
            "Epoch 50/50\n",
            "8/8 [==============================] - 0s 6ms/step - loss: 0.8588 - val_loss: 1.8324\n"
          ]
        }
      ]
    },
    {
      "cell_type": "markdown",
      "source": [
        "* 학습곡선"
      ],
      "metadata": {
        "id": "6iLA8c2p00M6"
      }
    },
    {
      "cell_type": "code",
      "source": [
        "dl_history_plot(history)"
      ],
      "metadata": {
        "id": "T9plSoBwwCh8",
        "colab": {
          "base_uri": "https://localhost:8080/",
          "height": 542
        },
        "outputId": "e720ee6f-352f-4440-ea02-30971af24f30"
      },
      "execution_count": 62,
      "outputs": [
        {
          "output_type": "display_data",
          "data": {
            "text/plain": [
              "<Figure size 1000x600 with 1 Axes>"
            ],
            "image/png": "[encoded data removed]"
          },
          "metadata": {}
        }
      ]
    },
    {
      "cell_type": "markdown",
      "source": [
        "* 검증"
      ],
      "metadata": {
        "id": "hVa3Z88902gU"
      }
    },
    {
      "cell_type": "code",
      "source": [
        "pred1 = model1.predict(x_val)\n",
        "print(f'RMSE : {mean_squared_error(y_val, pred1, squared=False)}')\n",
        "print(f'MAE  : {mean_absolute_error(y_val, pred1)}')\n",
        "print(f'MAPE : {mean_absolute_percentage_error(y_val, pred1)}') #y에 0이 있으면 값 측정이 어렵다\n",
        "print(f'r2_score  : {r2_score(y_val, pred1)}')"
      ],
      "metadata": {
        "id": "PTzZV-_DwCY3",
        "colab": {
          "base_uri": "https://localhost:8080/"
        },
        "outputId": "b7683a7a-2249-4bab-f6c3-97b4e3a8cba3"
      },
      "execution_count": 63,
      "outputs": [
        {
          "output_type": "stream",
          "name": "stdout",
          "text": [
            "3/3 [==============================] - 0s 4ms/step\n",
            "RMSE : 1.4348748709896615\n",
            "MAE  : 1.1493283607959746\n",
            "MAPE : 239850730658201.84\n",
            "r2_score  : 0.7694092583480366\n"
          ]
        }
      ]
    },
    {
      "cell_type": "markdown",
      "source": [
        "### (2) 모델2"
      ],
      "metadata": {
        "id": "2S4Bukgz2EJy"
      }
    },
    {
      "cell_type": "markdown",
      "source": [
        "* 모델 설계\n",
        "    * 일단 먼저 손으로 구조를 그려본 후\n",
        "    * 코드로 옮겨 봅시다."
      ],
      "metadata": {
        "id": "xvHNAHE82EJz"
      }
    },
    {
      "cell_type": "code",
      "source": [
        "clear_session()\n",
        "\n",
        "model2 = Sequential([Dense(30,input_shape=(nfeatures,),activation='relu'),\n",
        "                     Dense(40,activation='relu'),\n",
        "                     Dense(4,activation='relu'),\n",
        "                     Dense(1)])\n",
        "\n",
        "model2.summary()"
      ],
      "metadata": {
        "id": "aw4tMHrU2EJz",
        "colab": {
          "base_uri": "https://localhost:8080/"
        },
        "outputId": "c8cbc758-cae5-4806-f490-bebcd69de78d"
      },
      "execution_count": 64,
      "outputs": [
        {
          "output_type": "stream",
          "name": "stdout",
          "text": [
            "Model: \"sequential\"\n",
            "_________________________________________________________________\n",
            " Layer (type)                Output Shape              Param #   \n",
            "=================================================================\n",
            " dense (Dense)               (None, 30)                570       \n",
            "                                                                 \n",
            " dense_1 (Dense)             (None, 40)                1240      \n",
            "                                                                 \n",
            " dense_2 (Dense)             (None, 4)                 164       \n",
            "                                                                 \n",
            " dense_3 (Dense)             (None, 1)                 5         \n",
            "                                                                 \n",
            "=================================================================\n",
            "Total params: 1979 (7.73 KB)\n",
            "Trainable params: 1979 (7.73 KB)\n",
            "Non-trainable params: 0 (0.00 Byte)\n",
            "_________________________________________________________________\n"
          ]
        }
      ]
    },
    {
      "cell_type": "markdown",
      "source": [
        "* 컴파일 + 학습"
      ],
      "metadata": {
        "id": "sIHyxvkQ2EJz"
      }
    },
    {
      "cell_type": "code",
      "source": [
        "model2.compile(optimizer=Adam(learning_rate=0.1),loss='mse')\n",
        "history2 = model2.fit(x_train,y_train,epochs=50,validation_split=0.2).history"
      ],
      "metadata": {
        "id": "otMjNy8_2EJz",
        "colab": {
          "base_uri": "https://localhost:8080/"
        },
        "outputId": "55244eb5-5a3d-4e26-b8ae-d3394e71bbef"
      },
      "execution_count": 65,
      "outputs": [
        {
          "output_type": "stream",
          "name": "stdout",
          "text": [
            "Epoch 1/50\n",
            "8/8 [==============================] - 2s 23ms/step - loss: 46.3724 - val_loss: 45.8247\n",
            "Epoch 2/50\n",
            "8/8 [==============================] - 0s 6ms/step - loss: 37.9851 - val_loss: 14.4311\n",
            "Epoch 3/50\n",
            "8/8 [==============================] - 0s 6ms/step - loss: 10.6229 - val_loss: 6.9844\n",
            "Epoch 4/50\n",
            "8/8 [==============================] - 0s 6ms/step - loss: 7.9958 - val_loss: 7.6883\n",
            "Epoch 5/50\n",
            "8/8 [==============================] - 0s 5ms/step - loss: 7.0022 - val_loss: 7.6121\n",
            "Epoch 6/50\n",
            "8/8 [==============================] - 0s 6ms/step - loss: 5.6090 - val_loss: 6.1719\n",
            "Epoch 7/50\n",
            "8/8 [==============================] - 0s 6ms/step - loss: 4.5963 - val_loss: 7.5670\n",
            "Epoch 8/50\n",
            "8/8 [==============================] - 0s 6ms/step - loss: 4.8125 - val_loss: 5.5773\n",
            "Epoch 9/50\n",
            "8/8 [==============================] - 0s 6ms/step - loss: 4.2477 - val_loss: 5.8538\n",
            "Epoch 10/50\n",
            "8/8 [==============================] - 0s 6ms/step - loss: 3.8315 - val_loss: 5.1782\n",
            "Epoch 11/50\n",
            "8/8 [==============================] - 0s 6ms/step - loss: 3.4462 - val_loss: 4.5584\n",
            "Epoch 12/50\n",
            "8/8 [==============================] - 0s 7ms/step - loss: 3.1590 - val_loss: 4.2044\n",
            "Epoch 13/50\n",
            "8/8 [==============================] - 0s 6ms/step - loss: 2.8221 - val_loss: 3.3121\n",
            "Epoch 14/50\n",
            "8/8 [==============================] - 0s 6ms/step - loss: 2.5078 - val_loss: 3.4497\n",
            "Epoch 15/50\n",
            "8/8 [==============================] - 0s 6ms/step - loss: 2.1697 - val_loss: 2.3855\n",
            "Epoch 16/50\n",
            "8/8 [==============================] - 0s 6ms/step - loss: 1.9731 - val_loss: 2.8391\n",
            "Epoch 17/50\n",
            "8/8 [==============================] - 0s 8ms/step - loss: 1.5898 - val_loss: 1.8717\n",
            "Epoch 18/50\n",
            "8/8 [==============================] - 0s 7ms/step - loss: 1.3383 - val_loss: 1.2450\n",
            "Epoch 19/50\n",
            "8/8 [==============================] - 0s 6ms/step - loss: 1.5499 - val_loss: 2.3237\n",
            "Epoch 20/50\n",
            "8/8 [==============================] - 0s 6ms/step - loss: 1.9262 - val_loss: 2.5022\n",
            "Epoch 21/50\n",
            "8/8 [==============================] - 0s 6ms/step - loss: 1.5747 - val_loss: 1.3835\n",
            "Epoch 22/50\n",
            "8/8 [==============================] - 0s 9ms/step - loss: 1.1698 - val_loss: 1.5259\n",
            "Epoch 23/50\n",
            "8/8 [==============================] - 0s 9ms/step - loss: 1.1367 - val_loss: 1.4264\n",
            "Epoch 24/50\n",
            "8/8 [==============================] - 0s 6ms/step - loss: 1.4217 - val_loss: 1.6261\n",
            "Epoch 25/50\n",
            "8/8 [==============================] - 0s 6ms/step - loss: 1.1740 - val_loss: 1.4772\n",
            "Epoch 26/50\n",
            "8/8 [==============================] - 0s 8ms/step - loss: 1.3662 - val_loss: 1.7632\n",
            "Epoch 27/50\n",
            "8/8 [==============================] - 0s 7ms/step - loss: 1.4034 - val_loss: 1.3703\n",
            "Epoch 28/50\n",
            "8/8 [==============================] - 0s 7ms/step - loss: 1.4030 - val_loss: 2.1796\n",
            "Epoch 29/50\n",
            "8/8 [==============================] - 0s 6ms/step - loss: 1.4961 - val_loss: 1.4656\n",
            "Epoch 30/50\n",
            "8/8 [==============================] - 0s 7ms/step - loss: 1.1000 - val_loss: 1.2764\n",
            "Epoch 31/50\n",
            "8/8 [==============================] - 0s 6ms/step - loss: 1.0852 - val_loss: 1.8802\n",
            "Epoch 32/50\n",
            "8/8 [==============================] - 0s 6ms/step - loss: 1.3052 - val_loss: 1.4363\n",
            "Epoch 33/50\n",
            "8/8 [==============================] - 0s 6ms/step - loss: 1.0391 - val_loss: 1.2711\n",
            "Epoch 34/50\n",
            "8/8 [==============================] - 0s 6ms/step - loss: 1.0864 - val_loss: 1.3805\n",
            "Epoch 35/50\n",
            "8/8 [==============================] - 0s 6ms/step - loss: 1.0266 - val_loss: 1.2387\n",
            "Epoch 36/50\n",
            "8/8 [==============================] - 0s 6ms/step - loss: 1.0331 - val_loss: 1.2830\n",
            "Epoch 37/50\n",
            "8/8 [==============================] - 0s 6ms/step - loss: 1.0105 - val_loss: 1.3273\n",
            "Epoch 38/50\n",
            "8/8 [==============================] - 0s 6ms/step - loss: 0.9737 - val_loss: 1.3086\n",
            "Epoch 39/50\n",
            "8/8 [==============================] - 0s 6ms/step - loss: 1.2174 - val_loss: 1.3518\n",
            "Epoch 40/50\n",
            "8/8 [==============================] - 0s 6ms/step - loss: 1.2292 - val_loss: 1.5571\n",
            "Epoch 41/50\n",
            "8/8 [==============================] - 0s 6ms/step - loss: 1.1101 - val_loss: 1.4714\n",
            "Epoch 42/50\n",
            "8/8 [==============================] - 0s 6ms/step - loss: 0.9788 - val_loss: 1.6006\n",
            "Epoch 43/50\n",
            "8/8 [==============================] - 0s 6ms/step - loss: 1.3163 - val_loss: 1.4831\n",
            "Epoch 44/50\n",
            "8/8 [==============================] - 0s 6ms/step - loss: 1.3161 - val_loss: 1.9120\n",
            "Epoch 45/50\n",
            "8/8 [==============================] - 0s 6ms/step - loss: 1.0411 - val_loss: 1.3222\n",
            "Epoch 46/50\n",
            "8/8 [==============================] - 0s 6ms/step - loss: 0.9860 - val_loss: 1.4912\n",
            "Epoch 47/50\n",
            "8/8 [==============================] - 0s 6ms/step - loss: 1.0675 - val_loss: 1.2163\n",
            "Epoch 48/50\n",
            "8/8 [==============================] - 0s 6ms/step - loss: 1.1070 - val_loss: 2.1532\n",
            "Epoch 49/50\n",
            "8/8 [==============================] - 0s 6ms/step - loss: 1.2907 - val_loss: 1.3903\n",
            "Epoch 50/50\n",
            "8/8 [==============================] - 0s 6ms/step - loss: 1.1309 - val_loss: 1.5824\n"
          ]
        }
      ]
    },
    {
      "cell_type": "markdown",
      "source": [
        "* 학습곡선"
      ],
      "metadata": {
        "id": "MeI5tI2o2EJz"
      }
    },
    {
      "cell_type": "code",
      "source": [
        "dl_history_plot(history2)"
      ],
      "metadata": {
        "id": "L1QtsDLf2EJz",
        "colab": {
          "base_uri": "https://localhost:8080/",
          "height": 542
        },
        "outputId": "7179cdbf-34e7-42f5-bd11-061288e53610"
      },
      "execution_count": 66,
      "outputs": [
        {
          "output_type": "display_data",
          "data": {
            "text/plain": [
              "<Figure size 1000x600 with 1 Axes>"
            ],
            "image/png": "[encoded data removed]"
          },
          "metadata": {}
        }
      ]
    },
    {
      "cell_type": "markdown",
      "source": [
        "* 검증"
      ],
      "metadata": {
        "id": "5iBe6i1d2EJ0"
      }
    },
    {
      "cell_type": "code",
      "source": [
        "pred2 = model2.predict(x_val)\n",
        "print(f'RMSE : {mean_squared_error(y_val, pred2, squared=False)}')\n",
        "print(f'MAE  : {mean_absolute_error(y_val, pred2)}')\n",
        "print(f'MAPE : {mean_absolute_percentage_error(y_val, pred2)}')\n",
        "print(f'r2_score  : {r2_score(y_val, pred2)}')"
      ],
      "metadata": {
        "id": "POTQyyuW2EJ0",
        "colab": {
          "base_uri": "https://localhost:8080/"
        },
        "outputId": "a4e459e2-f0cf-44f4-da30-c99166ebb593"
      },
      "execution_count": 67,
      "outputs": [
        {
          "output_type": "stream",
          "name": "stdout",
          "text": [
            "3/3 [==============================] - 0s 3ms/step\n",
            "RMSE : 1.4229989210241085\n",
            "MAE  : 1.147082058906555\n",
            "MAPE : 151209544725299.44\n",
            "r2_score  : 0.7732104976547791\n"
          ]
        }
      ]
    },
    {
      "cell_type": "markdown",
      "metadata": {
        "id": "F-gjdyri4M6H"
      },
      "source": [
        "## 4.추가 실험1\n",
        "\n",
        "* Hidden Layer 1개\n",
        "    * 노드 : 2, 5, 10, 20, 30, 40, 50, 60, 70, 80, 90, 100, 110, 120, 130, 140, 150\n",
        "* 모델링 코드를 함수로 생성\n",
        "    * 입력 : 노드 수\n",
        "    * 출력(return) : validation 성능(MAE)\n",
        "* for loop로 반복 실행\n",
        "\n",
        "\n"
      ]
    },
    {
      "cell_type": "markdown",
      "source": [
        "### (1) 모델링 함수 생성"
      ],
      "metadata": {
        "id": "yT2jzDOg4M6I"
      }
    },
    {
      "cell_type": "code",
      "source": [
        "nfeatyres = x_train.shape[1]\n",
        "\n",
        "def modeling_test1(node) :\n",
        "\n",
        "    # 노드 수를 입력 받아 모델 선언\n",
        "    clear_session()\n",
        "    model = Sequential([Dense(node ,input_shape = (nfeatures,)  , activation = 'relu' ),\n",
        "                        Dense(1) ] )\n",
        "\n",
        "    model.compile(optimizer=Adam(learning_rate = 0.01), loss = 'mse')\n",
        "    model.fit(x_train, y_train, epochs = 50, verbose = False)\n",
        "\n",
        "    pred = model.predict(x_val)\n",
        "    mae = mean_absolute_error(y_val, pred)\n",
        "\n",
        "    # mae 결과 return\n",
        "    return mae"
      ],
      "metadata": {
        "id": "xPjFUjJP4uqe"
      },
      "execution_count": 68,
      "outputs": []
    },
    {
      "cell_type": "markdown",
      "source": [
        "### (2) 반복실행"
      ],
      "metadata": {
        "id": "H0egbeGK5UKU"
      }
    },
    {
      "cell_type": "code",
      "source": [
        "nodes = [2, 5, 10, 20, 30, 40, 50, 60, 70, 80, 90, 100, 110, 120, 130, 140, 150]\n",
        "result = []\n",
        "for n in nodes :\n",
        "    result.append(modeling_test1(n))"
      ],
      "metadata": {
        "id": "sdpUtk8R5UKV",
        "colab": {
          "base_uri": "https://localhost:8080/"
        },
        "outputId": "40a17f0b-2f8e-480e-e0b5-b2e4f8970eaf"
      },
      "execution_count": 69,
      "outputs": [
        {
          "output_type": "stream",
          "name": "stdout",
          "text": [
            "3/3 [==============================] - 0s 4ms/step\n",
            "3/3 [==============================] - 0s 4ms/step\n",
            "3/3 [==============================] - 0s 4ms/step\n",
            "3/3 [==============================] - 0s 6ms/step\n",
            "3/3 [==============================] - 0s 2ms/step\n",
            "3/3 [==============================] - 0s 4ms/step\n",
            "3/3 [==============================] - 0s 4ms/step\n",
            "3/3 [==============================] - 0s 4ms/step\n",
            "3/3 [==============================] - 0s 4ms/step\n",
            "3/3 [==============================] - 0s 4ms/step\n",
            "3/3 [==============================] - 0s 3ms/step\n",
            "3/3 [==============================] - 0s 3ms/step\n",
            "3/3 [==============================] - 0s 3ms/step\n",
            "3/3 [==============================] - 0s 3ms/step\n",
            "3/3 [==============================] - 0s 3ms/step\n",
            "3/3 [==============================] - 0s 3ms/step\n",
            "3/3 [==============================] - 0s 3ms/step\n",
            "3/3 [==============================] - 0s 5ms/step\n",
            "3/3 [==============================] - 0s 4ms/step\n",
            "3/3 [==============================] - 0s 3ms/step\n",
            "3/3 [==============================] - 0s 3ms/step\n",
            "3/3 [==============================] - 0s 3ms/step\n",
            "3/3 [==============================] - 0s 3ms/step\n",
            "3/3 [==============================] - 0s 3ms/step\n",
            "3/3 [==============================] - 0s 3ms/step\n",
            "3/3 [==============================] - 0s 3ms/step\n",
            "3/3 [==============================] - 0s 3ms/step\n",
            "3/3 [==============================] - 0s 3ms/step\n"
          ]
        }
      ]
    },
    {
      "cell_type": "code",
      "source": [
        "plt.plot(nodes, result)\n",
        "plt.grid()\n",
        "plt.show()"
      ],
      "metadata": {
        "id": "L5rTuldA5-13",
        "colab": {
          "base_uri": "https://localhost:8080/",
          "height": 430
        },
        "outputId": "b857fe3d-559b-42a5-eda2-7b5f5d778228"
      },
      "execution_count": 70,
      "outputs": [
        {
          "output_type": "display_data",
          "data": {
            "text/plain": [
              "<Figure size 640x480 with 1 Axes>"
            ],
            "image/png": "[encoded data removed]"
          },
          "metadata": {}
        }
      ]
    },
    {
      "cell_type": "markdown",
      "metadata": {
        "id": "QZNYTNbN7Dks"
      },
      "source": [
        "## 5.추가 실험2\n",
        "\n",
        "* Hidden Layer 수 : 1,2,3,4,5,6,7,8,9,10\n",
        "    * 각 레이어의 노드 수 : 10개\n",
        "* 함수 생성\n",
        "    * 입력 : 레이어 수\n",
        "    * 출력(return) : validation 성능(MAE)\n",
        "* for loop로 반복 실행\n",
        "\n",
        "\n"
      ]
    },
    {
      "cell_type": "markdown",
      "source": [
        "### (1) 모델링 함수 생성"
      ],
      "metadata": {
        "id": "kGIiuzrv7Dkt"
      }
    },
    {
      "cell_type": "code",
      "source": [
        "nefatures = x_train.shape[1]\n",
        "\n",
        "def modeling_test2(layer) :\n",
        "\n",
        "    # 레이어 리스트 만들기\n",
        "    # 레이어 수 만큼 리스트에 레이어 추가\n",
        "\n",
        "    clear_session()\n",
        "\n",
        "    # 첫번째 레이어는 input_shape가 필요.\n",
        "    layer_list = [Dense(10 ,input_shape = (nfeatures,)  , activation = 'relu' )]\n",
        "\n",
        "    # 주어진 레이어 수에 맞게 레이어 추가\n",
        "    for i in range(2, layer) :  # 첫번째 레이어, 아웃풋 레이어는 명시적으로 추가하므로 2부터 시작\n",
        "        layer_list.append(Dense(10 , activation = 'relu' ))\n",
        "\n",
        "    # Output Layer 추가하고 모델 선언\n",
        "    layer_list.append(Dense(1))\n",
        "    model = Sequential(layer_list)\n",
        "\n",
        "    # 레이어 잘 추가된 건지 확인하기 위해 summary 출력\n",
        "    print(model.summary())\n",
        "\n",
        "    model.compile(optimizer=Adam(learning_rate = 0.01), loss = 'mse')\n",
        "    model.fit(x_train, y_train, epochs = 50, verbose = False)\n",
        "\n",
        "    pred = model.predict(x_val)\n",
        "    mae = mean_absolute_error(y_val, pred)\n",
        "\n",
        "    return mae\n"
      ],
      "metadata": {
        "id": "s1WkZDnP7Dkt"
      },
      "execution_count": 71,
      "outputs": []
    },
    {
      "cell_type": "markdown",
      "source": [
        "### (2) 반복실행"
      ],
      "metadata": {
        "id": "4lTS_ghY7Dku"
      }
    },
    {
      "cell_type": "code",
      "source": [
        "layers = list(range(1,11))\n",
        "result = []\n",
        "for l in layers :\n",
        "    result.append(modeling_test2(l))"
      ],
      "metadata": {
        "id": "emEJLgu_7Dku",
        "colab": {
          "base_uri": "https://localhost:8080/"
        },
        "outputId": "d1968b4d-d01c-45c5-85b6-59b5a920738a"
      },
      "execution_count": 72,
      "outputs": [
        {
          "output_type": "stream",
          "name": "stdout",
          "text": [
            "Model: \"sequential\"\n",
            "_________________________________________________________________\n",
            " Layer (type)                Output Shape              Param #   \n",
            "=================================================================\n",
            " dense (Dense)               (None, 10)                190       \n",
            "                                                                 \n",
            " dense_1 (Dense)             (None, 1)                 11        \n",
            "                                                                 \n",
            "=================================================================\n",
            "Total params: 201 (804.00 Byte)\n",
            "Trainable params: 201 (804.00 Byte)\n",
            "Non-trainable params: 0 (0.00 Byte)\n",
            "_________________________________________________________________\n",
            "None\n",
            "3/3 [==============================] - 0s 3ms/step\n",
            "Model: \"sequential\"\n",
            "_________________________________________________________________\n",
            " Layer (type)                Output Shape              Param #   \n",
            "=================================================================\n",
            " dense (Dense)               (None, 10)                190       \n",
            "                                                                 \n",
            " dense_1 (Dense)             (None, 1)                 11        \n",
            "                                                                 \n",
            "=================================================================\n",
            "Total params: 201 (804.00 Byte)\n",
            "Trainable params: 201 (804.00 Byte)\n",
            "Non-trainable params: 0 (0.00 Byte)\n",
            "_________________________________________________________________\n",
            "None\n",
            "3/3 [==============================] - 0s 3ms/step\n",
            "Model: \"sequential\"\n",
            "_________________________________________________________________\n",
            " Layer (type)                Output Shape              Param #   \n",
            "=================================================================\n",
            " dense (Dense)               (None, 10)                190       \n",
            "                                                                 \n",
            " dense_1 (Dense)             (None, 10)                110       \n",
            "                                                                 \n",
            " dense_2 (Dense)             (None, 1)                 11        \n",
            "                                                                 \n",
            "=================================================================\n",
            "Total params: 311 (1.21 KB)\n",
            "Trainable params: 311 (1.21 KB)\n",
            "Non-trainable params: 0 (0.00 Byte)\n",
            "_________________________________________________________________\n",
            "None\n",
            "3/3 [==============================] - 0s 3ms/step\n",
            "Model: \"sequential\"\n",
            "_________________________________________________________________\n",
            " Layer (type)                Output Shape              Param #   \n",
            "=================================================================\n",
            " dense (Dense)               (None, 10)                190       \n",
            "                                                                 \n",
            " dense_1 (Dense)             (None, 10)                110       \n",
            "                                                                 \n",
            " dense_2 (Dense)             (None, 10)                110       \n",
            "                                                                 \n",
            " dense_3 (Dense)             (None, 1)                 11        \n",
            "                                                                 \n",
            "=================================================================\n",
            "Total params: 421 (1.64 KB)\n",
            "Trainable params: 421 (1.64 KB)\n",
            "Non-trainable params: 0 (0.00 Byte)\n",
            "_________________________________________________________________\n",
            "None\n",
            "3/3 [==============================] - 0s 3ms/step\n",
            "Model: \"sequential\"\n",
            "_________________________________________________________________\n",
            " Layer (type)                Output Shape              Param #   \n",
            "=================================================================\n",
            " dense (Dense)               (None, 10)                190       \n",
            "                                                                 \n",
            " dense_1 (Dense)             (None, 10)                110       \n",
            "                                                                 \n",
            " dense_2 (Dense)             (None, 10)                110       \n",
            "                                                                 \n",
            " dense_3 (Dense)             (None, 10)                110       \n",
            "                                                                 \n",
            " dense_4 (Dense)             (None, 1)                 11        \n",
            "                                                                 \n",
            "=================================================================\n",
            "Total params: 531 (2.07 KB)\n",
            "Trainable params: 531 (2.07 KB)\n",
            "Non-trainable params: 0 (0.00 Byte)\n",
            "_________________________________________________________________\n",
            "None\n",
            "3/3 [==============================] - 0s 3ms/step\n",
            "Model: \"sequential\"\n",
            "_________________________________________________________________\n",
            " Layer (type)                Output Shape              Param #   \n",
            "=================================================================\n",
            " dense (Dense)               (None, 10)                190       \n",
            "                                                                 \n",
            " dense_1 (Dense)             (None, 10)                110       \n",
            "                                                                 \n",
            " dense_2 (Dense)             (None, 10)                110       \n",
            "                                                                 \n",
            " dense_3 (Dense)             (None, 10)                110       \n",
            "                                                                 \n",
            " dense_4 (Dense)             (None, 10)                110       \n",
            "                                                                 \n",
            " dense_5 (Dense)             (None, 1)                 11        \n",
            "                                                                 \n",
            "=================================================================\n",
            "Total params: 641 (2.50 KB)\n",
            "Trainable params: 641 (2.50 KB)\n",
            "Non-trainable params: 0 (0.00 Byte)\n",
            "_________________________________________________________________\n",
            "None\n",
            "3/3 [==============================] - 0s 4ms/step\n",
            "Model: \"sequential\"\n",
            "_________________________________________________________________\n",
            " Layer (type)                Output Shape              Param #   \n",
            "=================================================================\n",
            " dense (Dense)               (None, 10)                190       \n",
            "                                                                 \n",
            " dense_1 (Dense)             (None, 10)                110       \n",
            "                                                                 \n",
            " dense_2 (Dense)             (None, 10)                110       \n",
            "                                                                 \n",
            " dense_3 (Dense)             (None, 10)                110       \n",
            "                                                                 \n",
            " dense_4 (Dense)             (None, 10)                110       \n",
            "                                                                 \n",
            " dense_5 (Dense)             (None, 10)                110       \n",
            "                                                                 \n",
            " dense_6 (Dense)             (None, 1)                 11        \n",
            "                                                                 \n",
            "=================================================================\n",
            "Total params: 751 (2.93 KB)\n",
            "Trainable params: 751 (2.93 KB)\n",
            "Non-trainable params: 0 (0.00 Byte)\n",
            "_________________________________________________________________\n",
            "None\n",
            "3/3 [==============================] - 0s 4ms/step\n",
            "Model: \"sequential\"\n",
            "_________________________________________________________________\n",
            " Layer (type)                Output Shape              Param #   \n",
            "=================================================================\n",
            " dense (Dense)               (None, 10)                190       \n",
            "                                                                 \n",
            " dense_1 (Dense)             (None, 10)                110       \n",
            "                                                                 \n",
            " dense_2 (Dense)             (None, 10)                110       \n",
            "                                                                 \n",
            " dense_3 (Dense)             (None, 10)                110       \n",
            "                                                                 \n",
            " dense_4 (Dense)             (None, 10)                110       \n",
            "                                                                 \n",
            " dense_5 (Dense)             (None, 10)                110       \n",
            "                                                                 \n",
            " dense_6 (Dense)             (None, 10)                110       \n",
            "                                                                 \n",
            " dense_7 (Dense)             (None, 1)                 11        \n",
            "                                                                 \n",
            "=================================================================\n",
            "Total params: 861 (3.36 KB)\n",
            "Trainable params: 861 (3.36 KB)\n",
            "Non-trainable params: 0 (0.00 Byte)\n",
            "_________________________________________________________________\n",
            "None\n",
            "3/3 [==============================] - 0s 4ms/step\n",
            "Model: \"sequential\"\n",
            "_________________________________________________________________\n",
            " Layer (type)                Output Shape              Param #   \n",
            "=================================================================\n",
            " dense (Dense)               (None, 10)                190       \n",
            "                                                                 \n",
            " dense_1 (Dense)             (None, 10)                110       \n",
            "                                                                 \n",
            " dense_2 (Dense)             (None, 10)                110       \n",
            "                                                                 \n",
            " dense_3 (Dense)             (None, 10)                110       \n",
            "                                                                 \n",
            " dense_4 (Dense)             (None, 10)                110       \n",
            "                                                                 \n",
            " dense_5 (Dense)             (None, 10)                110       \n",
            "                                                                 \n",
            " dense_6 (Dense)             (None, 10)                110       \n",
            "                                                                 \n",
            " dense_7 (Dense)             (None, 10)                110       \n",
            "                                                                 \n",
            " dense_8 (Dense)             (None, 1)                 11        \n",
            "                                                                 \n",
            "=================================================================\n",
            "Total params: 971 (3.79 KB)\n",
            "Trainable params: 971 (3.79 KB)\n",
            "Non-trainable params: 0 (0.00 Byte)\n",
            "_________________________________________________________________\n",
            "None\n",
            "3/3 [==============================] - 0s 6ms/step\n",
            "Model: \"sequential\"\n",
            "_________________________________________________________________\n",
            " Layer (type)                Output Shape              Param #   \n",
            "=================================================================\n",
            " dense (Dense)               (None, 10)                190       \n",
            "                                                                 \n",
            " dense_1 (Dense)             (None, 10)                110       \n",
            "                                                                 \n",
            " dense_2 (Dense)             (None, 10)                110       \n",
            "                                                                 \n",
            " dense_3 (Dense)             (None, 10)                110       \n",
            "                                                                 \n",
            " dense_4 (Dense)             (None, 10)                110       \n",
            "                                                                 \n",
            " dense_5 (Dense)             (None, 10)                110       \n",
            "                                                                 \n",
            " dense_6 (Dense)             (None, 10)                110       \n",
            "                                                                 \n",
            " dense_7 (Dense)             (None, 10)                110       \n",
            "                                                                 \n",
            " dense_8 (Dense)             (None, 10)                110       \n",
            "                                                                 \n",
            " dense_9 (Dense)             (None, 1)                 11        \n",
            "                                                                 \n",
            "=================================================================\n",
            "Total params: 1081 (4.22 KB)\n",
            "Trainable params: 1081 (4.22 KB)\n",
            "Non-trainable params: 0 (0.00 Byte)\n",
            "_________________________________________________________________\n",
            "None\n",
            "3/3 [==============================] - 0s 3ms/step\n"
          ]
        }
      ]
    },
    {
      "cell_type": "code",
      "source": [
        "plt.plot(layers, result)\n",
        "plt.grid()\n",
        "plt.show()"
      ],
      "metadata": {
        "id": "ivZXjapc8pf-",
        "colab": {
          "base_uri": "https://localhost:8080/",
          "height": 1000
        },
        "outputId": "71e4af43-e356-4db5-b490-3d66744b9ada"
      },
      "execution_count": 73,
      "outputs": [
        {
          "data": {
            "image/png": "[encoded data removed]",
            "text/plain": [
              "<Figure size 640x480 with 1 Axes>"
            ]
          },
          "metadata": {},
          "output_type": "display_data"
        },
        {
          "output_type": "display_data",
          "data": {
            "text/plain": [
              "<Figure size 640x480 with 1 Axes>"
            ],
            "image/png": "[encoded data removed]"
          },
          "metadata": {}
        },
        {
          "output_type": "display_data",
          "data": {
            "text/plain": [
              "<Figure size 640x480 with 1 Axes>"
            ],
            "image/png": "[encoded data removed]"
          },
          "metadata": {}
        }
      ]
    }
  ]
}