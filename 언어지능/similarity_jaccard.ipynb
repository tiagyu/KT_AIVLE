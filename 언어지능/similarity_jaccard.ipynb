{
 "cells": [
  {
   "cell_type": "code",
   "execution_count": 3,
   "metadata": {},
   "outputs": [
    {
     "name": "stdout",
     "output_type": "stream",
     "text": [
      "0.3333333333333333\n",
      "0.3333333333333333\n",
      "0.0\n",
      "0.75\n",
      "0.5\n"
     ]
    }
   ],
   "source": [
    "import numpy as np\n",
    "from sklearn.metrics import accuracy_score\n",
    "a = np.array([1,3,2])\n",
    "b = np.array([1,4,5])\n",
    "c = np.array([4,1,5])\n",
    "d = np.array([1,1,0,0])\n",
    "e = np.array([1,1,0,2])\n",
    "f = np.array([1,0,1,0])\n",
    "print(accuracy_score(a,b))\n",
    "print(accuracy_score(b,c)) #순서도 중요함\n",
    "print(accuracy_score(a,c))\n",
    "print(accuracy_score(d,e))\n",
    "print(accuracy_score(d,f))"
   ]
  }
 ],
 "metadata": {
  "kernelspec": {
   "display_name": "Python 3",
   "language": "python",
   "name": "python3"
  },
  "language_info": {
   "codemirror_mode": {
    "name": "ipython",
    "version": 3
   },
   "file_extension": ".py",
   "mimetype": "text/x-python",
   "name": "python",
   "nbconvert_exporter": "python",
   "pygments_lexer": "ipython3",
   "version": "3.12.0"
  }
 },
 "nbformat": 4,
 "nbformat_minor": 2
}
