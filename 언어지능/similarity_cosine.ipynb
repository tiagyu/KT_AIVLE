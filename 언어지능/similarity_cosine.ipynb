{
 "cells": [
  {
   "cell_type": "code",
   "execution_count": 5,
   "metadata": {},
   "outputs": [],
   "source": [
    "# !pip install scikit-learn"
   ]
  },
  {
   "cell_type": "code",
   "execution_count": 5,
   "metadata": {},
   "outputs": [
    {
     "name": "stdout",
     "output_type": "stream",
     "text": [
      "<Compressed Sparse Row sparse matrix of dtype 'float64'\n",
      "\twith 14 stored elements and shape (2, 13)>\n",
      "  Coords\tValues\n",
      "  (0, 7)\t0.3920440146223274\n",
      "  (0, 11)\t0.3920440146223274\n",
      "  (0, 8)\t0.3920440146223274\n",
      "  (0, 1)\t0.3920440146223274\n",
      "  (0, 4)\t0.3920440146223274\n",
      "  (0, 6)\t0.3920440146223274\n",
      "  (0, 9)\t0.2789425453258252\n",
      "  (1, 9)\t0.2789425453258252\n",
      "  (1, 10)\t0.3920440146223274\n",
      "  (1, 12)\t0.3920440146223274\n",
      "  (1, 2)\t0.3920440146223274\n",
      "  (1, 0)\t0.3920440146223274\n",
      "  (1, 5)\t0.3920440146223274\n",
      "  (1, 3)\t0.3920440146223274\n",
      "[[1.]]\n",
      "[[0.07780894]]\n"
     ]
    }
   ],
   "source": [
    "from sklearn.feature_extraction.text import TfidfVectorizer\n",
    "from sklearn.metrics.pairwise import cosine_similarity\n",
    "sentence = (\"오늘도 폭염이 이어졌는데요, 내일은 반가운 비 소식이 있습니다.\",\n",
    "            \"폭염을 피해 놀러왔다가 갑작스런 비로 망연자실하고 있습니다.\")\n",
    "vector = TfidfVectorizer(max_features=100) #100사이즈로 100개의 vector를 생성\n",
    "tfidf_vector = vector.fit_transform(sentence) #sentece의 문장을 100개의 vector로 생성\n",
    "print(tfidf_vector)\n",
    "print(cosine_similarity(tfidf_vector[0], tfidf_vector[0]))\n",
    "print(cosine_similarity(tfidf_vector[0], tfidf_vector[1]))"
   ]
  }
 ],
 "metadata": {
  "kernelspec": {
   "display_name": "Python 3",
   "language": "python",
   "name": "python3"
  },
  "language_info": {
   "codemirror_mode": {
    "name": "ipython",
    "version": 3
   },
   "file_extension": ".py",
   "mimetype": "text/x-python",
   "name": "python",
   "nbconvert_exporter": "python",
   "pygments_lexer": "ipython3",
   "version": "3.12.0"
  }
 },
 "nbformat": 4,
 "nbformat_minor": 2
}
