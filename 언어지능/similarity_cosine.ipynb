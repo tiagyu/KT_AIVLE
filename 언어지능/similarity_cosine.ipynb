{
 "cells": [
  {
   "cell_type": "code",
   "execution_count": 5,
   "metadata": {},
   "outputs": [],
   "source": [
    "# !pip install scikit-learn"
   ]
  },
  {
   "cell_type": "code",
   "execution_count": 6,
   "metadata": {},
   "outputs": [
    {
     "name": "stdout",
     "output_type": "stream",
     "text": [
      "[[1.]]\n",
      "[[0.07780894]]\n"
     ]
    }
   ],
   "source": [
    "from sklearn.feature_extraction.text import TfidfVectorizer\n",
    "from sklearn.metrics.pairwise import cosine_similarity\n",
    "sentence = (\"오늘도 폭염이 이어졌는데요, 내일은 반가운 비 소식이 있습니다.\",\n",
    "            \"폭염을 피해 놀러왔다가 갑작스런 비로 망연자실하고 있습니다.\")\n",
    "vector = TfidfVectorizer(max_features=100) #100사이즈로 100개의 vector를 생성\n",
    "tfidf_vector = vector.fit_transform(sentence) #sentece의 문장을 100개의 vector로 생성\n",
    "print(cosine_similarity(tfidf_vector[0], tfidf_vector[0]))\n",
    "print(cosine_similarity(tfidf_vector[0], tfidf_vector[1]))"
   ]
  }
 ],
 "metadata": {
  "kernelspec": {
   "display_name": "Python 3",
   "language": "python",
   "name": "python3"
  },
  "language_info": {
   "codemirror_mode": {
    "name": "ipython",
    "version": 3
   },
   "file_extension": ".py",
   "mimetype": "text/x-python",
   "name": "python",
   "nbconvert_exporter": "python",
   "pygments_lexer": "ipython3",
   "version": "3.12.0"
  }
 },
 "nbformat": 4,
 "nbformat_minor": 2
}
